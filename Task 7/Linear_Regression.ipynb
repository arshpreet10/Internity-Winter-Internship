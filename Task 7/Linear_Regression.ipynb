{
  "nbformat": 4,
  "nbformat_minor": 0,
  "metadata": {
    "colab": {
      "name": "Linear Regression.ipynb",
      "provenance": [],
      "authorship_tag": "ABX9TyN9QOlNhi7LLfDKzxIYLpez",
      "include_colab_link": true
    },
    "kernelspec": {
      "name": "python3",
      "display_name": "Python 3"
    }
  },
  "cells": [
    {
      "cell_type": "markdown",
      "metadata": {
        "id": "view-in-github",
        "colab_type": "text"
      },
      "source": [
        "<a href=\"https://colab.research.google.com/github/arshpreet10/Internity-Winter-Internship/blob/main/Linear_Regression.ipynb\" target=\"_parent\"><img src=\"https://colab.research.google.com/assets/colab-badge.svg\" alt=\"Open In Colab\"/></a>"
      ]
    },
    {
      "cell_type": "code",
      "metadata": {
        "id": "AGqZWf1GhRlp"
      },
      "source": [
        "import numpy as np\r\n",
        "import pandas as pd\r\n",
        "import matplotlib.pyplot as plt"
      ],
      "execution_count": null,
      "outputs": []
    },
    {
      "cell_type": "code",
      "metadata": {
        "id": "detHtuofjXHm"
      },
      "source": [
        "df = pd.read_csv('advertising.csv')"
      ],
      "execution_count": null,
      "outputs": []
    },
    {
      "cell_type": "code",
      "metadata": {
        "colab": {
          "base_uri": "https://localhost:8080/",
          "height": 195
        },
        "id": "L90kqb4pjnAr",
        "outputId": "9a56499d-f6e6-4b59-dffe-6fbd9908e29a"
      },
      "source": [
        "df.head()"
      ],
      "execution_count": null,
      "outputs": [
        {
          "output_type": "execute_result",
          "data": {
            "text/html": [
              "<div>\n",
              "<style scoped>\n",
              "    .dataframe tbody tr th:only-of-type {\n",
              "        vertical-align: middle;\n",
              "    }\n",
              "\n",
              "    .dataframe tbody tr th {\n",
              "        vertical-align: top;\n",
              "    }\n",
              "\n",
              "    .dataframe thead th {\n",
              "        text-align: right;\n",
              "    }\n",
              "</style>\n",
              "<table border=\"1\" class=\"dataframe\">\n",
              "  <thead>\n",
              "    <tr style=\"text-align: right;\">\n",
              "      <th></th>\n",
              "      <th>TV</th>\n",
              "      <th>Radio</th>\n",
              "      <th>Newspaper</th>\n",
              "      <th>Sales</th>\n",
              "    </tr>\n",
              "  </thead>\n",
              "  <tbody>\n",
              "    <tr>\n",
              "      <th>0</th>\n",
              "      <td>230.1</td>\n",
              "      <td>37.8</td>\n",
              "      <td>69.2</td>\n",
              "      <td>22.1</td>\n",
              "    </tr>\n",
              "    <tr>\n",
              "      <th>1</th>\n",
              "      <td>44.5</td>\n",
              "      <td>39.3</td>\n",
              "      <td>45.1</td>\n",
              "      <td>10.4</td>\n",
              "    </tr>\n",
              "    <tr>\n",
              "      <th>2</th>\n",
              "      <td>17.2</td>\n",
              "      <td>45.9</td>\n",
              "      <td>69.3</td>\n",
              "      <td>12.0</td>\n",
              "    </tr>\n",
              "    <tr>\n",
              "      <th>3</th>\n",
              "      <td>151.5</td>\n",
              "      <td>41.3</td>\n",
              "      <td>58.5</td>\n",
              "      <td>16.5</td>\n",
              "    </tr>\n",
              "    <tr>\n",
              "      <th>4</th>\n",
              "      <td>180.8</td>\n",
              "      <td>10.8</td>\n",
              "      <td>58.4</td>\n",
              "      <td>17.9</td>\n",
              "    </tr>\n",
              "  </tbody>\n",
              "</table>\n",
              "</div>"
            ],
            "text/plain": [
              "      TV  Radio  Newspaper  Sales\n",
              "0  230.1   37.8       69.2   22.1\n",
              "1   44.5   39.3       45.1   10.4\n",
              "2   17.2   45.9       69.3   12.0\n",
              "3  151.5   41.3       58.5   16.5\n",
              "4  180.8   10.8       58.4   17.9"
            ]
          },
          "metadata": {
            "tags": []
          },
          "execution_count": 4
        }
      ]
    },
    {
      "cell_type": "code",
      "metadata": {
        "colab": {
          "base_uri": "https://localhost:8080/",
          "height": 284
        },
        "id": "AvO0UJbSjfap",
        "outputId": "f8cdf822-f113-4c31-92d0-13ed525d6f48"
      },
      "source": [
        "df.describe()"
      ],
      "execution_count": null,
      "outputs": [
        {
          "output_type": "execute_result",
          "data": {
            "text/html": [
              "<div>\n",
              "<style scoped>\n",
              "    .dataframe tbody tr th:only-of-type {\n",
              "        vertical-align: middle;\n",
              "    }\n",
              "\n",
              "    .dataframe tbody tr th {\n",
              "        vertical-align: top;\n",
              "    }\n",
              "\n",
              "    .dataframe thead th {\n",
              "        text-align: right;\n",
              "    }\n",
              "</style>\n",
              "<table border=\"1\" class=\"dataframe\">\n",
              "  <thead>\n",
              "    <tr style=\"text-align: right;\">\n",
              "      <th></th>\n",
              "      <th>TV</th>\n",
              "      <th>Radio</th>\n",
              "      <th>Newspaper</th>\n",
              "      <th>Sales</th>\n",
              "    </tr>\n",
              "  </thead>\n",
              "  <tbody>\n",
              "    <tr>\n",
              "      <th>count</th>\n",
              "      <td>200.000000</td>\n",
              "      <td>200.000000</td>\n",
              "      <td>200.000000</td>\n",
              "      <td>200.000000</td>\n",
              "    </tr>\n",
              "    <tr>\n",
              "      <th>mean</th>\n",
              "      <td>147.042500</td>\n",
              "      <td>23.264000</td>\n",
              "      <td>30.554000</td>\n",
              "      <td>15.130500</td>\n",
              "    </tr>\n",
              "    <tr>\n",
              "      <th>std</th>\n",
              "      <td>85.854236</td>\n",
              "      <td>14.846809</td>\n",
              "      <td>21.778621</td>\n",
              "      <td>5.283892</td>\n",
              "    </tr>\n",
              "    <tr>\n",
              "      <th>min</th>\n",
              "      <td>0.700000</td>\n",
              "      <td>0.000000</td>\n",
              "      <td>0.300000</td>\n",
              "      <td>1.600000</td>\n",
              "    </tr>\n",
              "    <tr>\n",
              "      <th>25%</th>\n",
              "      <td>74.375000</td>\n",
              "      <td>9.975000</td>\n",
              "      <td>12.750000</td>\n",
              "      <td>11.000000</td>\n",
              "    </tr>\n",
              "    <tr>\n",
              "      <th>50%</th>\n",
              "      <td>149.750000</td>\n",
              "      <td>22.900000</td>\n",
              "      <td>25.750000</td>\n",
              "      <td>16.000000</td>\n",
              "    </tr>\n",
              "    <tr>\n",
              "      <th>75%</th>\n",
              "      <td>218.825000</td>\n",
              "      <td>36.525000</td>\n",
              "      <td>45.100000</td>\n",
              "      <td>19.050000</td>\n",
              "    </tr>\n",
              "    <tr>\n",
              "      <th>max</th>\n",
              "      <td>296.400000</td>\n",
              "      <td>49.600000</td>\n",
              "      <td>114.000000</td>\n",
              "      <td>27.000000</td>\n",
              "    </tr>\n",
              "  </tbody>\n",
              "</table>\n",
              "</div>"
            ],
            "text/plain": [
              "               TV       Radio   Newspaper       Sales\n",
              "count  200.000000  200.000000  200.000000  200.000000\n",
              "mean   147.042500   23.264000   30.554000   15.130500\n",
              "std     85.854236   14.846809   21.778621    5.283892\n",
              "min      0.700000    0.000000    0.300000    1.600000\n",
              "25%     74.375000    9.975000   12.750000   11.000000\n",
              "50%    149.750000   22.900000   25.750000   16.000000\n",
              "75%    218.825000   36.525000   45.100000   19.050000\n",
              "max    296.400000   49.600000  114.000000   27.000000"
            ]
          },
          "metadata": {
            "tags": []
          },
          "execution_count": 3
        }
      ]
    },
    {
      "cell_type": "code",
      "metadata": {
        "id": "8kUL3W3MkrG4"
      },
      "source": [
        "X = df.iloc[:,0:3]\r\n",
        "y = df.iloc[:,3]"
      ],
      "execution_count": null,
      "outputs": []
    },
    {
      "cell_type": "code",
      "metadata": {
        "colab": {
          "base_uri": "https://localhost:8080/"
        },
        "id": "cLUHWBfIk06o",
        "outputId": "039fa55f-5e13-49fa-9eb7-03b1835845f8"
      },
      "source": [
        "y"
      ],
      "execution_count": null,
      "outputs": [
        {
          "output_type": "execute_result",
          "data": {
            "text/plain": [
              "0      22.1\n",
              "1      10.4\n",
              "2      12.0\n",
              "3      16.5\n",
              "4      17.9\n",
              "       ... \n",
              "195     7.6\n",
              "196    14.0\n",
              "197    14.8\n",
              "198    25.5\n",
              "199    18.4\n",
              "Name: Sales, Length: 200, dtype: float64"
            ]
          },
          "metadata": {
            "tags": []
          },
          "execution_count": 16
        }
      ]
    },
    {
      "cell_type": "code",
      "metadata": {
        "id": "qsJP8L8gxq9Y"
      },
      "source": [
        "from sklearn.preprocessing import normalize"
      ],
      "execution_count": null,
      "outputs": []
    },
    {
      "cell_type": "code",
      "metadata": {
        "id": "ceRGI46Uw19R"
      },
      "source": [
        "norm_X = normalize(X)"
      ],
      "execution_count": null,
      "outputs": []
    },
    {
      "cell_type": "code",
      "metadata": {
        "colab": {
          "base_uri": "https://localhost:8080/"
        },
        "id": "7V3PHW-Q0XR5",
        "outputId": "3302151e-e2e8-42d7-e357-ca23cd13dd2e"
      },
      "source": [
        "X.shape[1]"
      ],
      "execution_count": null,
      "outputs": [
        {
          "output_type": "execute_result",
          "data": {
            "text/plain": [
              "3"
            ]
          },
          "metadata": {
            "tags": []
          },
          "execution_count": 43
        }
      ]
    },
    {
      "cell_type": "code",
      "metadata": {
        "id": "enlIS7nNFhjQ"
      },
      "source": [
        "X = np.append(np.ones([len(X),1]), X, axis=1) "
      ],
      "execution_count": null,
      "outputs": []
    },
    {
      "cell_type": "code",
      "metadata": {
        "id": "UjDFZXtlyzbx"
      },
      "source": [
        "theta = np.random.rand(X.shape[1])"
      ],
      "execution_count": null,
      "outputs": []
    },
    {
      "cell_type": "code",
      "metadata": {
        "colab": {
          "base_uri": "https://localhost:8080/"
        },
        "id": "68PQbT2U0hK-",
        "outputId": "5135c59a-1f59-4a37-bd19-62bed7a169d9"
      },
      "source": [
        "theta"
      ],
      "execution_count": null,
      "outputs": [
        {
          "output_type": "execute_result",
          "data": {
            "text/plain": [
              "array([0.84056644, 0.68772954, 0.95737752, 0.45353313])"
            ]
          },
          "metadata": {
            "tags": []
          },
          "execution_count": 156
        }
      ]
    },
    {
      "cell_type": "code",
      "metadata": {
        "colab": {
          "base_uri": "https://localhost:8080/"
        },
        "id": "gjIa4iwl27Ru",
        "outputId": "8626578a-1928-4a8e-f099-80f9b0f7db4a"
      },
      "source": [
        "theta.T.shape"
      ],
      "execution_count": null,
      "outputs": [
        {
          "output_type": "execute_result",
          "data": {
            "text/plain": [
              "(4,)"
            ]
          },
          "metadata": {
            "tags": []
          },
          "execution_count": 157
        }
      ]
    },
    {
      "cell_type": "code",
      "metadata": {
        "id": "AEP6Hr70yAhk"
      },
      "source": [
        "def cost(X, y, theta):\r\n",
        "  m = len(X)\r\n",
        "  h =  np.dot(X,theta)\r\n",
        "  J = 1/(2*m)*np.sum((h-y)**2)\r\n",
        "  return J"
      ],
      "execution_count": null,
      "outputs": []
    },
    {
      "cell_type": "code",
      "metadata": {
        "colab": {
          "base_uri": "https://localhost:8080/"
        },
        "id": "qe9hQDRe3kHv",
        "outputId": "87975244-2cb4-4a05-e465-94e214aa1622"
      },
      "source": [
        "cost(X,y,theta)"
      ],
      "execution_count": null,
      "outputs": [
        {
          "output_type": "execute_result",
          "data": {
            "text/plain": [
              "9271.592751751181"
            ]
          },
          "metadata": {
            "tags": []
          },
          "execution_count": 159
        }
      ]
    },
    {
      "cell_type": "code",
      "metadata": {
        "id": "abJEsSDm0tRu"
      },
      "source": [
        "def gradient_descent(X, y, theta, alpha, iterations):\r\n",
        "    costs = []\r\n",
        "    m = len(X)\r\n",
        "    for i in range(iterations):\r\n",
        "        h = np.dot(X,theta)\r\n",
        "        theta = theta - (alpha/m)*np.dot(X.T,h-y)\r\n",
        "        curr_cost = cost(X, y, theta)\r\n",
        "        costs.append(curr_cost)  \r\n",
        "    return theta, costs"
      ],
      "execution_count": null,
      "outputs": []
    },
    {
      "cell_type": "code",
      "metadata": {
        "id": "Y-4g0SAi5gOv"
      },
      "source": [
        "def plot_cost_curve(costs):\r\n",
        "  plt.plot(costs)\r\n",
        "  plt.ylabel('Cost')\r\n",
        "  plt.xlabel('No. of Iterations')\r\n",
        "  plt.title('Gradient Descent')"
      ],
      "execution_count": null,
      "outputs": []
    },
    {
      "cell_type": "code",
      "metadata": {
        "id": "G_Qwasab3qH4"
      },
      "source": [
        "final_theta, c= gradient_descent(X,y,theta,0.001,100)"
      ],
      "execution_count": null,
      "outputs": []
    },
    {
      "cell_type": "code",
      "metadata": {
        "colab": {
          "base_uri": "https://localhost:8080/"
        },
        "id": "ie1bg6yg7z3o",
        "outputId": "d085d075-c1b1-40ea-b0f0-c4fcc33f2b89"
      },
      "source": [
        "c"
      ],
      "execution_count": null,
      "outputs": [
        {
          "output_type": "execute_result",
          "data": {
            "text/plain": [
              "[7720062.32060798,\n",
              " 6555022919.638385,\n",
              " 5565817088855.598,\n",
              " 4725890405466670.0,\n",
              " 4.012715432067582e+18,\n",
              " 3.407164313443981e+21,\n",
              " 2.892995741994264e+24,\n",
              " 2.456419354409439e+27,\n",
              " 2.0857258644140963e+30,\n",
              " 1.770973011459519e+33,\n",
              " 1.5037189022916154e+36,\n",
              " 1.276795593426685e+39,\n",
              " 1.0841168418574919e+42,\n",
              " 9.205148677281602e+44,\n",
              " 7.816017508378279e+47,\n",
              " 6.636517435296492e+50,\n",
              " 5.635013435139136e+53,\n",
              " 4.784644465080048e+56,\n",
              " 4.062603030272255e+59,\n",
              " 3.4495234707687267e+62,\n",
              " 2.9289625608798174e+65,\n",
              " 2.4869584902762996e+68,\n",
              " 2.111656398400497e+71,\n",
              " 1.7929904187545784e+74,\n",
              " 1.5224137052698662e+77,\n",
              " 1.2926691998741634e+80,\n",
              " 1.0975949930817959e+83,\n",
              " 9.319590572402452e+85,\n",
              " 7.913189198626381e+88,\n",
              " 6.71902513386005e+91,\n",
              " 5.705070056618846e+94,\n",
              " 4.844128977417651e+97,\n",
              " 4.113110849994442e+100,\n",
              " 3.492409253182316e+103,\n",
              " 2.9653765328814184e+106,\n",
              " 2.5178773002479993e+109,\n",
              " 2.137909310607495e+112,\n",
              " 1.8152815547969806e+115,\n",
              " 1.5413409291200415e+118,\n",
              " 1.3087401530096702e+121,\n",
              " 1.1112407097874323e+124,\n",
              " 9.43545525251224e+126,\n",
              " 8.011568964134764e+129,\n",
              " 6.802558599384774e+132,\n",
              " 5.7759976485531435e+135,\n",
              " 4.9043530237444384e+138,\n",
              " 4.1642466020629834e+141,\n",
              " 3.5358282078873304e+144,\n",
              " 3.002243217175982e+147,\n",
              " 2.5491805045768268e+150,\n",
              " 2.1644886089632388e+153,\n",
              " 1.83784982268619e+156,\n",
              " 1.5605034633864545e+159,\n",
              " 1.32501090632198e+162,\n",
              " 1.1250560752119343e+165,\n",
              " 9.55276040621285e+167,\n",
              " 8.111171824152636e+170,\n",
              " 6.88713058459405e+173,\n",
              " 5.84780703917661e+176,\n",
              " 4.965325798227072e+179,\n",
              " 4.2160180931706536e+182,\n",
              " 3.5797869634836496e+185,\n",
              " 3.0395682420542154e+188,\n",
              " 2.580872882199027e+191,\n",
              " 2.1913983512239573e+194,\n",
              " 1.8606986678303027e+197,\n",
              " 1.579904233537333e+200,\n",
              " 1.3414839438025723e+203,\n",
              " 1.1390431984924353e+206,\n",
              " 9.671523942017607e+208,\n",
              " 8.212012984654241e+211,\n",
              " 6.972754000757984e+214,\n",
              " 5.920509191344578e+217,\n",
              " 5.027056609337602e+220,\n",
              " 4.2684332270660003e+223,\n",
              " 3.624292230980428e+226,\n",
              " 3.0773573057798647e+229,\n",
              " 2.612959271464401e+232,\n",
              " 2.2186426455934514e+235,\n",
              " 1.8838315784720306e+238,\n",
              " 1.599546201411435e+241,\n",
              " 1.3581617803248527e+244,\n",
              " 1.1532042149876646e+247,\n",
              " 9.791763991085264e+249,\n",
              " 8.314107840660262e+252,\n",
              " 7.059441919664475e+255,\n",
              " 5.994115204206731e+258,\n",
              " 5.089554881274518e+261,\n",
              " 4.321500005759962e+264,\n",
              " 3.6693508048206195e+267,\n",
              " 3.1156161774596534e+270,\n",
              " 2.64544457087494e+273,\n",
              " 2.2462256513502535e+276,\n",
              " 1.907252086221237e+279,\n",
              " 1.619432365670214e+282,\n",
              " 1.3750469620280782e+285,\n",
              " 1.1675412866039296e+288,\n",
              " 9.913498909987948e+290,\n",
              " 8.417471978588054e+293,\n",
              " 7.147207575614815e+296]"
            ]
          },
          "metadata": {
            "tags": []
          },
          "execution_count": 163
        }
      ]
    },
    {
      "cell_type": "code",
      "metadata": {
        "colab": {
          "base_uri": "https://localhost:8080/"
        },
        "id": "uqzF_QYP5eQt",
        "outputId": "946e52d9-6c1a-4c78-df14-a5755396f118"
      },
      "source": [
        "final_theta"
      ],
      "execution_count": null,
      "outputs": [
        {
          "output_type": "execute_result",
          "data": {
            "text/plain": [
              "array([1.09659674e+144, 2.13344517e+146, 2.63267782e+145, 3.48973913e+145])"
            ]
          },
          "metadata": {
            "tags": []
          },
          "execution_count": 164
        }
      ]
    },
    {
      "cell_type": "code",
      "metadata": {
        "id": "ZqrKqhep5fFP"
      },
      "source": [
        "final_cost = cost(X,y,final_theta) "
      ],
      "execution_count": null,
      "outputs": []
    },
    {
      "cell_type": "code",
      "metadata": {
        "colab": {
          "base_uri": "https://localhost:8080/"
        },
        "id": "3MW4DQxH5tFV",
        "outputId": "78ea09c8-80e7-4e29-bf54-180849da21d3"
      },
      "source": [
        "final_cost"
      ],
      "execution_count": null,
      "outputs": [
        {
          "output_type": "execute_result",
          "data": {
            "text/plain": [
              "7.147207575614815e+296"
            ]
          },
          "metadata": {
            "tags": []
          },
          "execution_count": 166
        }
      ]
    },
    {
      "cell_type": "code",
      "metadata": {
        "colab": {
          "base_uri": "https://localhost:8080/",
          "height": 295
        },
        "id": "QiaHTyeI82jE",
        "outputId": "f8cc92e3-4f2f-4ec2-9482-ac4e501705df"
      },
      "source": [
        "plot_cost_curve(c)"
      ],
      "execution_count": null,
      "outputs": [
        {
          "output_type": "display_data",
          "data": {
            "image/png": "[encoded data removed]",
            "text/plain": [
              "<Figure size 432x288 with 1 Axes>"
            ]
          },
          "metadata": {
            "tags": [],
            "needs_background": "light"
          }
        }
      ]
    },
    {
      "cell_type": "code",
      "metadata": {
        "id": "WNb-nk-Q844Y"
      },
      "source": [
        "final_theta, c= gradient_descent(X,y,theta,0.00001,100)"
      ],
      "execution_count": null,
      "outputs": []
    },
    {
      "cell_type": "code",
      "metadata": {
        "colab": {
          "base_uri": "https://localhost:8080/"
        },
        "id": "p2pJbNyB9wc1",
        "outputId": "ab5167b5-979e-4e87-fd41-7576ff2783d7"
      },
      "source": [
        "final_theta"
      ],
      "execution_count": null,
      "outputs": [
        {
          "output_type": "execute_result",
          "data": {
            "text/plain": [
              "array([ 0.83316837, -0.00253752,  0.62963798,  0.07357837])"
            ]
          },
          "metadata": {
            "tags": []
          },
          "execution_count": 169
        }
      ]
    },
    {
      "cell_type": "code",
      "metadata": {
        "id": "_hUDh-Ya9wc5"
      },
      "source": [
        "final_cost = cost(X,y,final_theta) "
      ],
      "execution_count": null,
      "outputs": []
    },
    {
      "cell_type": "code",
      "metadata": {
        "colab": {
          "base_uri": "https://localhost:8080/"
        },
        "id": "UU7QWfZN9wc6",
        "outputId": "584bea4d-154b-480f-af22-3c90f42c4200"
      },
      "source": [
        "final_cost"
      ],
      "execution_count": null,
      "outputs": [
        {
          "output_type": "execute_result",
          "data": {
            "text/plain": [
              "48.807852030789455"
            ]
          },
          "metadata": {
            "tags": []
          },
          "execution_count": 171
        }
      ]
    },
    {
      "cell_type": "code",
      "metadata": {
        "colab": {
          "base_uri": "https://localhost:8080/",
          "height": 295
        },
        "id": "glLmB0V19wc7",
        "outputId": "1ab24ec7-2f95-49ee-e976-cc974893bdae"
      },
      "source": [
        "plot_cost_curve(c)"
      ],
      "execution_count": null,
      "outputs": [
        {
          "output_type": "display_data",
          "data": {
            "image/png": "[encoded data removed]",
            "text/plain": [
              "<Figure size 432x288 with 1 Axes>"
            ]
          },
          "metadata": {
            "tags": [],
            "needs_background": "light"
          }
        }
      ]
    },
    {
      "cell_type": "code",
      "metadata": {
        "id": "ahr59XvP-Lxe"
      },
      "source": [
        "final_theta, c= gradient_descent(X,y,theta,0.000001,100)"
      ],
      "execution_count": null,
      "outputs": []
    },
    {
      "cell_type": "code",
      "metadata": {
        "colab": {
          "base_uri": "https://localhost:8080/"
        },
        "id": "7GmdC5qK-Lxg",
        "outputId": "04621178-51d4-4964-cd77-bdd590703939"
      },
      "source": [
        "final_theta"
      ],
      "execution_count": null,
      "outputs": [
        {
          "output_type": "execute_result",
          "data": {
            "text/plain": [
              "array([ 0.83634987, -0.02778328,  0.83757041,  0.29817306])"
            ]
          },
          "metadata": {
            "tags": []
          },
          "execution_count": 174
        }
      ]
    },
    {
      "cell_type": "code",
      "metadata": {
        "id": "QNBoVvJ9-Lxh"
      },
      "source": [
        "final_cost = cost(X,y,final_theta) "
      ],
      "execution_count": null,
      "outputs": []
    },
    {
      "cell_type": "code",
      "metadata": {
        "colab": {
          "base_uri": "https://localhost:8080/"
        },
        "id": "cCe_aEYI-Lxi",
        "outputId": "379dba19-96f3-409f-95ef-745a54b559a4"
      },
      "source": [
        "final_cost"
      ],
      "execution_count": null,
      "outputs": [
        {
          "output_type": "execute_result",
          "data": {
            "text/plain": [
              "175.82742944639634"
            ]
          },
          "metadata": {
            "tags": []
          },
          "execution_count": 176
        }
      ]
    },
    {
      "cell_type": "code",
      "metadata": {
        "colab": {
          "base_uri": "https://localhost:8080/",
          "height": 295
        },
        "id": "yQv3v9cq-Lxj",
        "outputId": "d9b31a44-822e-4ac5-f036-b24da42d7135"
      },
      "source": [
        "plot_cost_curve(c)"
      ],
      "execution_count": null,
      "outputs": [
        {
          "output_type": "display_data",
          "data": {
            "image/png": "[encoded data removed]",
            "text/plain": [
              "<Figure size 432x288 with 1 Axes>"
            ]
          },
          "metadata": {
            "tags": [],
            "needs_background": "light"
          }
        }
      ]
    },
    {
      "cell_type": "code",
      "metadata": {
        "id": "x4LDyNM4_HhL"
      },
      "source": [
        "pred = np.dot(X,final_theta)"
      ],
      "execution_count": null,
      "outputs": []
    },
    {
      "cell_type": "code",
      "metadata": {
        "id": "aQ9JrFZj_rio"
      },
      "source": [
        "from sklearn.metrics import r2_score"
      ],
      "execution_count": null,
      "outputs": []
    },
    {
      "cell_type": "code",
      "metadata": {
        "colab": {
          "base_uri": "https://localhost:8080/"
        },
        "id": "7P5zM6_h_xGJ",
        "outputId": "bfec19f3-6651-4fd1-d760-281099ea89db"
      },
      "source": [
        "r2_score(y,pred)"
      ],
      "execution_count": null,
      "outputs": [
        {
          "output_type": "execute_result",
          "data": {
            "text/plain": [
              "-11.658598802928244"
            ]
          },
          "metadata": {
            "tags": []
          },
          "execution_count": 180
        }
      ]
    },
    {
      "cell_type": "code",
      "metadata": {
        "id": "oxQnohCj_zv2"
      },
      "source": [
        "def evaluate(X, y, theta, alpha, iterations):\r\n",
        "  final_theta, c= gradient_descent(X,y,theta,alpha,iterations)\r\n",
        "  print(\"Final Cost:\", cost(X,y,final_theta))\r\n",
        "  plot_cost_curve(c)\r\n",
        "  pred = np.dot(X,final_theta)\r\n",
        "  print(\"R2 Score\", r2_score(y,pred))"
      ],
      "execution_count": null,
      "outputs": []
    },
    {
      "cell_type": "markdown",
      "metadata": {
        "id": "ACENkyZCGCnt"
      },
      "source": [
        "##Testing with different values of alpha and no. of iterations"
      ]
    },
    {
      "cell_type": "code",
      "metadata": {
        "colab": {
          "base_uri": "https://localhost:8080/",
          "height": 329
        },
        "id": "itU5MqY-A2a2",
        "outputId": "98e447e6-b460-4037-a1ff-52dfee03f977"
      },
      "source": [
        "evaluate(X,y,theta,0.0001,100)"
      ],
      "execution_count": null,
      "outputs": [
        {
          "output_type": "stream",
          "text": [
            "Final Cost: 5.84831441842234e+64\n",
            "R2 Score -4.210461708351292e+63\n"
          ],
          "name": "stdout"
        },
        {
          "output_type": "display_data",
          "data": {
            "image/png": "[encoded data removed]",
            "text/plain": [
              "<Figure size 432x288 with 1 Axes>"
            ]
          },
          "metadata": {
            "tags": [],
            "needs_background": "light"
          }
        }
      ]
    },
    {
      "cell_type": "code",
      "metadata": {
        "colab": {
          "base_uri": "https://localhost:8080/",
          "height": 329
        },
        "id": "p_EZG_ZxA6r8",
        "outputId": "aa60f73e-8616-467d-e83f-995c7c7d79fe"
      },
      "source": [
        "evaluate(X,y,theta,0.00001,100)"
      ],
      "execution_count": null,
      "outputs": [
        {
          "output_type": "stream",
          "text": [
            "Final Cost: 48.807852030789455\n",
            "R2 Score -2.513894386306818\n"
          ],
          "name": "stdout"
        },
        {
          "output_type": "display_data",
          "data": {
            "image/png": "[encoded data removed]",
            "text/plain": [
              "<Figure size 432x288 with 1 Axes>"
            ]
          },
          "metadata": {
            "tags": [],
            "needs_background": "light"
          }
        }
      ]
    },
    {
      "cell_type": "code",
      "metadata": {
        "colab": {
          "base_uri": "https://localhost:8080/",
          "height": 329
        },
        "id": "KjDUGLhZBCIs",
        "outputId": "90058fb2-d1ba-4c08-c987-660630799970"
      },
      "source": [
        "evaluate(X,y,theta,0.000001,100)"
      ],
      "execution_count": null,
      "outputs": [
        {
          "output_type": "stream",
          "text": [
            "Final Cost: 175.82742944639634\n",
            "R2 Score -11.658598802928244\n"
          ],
          "name": "stdout"
        },
        {
          "output_type": "display_data",
          "data": {
            "image/png": "[encoded data removed]",
            "text/plain": [
              "<Figure size 432x288 with 1 Axes>"
            ]
          },
          "metadata": {
            "tags": [],
            "needs_background": "light"
          }
        }
      ]
    },
    {
      "cell_type": "code",
      "metadata": {
        "colab": {
          "base_uri": "https://localhost:8080/",
          "height": 329
        },
        "id": "ftJNipI_B7ke",
        "outputId": "2ba239cc-a138-4a17-dfa5-261638fa8381"
      },
      "source": [
        "evaluate(X,y,theta,0.00001,200)"
      ],
      "execution_count": null,
      "outputs": [
        {
          "output_type": "stream",
          "text": [
            "Final Cost: 18.98608291530283\n",
            "R2 Score -0.3668925674490353\n"
          ],
          "name": "stdout"
        },
        {
          "output_type": "display_data",
          "data": {
            "image/png": "[encoded data removed]",
            "text/plain": [
              "<Figure size 432x288 with 1 Axes>"
            ]
          },
          "metadata": {
            "tags": [],
            "needs_background": "light"
          }
        }
      ]
    },
    {
      "cell_type": "code",
      "metadata": {
        "colab": {
          "base_uri": "https://localhost:8080/",
          "height": 329
        },
        "id": "0PNNj-7IBN8w",
        "outputId": "2e2efe91-44fa-4c08-f5fb-08b011be7c00"
      },
      "source": [
        "evaluate(X,y,theta,0.00001,1000)"
      ],
      "execution_count": null,
      "outputs": [
        {
          "output_type": "stream",
          "text": [
            "Final Cost: 2.895250529840861\n",
            "R2 Score 0.7915580350198196\n"
          ],
          "name": "stdout"
        },
        {
          "output_type": "display_data",
          "data": {
            "image/png": "[encoded data removed]",
            "text/plain": [
              "<Figure size 432x288 with 1 Axes>"
            ]
          },
          "metadata": {
            "tags": [],
            "needs_background": "light"
          }
        }
      ]
    },
    {
      "cell_type": "code",
      "metadata": {
        "id": "P1IxmJQGcBvA"
      },
      "source": [
        ""
      ],
      "execution_count": null,
      "outputs": []
    }
  ]
}
