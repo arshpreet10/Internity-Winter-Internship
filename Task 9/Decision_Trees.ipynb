{
  "nbformat": 4,
  "nbformat_minor": 0,
  "metadata": {
    "colab": {
      "name": "Decision Trees.ipynb",
      "provenance": []
    },
    "kernelspec": {
      "name": "python3",
      "display_name": "Python 3"
    }
  },
  "cells": [
    {
      "cell_type": "code",
      "metadata": {
        "id": "46rlmnLKEMN6"
      },
      "source": [
        "import numpy as np\r\n",
        "from collections import Counter"
      ],
      "execution_count": 40,
      "outputs": []
    },
    {
      "cell_type": "code",
      "metadata": {
        "id": "yzzbhYDLE1hy"
      },
      "source": [
        "from sklearn import datasets\r\n",
        "from sklearn.model_selection import train_test_split"
      ],
      "execution_count": 41,
      "outputs": []
    },
    {
      "cell_type": "code",
      "metadata": {
        "id": "1E6tijlMEvE3"
      },
      "source": [
        "data = datasets.load_breast_cancer()\r\n",
        "X = data.data\r\n",
        "y = data.target\r\n",
        "\r\n",
        "X_train, X_test, y_train, y_test = train_test_split(X, y, test_size=0.2, random_state=1234)"
      ],
      "execution_count": 42,
      "outputs": []
    },
    {
      "cell_type": "code",
      "metadata": {
        "id": "JhU6xjWfEdpz"
      },
      "source": [
        "def entropy(y):\r\n",
        "    hist = np.bincount(y)\r\n",
        "    ps = hist / len(y)\r\n",
        "    return -np.sum([p * np.log2(p) for p in ps if p > 0])"
      ],
      "execution_count": 43,
      "outputs": []
    },
    {
      "cell_type": "code",
      "metadata": {
        "id": "E94XHshLEfcd"
      },
      "source": [
        "class Node:\r\n",
        "\r\n",
        "    def __init__(self, feature=None, threshold=None, left=None, right=None, *, value=None):\r\n",
        "        self.feature = feature\r\n",
        "        self.threshold = threshold\r\n",
        "        self.left = left\r\n",
        "        self.right = right\r\n",
        "        self.value = value\r\n",
        "\r\n",
        "    def is_leaf_node(self):\r\n",
        "        return self.value is not None"
      ],
      "execution_count": 44,
      "outputs": []
    },
    {
      "cell_type": "code",
      "metadata": {
        "id": "n-AgjwzLEg7o"
      },
      "source": [
        "class DecisionTree:\r\n",
        "\r\n",
        "    def __init__(self, min_samples_split=2, max_depth=100, n_feats=None):\r\n",
        "        self.min_samples_split = min_samples_split\r\n",
        "        self.max_depth = max_depth\r\n",
        "        self.n_feats = n_feats\r\n",
        "        self.root = None\r\n",
        "\r\n",
        "    def fit(self, X, y):\r\n",
        "        self.n_feats = X.shape[1] if not self.n_feats else min(self.n_feats, X.shape[1])\r\n",
        "        self.root = self._grow_tree(X, y)\r\n",
        "\r\n",
        "    def predict(self, X):\r\n",
        "        return np.array([self._traverse_tree(x, self.root) for x in X])\r\n",
        "\r\n",
        "    def _grow_tree(self, X, y, depth=0):\r\n",
        "        n_samples, n_features = X.shape\r\n",
        "        n_labels = len(np.unique(y))\r\n",
        "\r\n",
        "        # stopping criteria\r\n",
        "        if (depth >= self.max_depth\r\n",
        "                or n_labels == 1\r\n",
        "                or n_samples < self.min_samples_split):\r\n",
        "            leaf_value = self._most_common_label(y)\r\n",
        "            return Node(value=leaf_value)\r\n",
        "\r\n",
        "        feat_idxs = np.random.choice(n_features, self.n_feats, replace=False)\r\n",
        "\r\n",
        "        # greedily select the best split according to information gain\r\n",
        "        best_feat, best_thresh = self._best_criteria(X, y, feat_idxs)\r\n",
        "        \r\n",
        "        # grow the children that result from the split\r\n",
        "        left_idxs, right_idxs = self._split(X[:, best_feat], best_thresh)\r\n",
        "        left = self._grow_tree(X[left_idxs, :], y[left_idxs], depth+1)\r\n",
        "        right = self._grow_tree(X[right_idxs, :], y[right_idxs], depth+1)\r\n",
        "        return Node(best_feat, best_thresh, left, right)\r\n",
        "\r\n",
        "    def _best_criteria(self, X, y, feat_idxs):\r\n",
        "        best_gain = -1\r\n",
        "        split_idx, split_thresh = None, None\r\n",
        "        for feat_idx in feat_idxs:\r\n",
        "            X_column = X[:, feat_idx]\r\n",
        "            thresholds = np.unique(X_column)\r\n",
        "            for threshold in thresholds:\r\n",
        "                gain = self._information_gain(y, X_column, threshold)\r\n",
        "\r\n",
        "                if gain > best_gain:\r\n",
        "                    best_gain = gain\r\n",
        "                    split_idx = feat_idx\r\n",
        "                    split_thresh = threshold\r\n",
        "\r\n",
        "        return split_idx, split_thresh\r\n",
        "\r\n",
        "    def _information_gain(self, y, X_column, split_thresh):\r\n",
        "        # parent loss\r\n",
        "        parent_entropy = entropy(y)\r\n",
        "\r\n",
        "        # generate split\r\n",
        "        left_idxs, right_idxs = self._split(X_column, split_thresh)\r\n",
        "\r\n",
        "        if len(left_idxs) == 0 or len(right_idxs) == 0:\r\n",
        "            return 0\r\n",
        "\r\n",
        "        # compute the weighted avg. of the loss for the children\r\n",
        "        n = len(y)\r\n",
        "        n_l, n_r = len(left_idxs), len(right_idxs)\r\n",
        "        e_l, e_r = entropy(y[left_idxs]), entropy(y[right_idxs])\r\n",
        "        child_entropy = (n_l / n) * e_l + (n_r / n) * e_r\r\n",
        "\r\n",
        "        # information gain is difference in loss before vs. after split\r\n",
        "        ig = parent_entropy - child_entropy\r\n",
        "        return ig\r\n",
        "\r\n",
        "    def _split(self, X_column, split_thresh):\r\n",
        "        left_idxs = np.argwhere(X_column <= split_thresh).flatten()\r\n",
        "        right_idxs = np.argwhere(X_column > split_thresh).flatten()\r\n",
        "        return left_idxs, right_idxs\r\n",
        "\r\n",
        "    def _traverse_tree(self, x, node):\r\n",
        "        if node.is_leaf_node():\r\n",
        "            return node.value\r\n",
        "\r\n",
        "        if x[node.feature] <= node.threshold:\r\n",
        "            return self._traverse_tree(x, node.left)\r\n",
        "        return self._traverse_tree(x, node.right)\r\n",
        "\r\n",
        "    def _most_common_label(self, y):\r\n",
        "        counter = Counter(y)\r\n",
        "        most_common = counter.most_common(1)[0][0]\r\n",
        "        return most_common"
      ],
      "execution_count": 45,
      "outputs": []
    },
    {
      "cell_type": "code",
      "metadata": {
        "id": "kDH-JB1hEjR1"
      },
      "source": [
        "def accuracy(y_true, y_pred):\r\n",
        "    accuracy = np.sum(y_true == y_pred) / len(y_true)\r\n",
        "    return accuracy"
      ],
      "execution_count": 46,
      "outputs": []
    },
    {
      "cell_type": "code",
      "metadata": {
        "id": "Kj6s-RT_Eqw-"
      },
      "source": [
        "clf = DecisionTree(max_depth=10)\r\n",
        "clf.fit(X_train, y_train)"
      ],
      "execution_count": 47,
      "outputs": []
    },
    {
      "cell_type": "code",
      "metadata": {
        "colab": {
          "base_uri": "https://localhost:8080/"
        },
        "id": "1iWpXmSBE6u6",
        "outputId": "b953942a-63c9-4758-f2e4-7d0e54e584f7"
      },
      "source": [
        "y_pred = clf.predict(X_test)\r\n",
        "acc = accuracy(y_test, y_pred)\r\n",
        "print (\"Accuracy:\", acc)"
      ],
      "execution_count": 48,
      "outputs": [
        {
          "output_type": "stream",
          "text": [
            "Accuracy: 0.9035087719298246\n"
          ],
          "name": "stdout"
        }
      ]
    },
    {
      "cell_type": "code",
      "metadata": {
        "id": "eBoDfAW8E8xi"
      },
      "source": [
        ""
      ],
      "execution_count": 48,
      "outputs": []
    }
  ]
}