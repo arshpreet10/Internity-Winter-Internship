{
  "nbformat": 4,
  "nbformat_minor": 0,
  "metadata": {
    "colab": {
      "name": "Dominant Color Extraction.ipynb",
      "provenance": []
    },
    "kernelspec": {
      "name": "python3",
      "display_name": "Python 3"
    }
  },
  "cells": [
    {
      "cell_type": "code",
      "metadata": {
        "id": "Aoufie1Jn65m"
      },
      "source": [
        "import numpy as np\r\n",
        "import matplotlib.image as img\r\n",
        "import cv2\r\n",
        "import matplotlib.pyplot as plt\r\n",
        "from sklearn.cluster import KMeans"
      ],
      "execution_count": null,
      "outputs": []
    },
    {
      "cell_type": "code",
      "metadata": {
        "id": "Fu4-w-37sUYE"
      },
      "source": [
        "class DominantColors:\r\n",
        "\r\n",
        "    CLUSTERS = None\r\n",
        "    IMAGE = None\r\n",
        "    COLORS = None\r\n",
        "    LABELS = None\r\n",
        "    \r\n",
        "    def __init__(self, image, clusters=3):\r\n",
        "        self.CLUSTERS = clusters\r\n",
        "        self.IMAGE = image\r\n",
        "        \r\n",
        "    def dominantColors(self):\r\n",
        "    \r\n",
        "        #read image\r\n",
        "        img = cv2.imread(self.IMAGE)\r\n",
        "        \r\n",
        "        #convert to rgb from bgr\r\n",
        "        img = cv2.cvtColor(img, cv2.COLOR_BGR2RGB)\r\n",
        "                \r\n",
        "        #reshaping to a list of pixels\r\n",
        "        img = img.reshape((img.shape[0] * img.shape[1], 3))\r\n",
        "        \r\n",
        "        #save image after operations\r\n",
        "        self.IMAGE = img\r\n",
        "        \r\n",
        "        #using k-means to cluster pixels\r\n",
        "        kmeans = KMeans(n_clusters = self.CLUSTERS)\r\n",
        "        kmeans.fit(img)\r\n",
        "        \r\n",
        "        #the cluster centers are our dominant colors.\r\n",
        "        self.COLORS = kmeans.cluster_centers_\r\n",
        "        \r\n",
        "        #save labels\r\n",
        "        self.LABELS = kmeans.labels_\r\n",
        "        \r\n",
        "        #returning after converting to integer from float\r\n",
        "        return self.COLORS.astype(int)\r\n",
        "\r\n",
        "    def plotHistogram(self):\r\n",
        "       \r\n",
        "        #labels form 0 to no. of clusters\r\n",
        "        numLabels = np.arange(0, self.CLUSTERS+1)\r\n",
        "       \r\n",
        "        #create frequency count tables    \r\n",
        "        (hist, _) = np.histogram(self.LABELS, bins = numLabels)\r\n",
        "        hist = hist.astype(\"float\")\r\n",
        "        hist /= hist.sum()\r\n",
        "        \r\n",
        "        #appending frequencies to cluster centers\r\n",
        "        colors = self.COLORS\r\n",
        "        \r\n",
        "        #descending order sorting as per frequency count\r\n",
        "        colors = colors[(-hist).argsort()]\r\n",
        "        hist = hist[(-hist).argsort()] \r\n",
        "        \r\n",
        "        #creating empty chart\r\n",
        "        chart = np.zeros((50, 500, 3), np.uint8)\r\n",
        "        start = 0\r\n",
        "        \r\n",
        "        #creating color rectangles\r\n",
        "        for i in range(self.CLUSTERS):\r\n",
        "            end = start + hist[i] * 500\r\n",
        "            \r\n",
        "            #getting rgb values\r\n",
        "            r = colors[i][0]\r\n",
        "            g = colors[i][1]\r\n",
        "            b = colors[i][2]\r\n",
        "            \r\n",
        "            #using cv2.rectangle to plot colors\r\n",
        "            cv2.rectangle(chart, (int(start), 0), (int(end), 50), (r,g,b), -1)\r\n",
        "            start = end\t\r\n",
        "        \r\n",
        "        #display chart\r\n",
        "        plt.figure()\r\n",
        "        plt.axis(\"off\")\r\n",
        "        plt.imshow(chart)\r\n",
        "        plt.show()"
      ],
      "execution_count": null,
      "outputs": []
    },
    {
      "cell_type": "code",
      "metadata": {
        "colab": {
          "base_uri": "https://localhost:8080/",
          "height": 64
        },
        "id": "JDBpRfCNsZbn",
        "outputId": "9e712c2a-99e2-46bd-9d1a-5b53372e465b"
      },
      "source": [
        "img = 'untitled.png'\r\n",
        "clusters = 5\r\n",
        "dc = DominantColors(img, clusters)\r\n",
        "colors = dc.dominantColors()\r\n",
        "dc.plotHistogram()"
      ],
      "execution_count": null,
      "outputs": [
        {
          "output_type": "display_data",
          "data": {
            "image/png": "[encoded data removed]",
            "text/plain": [
              "<Figure size 432x288 with 1 Axes>"
            ]
          },
          "metadata": {
            "tags": [],
            "needs_background": "light"
          }
        }
      ]
    },
    {
      "cell_type": "code",
      "metadata": {
        "id": "vXQEx-_nsgMG"
      },
      "source": [
        ""
      ],
      "execution_count": null,
      "outputs": []
    }
  ]
}