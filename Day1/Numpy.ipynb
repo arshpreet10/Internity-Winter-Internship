{
  "nbformat": 4,
  "nbformat_minor": 0,
  "metadata": {
    "colab": {
      "name": "Numpy.ipynb",
      "provenance": []
    },
    "kernelspec": {
      "name": "python3",
      "display_name": "Python 3"
    }
  },
  "cells": [
    {
      "cell_type": "code",
      "metadata": {
        "id": "AkEaA6hpiRwr"
      },
      "source": [
        "import numpy as np"
      ],
      "execution_count": 1,
      "outputs": []
    },
    {
      "cell_type": "code",
      "metadata": {
        "colab": {
          "base_uri": "https://localhost:8080/"
        },
        "id": "th0_2-FkjAAk",
        "outputId": "57f09e55-5e9e-481e-e8cb-fcba351158f8"
      },
      "source": [
        "arr = np.array([1,2,3])\r\n",
        "print(type(arr), arr)"
      ],
      "execution_count": 2,
      "outputs": [
        {
          "output_type": "stream",
          "text": [
            "<class 'numpy.ndarray'> [1 2 3]\n"
          ],
          "name": "stdout"
        }
      ]
    },
    {
      "cell_type": "code",
      "metadata": {
        "colab": {
          "base_uri": "https://localhost:8080/"
        },
        "id": "6a-EuwwQw17Z",
        "outputId": "107058d0-70c8-4d31-c7fc-60ba92f29597"
      },
      "source": [
        "arr1 = np.arange(5)\r\n",
        "arr2 = np.arange(1,5)\r\n",
        "print(arr1)\r\n",
        "print(arr2)"
      ],
      "execution_count": 3,
      "outputs": [
        {
          "output_type": "stream",
          "text": [
            "[0 1 2 3 4]\n",
            "[1 2 3 4]\n"
          ],
          "name": "stdout"
        }
      ]
    },
    {
      "cell_type": "code",
      "metadata": {
        "colab": {
          "base_uri": "https://localhost:8080/"
        },
        "id": "ca05kpRyn2gF",
        "outputId": "1ac2c288-968c-4ef1-e02e-ed4b4562d9c3"
      },
      "source": [
        "arr = np.arange(10)\r\n",
        "print(arr[1::2])"
      ],
      "execution_count": 4,
      "outputs": [
        {
          "output_type": "stream",
          "text": [
            "[1 3 5 7 9]\n"
          ],
          "name": "stdout"
        }
      ]
    },
    {
      "cell_type": "code",
      "metadata": {
        "colab": {
          "base_uri": "https://localhost:8080/"
        },
        "id": "yJHSHg24noQz",
        "outputId": "ab4e49a3-b23f-4381-b257-ecf61997c1e7"
      },
      "source": [
        "arr = np.array([1, 2, 3, 4, 5, 6, 7, 8, 9])\r\n",
        "print(arr[::-1])"
      ],
      "execution_count": 6,
      "outputs": [
        {
          "output_type": "stream",
          "text": [
            "[9 8 7 6 5 4 3 2 1]\n"
          ],
          "name": "stdout"
        }
      ]
    },
    {
      "cell_type": "code",
      "metadata": {
        "colab": {
          "base_uri": "https://localhost:8080/"
        },
        "id": "wIcJ9SEalavd",
        "outputId": "0773a5a0-181f-497f-e16e-fa79efc45ae6"
      },
      "source": [
        "arr = np.array([1, 2, 3, 4, 5], ndmin=3)\r\n",
        "\r\n",
        "print(arr)\r\n",
        "print('No. of dimensions of array:', arr.ndim)\r\n",
        "print('Shape of array:', arr.shape)"
      ],
      "execution_count": 5,
      "outputs": [
        {
          "output_type": "stream",
          "text": [
            "[[[1 2 3 4 5]]]\n",
            "No. of dimensions of array: 3\n",
            "Shape of array: (1, 1, 5)\n"
          ],
          "name": "stdout"
        }
      ]
    },
    {
      "cell_type": "code",
      "metadata": {
        "colab": {
          "base_uri": "https://localhost:8080/"
        },
        "id": "_dZRErzqmSy-",
        "outputId": "0585ce5c-3d8e-4955-8180-ba012c73d57c"
      },
      "source": [
        "arr = np.array([1,2,3,4,5,6])\r\n",
        "print(arr.reshape(3,2))"
      ],
      "execution_count": 7,
      "outputs": [
        {
          "output_type": "stream",
          "text": [
            "[[1 2]\n",
            " [3 4]\n",
            " [5 6]]\n"
          ],
          "name": "stdout"
        }
      ]
    },
    {
      "cell_type": "code",
      "metadata": {
        "colab": {
          "base_uri": "https://localhost:8080/"
        },
        "id": "L1ufS6kaq699",
        "outputId": "3a51fe7c-f5ed-4bb7-e512-28556d420a64"
      },
      "source": [
        "arr = np.array([1,2,3,4,5,6])\r\n",
        "a = arr.reshape(2,3)\r\n",
        "b = arr.reshape(3,2)\r\n",
        "print('Matrix A:\\n', a, '\\nMatrix B:\\n', b, '\\nA*B:\\n',np.dot(a,b))"
      ],
      "execution_count": 8,
      "outputs": [
        {
          "output_type": "stream",
          "text": [
            "Matrix A:\n",
            " [[1 2 3]\n",
            " [4 5 6]] \n",
            "Matrix B:\n",
            " [[1 2]\n",
            " [3 4]\n",
            " [5 6]] \n",
            "A*B:\n",
            " [[22 28]\n",
            " [49 64]]\n"
          ],
          "name": "stdout"
        }
      ]
    },
    {
      "cell_type": "code",
      "metadata": {
        "id": "5FI-A42lsn8D"
      },
      "source": [
        ""
      ],
      "execution_count": 9,
      "outputs": []
    },
    {
      "cell_type": "code",
      "metadata": {
        "colab": {
          "base_uri": "https://localhost:8080/"
        },
        "id": "fDuWDmHNmZOq",
        "outputId": "4b7b8367-0b02-4465-bab5-addbad197058"
      },
      "source": [
        "from numpy import random\r\n",
        "x = random.rand()\r\n",
        "print(x)"
      ],
      "execution_count": 10,
      "outputs": [
        {
          "output_type": "stream",
          "text": [
            "0.2734180875874165\n"
          ],
          "name": "stdout"
        }
      ]
    },
    {
      "cell_type": "code",
      "metadata": {
        "colab": {
          "base_uri": "https://localhost:8080/"
        },
        "id": "DJ-QqmCTnQv0",
        "outputId": "54032ca2-c03b-4bde-bee3-161e641319d4"
      },
      "source": [
        "from numpy import random\r\n",
        "x = random.randint(100, size=(3, 3))\r\n",
        "print(x)"
      ],
      "execution_count": 11,
      "outputs": [
        {
          "output_type": "stream",
          "text": [
            "[[ 5 74 29]\n",
            " [92 23 50]\n",
            " [70  7 17]]\n"
          ],
          "name": "stdout"
        }
      ]
    },
    {
      "cell_type": "code",
      "metadata": {
        "colab": {
          "base_uri": "https://localhost:8080/"
        },
        "id": "h79MW4Nqs4Br",
        "outputId": "3dfa35bf-637f-4463-f90e-914e24508f7b"
      },
      "source": [
        "x.ravel()"
      ],
      "execution_count": 12,
      "outputs": [
        {
          "output_type": "execute_result",
          "data": {
            "text/plain": [
              "array([ 5, 74, 29, 92, 23, 50, 70,  7, 17])"
            ]
          },
          "metadata": {
            "tags": []
          },
          "execution_count": 12
        }
      ]
    },
    {
      "cell_type": "code",
      "metadata": {
        "id": "S_zDOQC5zdfq"
      },
      "source": [
        ""
      ],
      "execution_count": 12,
      "outputs": []
    }
  ]
}
