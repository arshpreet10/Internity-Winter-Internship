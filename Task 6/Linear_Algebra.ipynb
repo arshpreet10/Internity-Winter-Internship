{
  "nbformat": 4,
  "nbformat_minor": 0,
  "metadata": {
    "colab": {
      "name": "Linear Algrebra.ipynb",
      "provenance": [],
      "authorship_tag": "ABX9TyO3al+p+dUDH8H6FeabJRfP",
      "include_colab_link": true
    },
    "kernelspec": {
      "name": "python3",
      "display_name": "Python 3"
    }
  },
  "cells": [
    {
      "cell_type": "markdown",
      "metadata": {
        "id": "view-in-github",
        "colab_type": "text"
      },
      "source": [
        "<a href=\"https://colab.research.google.com/github/arshpreet10/Internity-Winter-Internship/blob/main/Linear_Algrebra.ipynb\" target=\"_parent\"><img src=\"https://colab.research.google.com/assets/colab-badge.svg\" alt=\"Open In Colab\"/></a>"
      ]
    },
    {
      "cell_type": "code",
      "metadata": {
        "id": "WslJ1g-M5Zm7"
      },
      "source": [
        "import numpy as np"
      ],
      "execution_count": 90,
      "outputs": []
    },
    {
      "cell_type": "markdown",
      "metadata": {
        "id": "YYk6Vu7C5SLQ"
      },
      "source": [
        "Creating a Matrix"
      ]
    },
    {
      "cell_type": "code",
      "metadata": {
        "colab": {
          "base_uri": "https://localhost:8080/"
        },
        "id": "h06vzGCH4_t1",
        "outputId": "21545f9e-6e7d-4206-9758-08532375d6e0"
      },
      "source": [
        "A = np.array([[1,2,1],\r\n",
        "             [4,4,5],\r\n",
        "             [6,2,7]])\r\n",
        "print(A)"
      ],
      "execution_count": 91,
      "outputs": [
        {
          "output_type": "stream",
          "text": [
            "[[1 2 1]\n",
            " [4 4 5]\n",
            " [6 2 7]]\n"
          ],
          "name": "stdout"
        }
      ]
    },
    {
      "cell_type": "markdown",
      "metadata": {
        "id": "CHKqlDAh6WX1"
      },
      "source": [
        "Transpose of Matrix"
      ]
    },
    {
      "cell_type": "code",
      "metadata": {
        "colab": {
          "base_uri": "https://localhost:8080/"
        },
        "id": "_5OESIaT6gKu",
        "outputId": "b37cb5b1-b163-4877-93a1-f1f0ad1ce281"
      },
      "source": [
        "B = A.transpose()\r\n",
        "print(B)"
      ],
      "execution_count": 92,
      "outputs": [
        {
          "output_type": "stream",
          "text": [
            "[[1 4 6]\n",
            " [2 4 2]\n",
            " [1 5 7]]\n"
          ],
          "name": "stdout"
        }
      ]
    },
    {
      "cell_type": "markdown",
      "metadata": {
        "id": "8_I0tQfw65JL"
      },
      "source": [
        "Matrix Multiplication"
      ]
    },
    {
      "cell_type": "code",
      "metadata": {
        "colab": {
          "base_uri": "https://localhost:8080/"
        },
        "id": "Or73DYOz6-yf",
        "outputId": "afc13756-b4f6-4bd9-9023-7d96bf3867b9"
      },
      "source": [
        "A = np.array([[1,2,1],\r\n",
        "             [4,4,5],\r\n",
        "             [6,2,7]])\r\n",
        "\r\n",
        "B = np.array([[1,4,6],\r\n",
        "              [2,4,2],\r\n",
        "              [1,5,7]])\r\n",
        "np.dot(A,B)"
      ],
      "execution_count": 18,
      "outputs": [
        {
          "output_type": "execute_result",
          "data": {
            "text/plain": [
              "array([[ 6, 17, 17],\n",
              "       [17, 57, 67],\n",
              "       [17, 67, 89]])"
            ]
          },
          "metadata": {
            "tags": []
          },
          "execution_count": 18
        }
      ]
    },
    {
      "cell_type": "code",
      "metadata": {
        "colab": {
          "base_uri": "https://localhost:8080/"
        },
        "id": "LZrIJ5t-7PIj",
        "outputId": "2e7ae291-dd70-4a37-8f9a-35a0562d9926"
      },
      "source": [
        "C= A@B\r\n",
        "C_t = C.T\r\n",
        "print(C_t)"
      ],
      "execution_count": 19,
      "outputs": [
        {
          "output_type": "stream",
          "text": [
            "[[ 6 17 17]\n",
            " [17 57 67]\n",
            " [17 67 89]]\n"
          ],
          "name": "stdout"
        }
      ]
    },
    {
      "cell_type": "markdown",
      "metadata": {
        "id": "7YsHIQvmD0oQ"
      },
      "source": [
        "Matrix Power"
      ]
    },
    {
      "cell_type": "code",
      "metadata": {
        "id": "fMMe2N5PRux8",
        "colab": {
          "base_uri": "https://localhost:8080/"
        },
        "outputId": "726e6365-f74b-4ab8-80da-deb73015a400"
      },
      "source": [
        "A = np.array([[0, 1],\r\n",
        "              [-1, 0]])\r\n",
        "np.linalg.matrix_power(M,4)"
      ],
      "execution_count": 85,
      "outputs": [
        {
          "output_type": "execute_result",
          "data": {
            "text/plain": [
              "array([[1, 0],\n",
              "       [0, 1]])"
            ]
          },
          "metadata": {
            "tags": []
          },
          "execution_count": 85
        }
      ]
    },
    {
      "cell_type": "code",
      "metadata": {
        "colab": {
          "base_uri": "https://localhost:8080/"
        },
        "id": "aHJ6Ssf3SOGX",
        "outputId": "e55b95f1-02e2-4a05-c7fa-3eb05bcf5556"
      },
      "source": [
        "A @ A @ A @ A"
      ],
      "execution_count": 86,
      "outputs": [
        {
          "output_type": "execute_result",
          "data": {
            "text/plain": [
              "array([[1, 0],\n",
              "       [0, 1]])"
            ]
          },
          "metadata": {
            "tags": []
          },
          "execution_count": 86
        }
      ]
    },
    {
      "cell_type": "markdown",
      "metadata": {
        "id": "WR_3bfIJMrOW"
      },
      "source": [
        "Matrix Determinant"
      ]
    },
    {
      "cell_type": "code",
      "metadata": {
        "colab": {
          "base_uri": "https://localhost:8080/"
        },
        "id": "4GRNA3AYEUc8",
        "outputId": "3dbe6955-5f23-4f9a-94fb-e6a6a9bb1452"
      },
      "source": [
        "A = np.array([[6,1,1],\r\n",
        "              [4,-2,5],\r\n",
        "              [2,8,7]])\r\n",
        "print(A)"
      ],
      "execution_count": 42,
      "outputs": [
        {
          "output_type": "stream",
          "text": [
            "[[ 6  1  1]\n",
            " [ 4 -2  5]\n",
            " [ 2  8  7]]\n"
          ],
          "name": "stdout"
        }
      ]
    },
    {
      "cell_type": "code",
      "metadata": {
        "colab": {
          "base_uri": "https://localhost:8080/"
        },
        "id": "GObbHgP0MtTk",
        "outputId": "8d961582-ec2e-4600-bbda-c3452d82e773"
      },
      "source": [
        "np.linalg.det(A)"
      ],
      "execution_count": 43,
      "outputs": [
        {
          "output_type": "execute_result",
          "data": {
            "text/plain": [
              "-306.0"
            ]
          },
          "metadata": {
            "tags": []
          },
          "execution_count": 43
        }
      ]
    },
    {
      "cell_type": "markdown",
      "metadata": {
        "id": "ueUY5iBTIiHs"
      },
      "source": [
        "Matrix Inverse"
      ]
    },
    {
      "cell_type": "code",
      "metadata": {
        "colab": {
          "base_uri": "https://localhost:8080/"
        },
        "id": "uGZMqu-hJt3z",
        "outputId": "7d931263-025e-444a-b168-fa32c227d15a"
      },
      "source": [
        "A = np.array([[1,2,3],\r\n",
        "              [0,1,4],\r\n",
        "              [5,6,0]])\r\n",
        "print(A)"
      ],
      "execution_count": 48,
      "outputs": [
        {
          "output_type": "stream",
          "text": [
            "[[1 2 3]\n",
            " [0 1 4]\n",
            " [5 6 0]]\n"
          ],
          "name": "stdout"
        }
      ]
    },
    {
      "cell_type": "code",
      "metadata": {
        "colab": {
          "base_uri": "https://localhost:8080/"
        },
        "id": "5jy_V9WULUBM",
        "outputId": "8acd30e5-6eaa-4aaf-83cf-673900ec521e"
      },
      "source": [
        "np.linalg.det(A)"
      ],
      "execution_count": 49,
      "outputs": [
        {
          "output_type": "execute_result",
          "data": {
            "text/plain": [
              "0.9999999999999964"
            ]
          },
          "metadata": {
            "tags": []
          },
          "execution_count": 49
        }
      ]
    },
    {
      "cell_type": "code",
      "metadata": {
        "colab": {
          "base_uri": "https://localhost:8080/"
        },
        "id": "wN-VMDvIIkrc",
        "outputId": "0a0d10cc-33e8-425d-86c6-7d8694699a34"
      },
      "source": [
        "A_inv = np.linalg.inv(A)\r\n",
        "print(A_inv)"
      ],
      "execution_count": 50,
      "outputs": [
        {
          "output_type": "stream",
          "text": [
            "[[-24.  18.   5.]\n",
            " [ 20. -15.  -4.]\n",
            " [ -5.   4.   1.]]\n"
          ],
          "name": "stdout"
        }
      ]
    },
    {
      "cell_type": "code",
      "metadata": {
        "colab": {
          "base_uri": "https://localhost:8080/"
        },
        "id": "ytb4glr1Ja3R",
        "outputId": "b032ea9f-0fbe-47f9-f0a6-f9be35cee24b"
      },
      "source": [
        "A @ A_inv"
      ],
      "execution_count": 51,
      "outputs": [
        {
          "output_type": "execute_result",
          "data": {
            "text/plain": [
              "array([[ 1.00000000e+00, -2.66453526e-15,  0.00000000e+00],\n",
              "       [ 0.00000000e+00,  1.00000000e+00,  0.00000000e+00],\n",
              "       [ 0.00000000e+00, -7.10542736e-15,  1.00000000e+00]])"
            ]
          },
          "metadata": {
            "tags": []
          },
          "execution_count": 51
        }
      ]
    },
    {
      "cell_type": "code",
      "metadata": {
        "colab": {
          "base_uri": "https://localhost:8080/"
        },
        "id": "chZCmdbSNpwZ",
        "outputId": "8824cef9-e6f9-415a-c926-68520d21104d"
      },
      "source": [
        "np.round(A @ A_inv, 5)"
      ],
      "execution_count": 60,
      "outputs": [
        {
          "output_type": "execute_result",
          "data": {
            "text/plain": [
              "array([[ 1., -0.,  0.],\n",
              "       [ 0.,  1.,  0.],\n",
              "       [ 0., -0.,  1.]])"
            ]
          },
          "metadata": {
            "tags": []
          },
          "execution_count": 60
        }
      ]
    },
    {
      "cell_type": "markdown",
      "metadata": {
        "id": "k48RVVCaI7wP"
      },
      "source": [
        "Orthogonal Matrix"
      ]
    },
    {
      "cell_type": "code",
      "metadata": {
        "colab": {
          "base_uri": "https://localhost:8080/"
        },
        "id": "P2fiCuatI-GT",
        "outputId": "104db955-4da8-497f-ff4e-e911a60e0d6e"
      },
      "source": [
        "M = np.array([[-1,0],\r\n",
        "              [0,1]])\r\n",
        "M.transpose() "
      ],
      "execution_count": 13,
      "outputs": [
        {
          "output_type": "execute_result",
          "data": {
            "text/plain": [
              "array([[-1,  0],\n",
              "       [ 0,  1]])"
            ]
          },
          "metadata": {
            "tags": []
          },
          "execution_count": 13
        }
      ]
    },
    {
      "cell_type": "code",
      "metadata": {
        "colab": {
          "base_uri": "https://localhost:8080/"
        },
        "id": "Y6DcAYsXJIFH",
        "outputId": "91813766-b37c-430f-aa4b-f0fd67131bf8"
      },
      "source": [
        "np.linalg.inv(M)"
      ],
      "execution_count": 14,
      "outputs": [
        {
          "output_type": "execute_result",
          "data": {
            "text/plain": [
              "array([[-1., -0.],\n",
              "       [ 0.,  1.]])"
            ]
          },
          "metadata": {
            "tags": []
          },
          "execution_count": 14
        }
      ]
    },
    {
      "cell_type": "code",
      "metadata": {
        "colab": {
          "base_uri": "https://localhost:8080/"
        },
        "id": "EVMEiQoCJVpC",
        "outputId": "6e85abf6-dc6f-4b4f-9841-482eacf9caeb"
      },
      "source": [
        "M @ M.transpose()"
      ],
      "execution_count": 15,
      "outputs": [
        {
          "output_type": "execute_result",
          "data": {
            "text/plain": [
              "array([[1, 0],\n",
              "       [0, 1]])"
            ]
          },
          "metadata": {
            "tags": []
          },
          "execution_count": 15
        }
      ]
    },
    {
      "cell_type": "code",
      "metadata": {
        "colab": {
          "base_uri": "https://localhost:8080/"
        },
        "id": "vSjk0uH9KSdK",
        "outputId": "670b7597-4853-4e33-b19e-092a041f7121"
      },
      "source": [
        "M @ np.linalg.inv(M)"
      ],
      "execution_count": 24,
      "outputs": [
        {
          "output_type": "execute_result",
          "data": {
            "text/plain": [
              "array([[1., 0.],\n",
              "       [0., 1.]])"
            ]
          },
          "metadata": {
            "tags": []
          },
          "execution_count": 24
        }
      ]
    },
    {
      "cell_type": "markdown",
      "metadata": {
        "id": "yl4PfCrlNEZZ"
      },
      "source": [
        "Trace"
      ]
    },
    {
      "cell_type": "code",
      "metadata": {
        "colab": {
          "base_uri": "https://localhost:8080/"
        },
        "id": "nd2cugPYNFmf",
        "outputId": "c0279084-e9c2-4ef9-e696-906364fc22f0"
      },
      "source": [
        "I = np.eye(3,3)\r\n",
        "print(I)"
      ],
      "execution_count": 45,
      "outputs": [
        {
          "output_type": "stream",
          "text": [
            "[[1. 0. 0.]\n",
            " [0. 1. 0.]\n",
            " [0. 0. 1.]]\n"
          ],
          "name": "stdout"
        }
      ]
    },
    {
      "cell_type": "code",
      "metadata": {
        "colab": {
          "base_uri": "https://localhost:8080/"
        },
        "id": "NIr50jXJNMBh",
        "outputId": "4365b31e-345c-4566-85dd-bf576102b2fa"
      },
      "source": [
        "np.trace(I)"
      ],
      "execution_count": 46,
      "outputs": [
        {
          "output_type": "execute_result",
          "data": {
            "text/plain": [
              "3.0"
            ]
          },
          "metadata": {
            "tags": []
          },
          "execution_count": 46
        }
      ]
    },
    {
      "cell_type": "markdown",
      "metadata": {
        "id": "Wwil6fEONO6S"
      },
      "source": [
        "Normal Equation ( Finding theta for Gradient Descent )"
      ]
    },
    {
      "cell_type": "markdown",
      "metadata": {
        "id": "KNb5IOSsPyNN"
      },
      "source": [
        "![image.png](data:image/png;base64,iVBORw0KGgoAAAANSUhEUgAAAcEAAACGCAYAAAClkTGIAAAgAElEQVR4Ae2dd5Qcx3H/+Y8oWcGWLVmWLNm0rWBL9k+WLMmyZFmBpEgxB5Fizjln5ERkgMg555xzzhk45AwcwuEOwOWccADB+r1P79XezKbbnRmIe0DPe/Mm7HZP97e6q7qrq6uuE3tYBCwCFgGLgEXgGkXgumu03rbaFgGLgEXAImARECsEbSOwCFgELAIWgWsWASsEr1nS24pbBCwCFgGLgBWCtg1YBCwCFgGLwDWLgBWC1yzpbcUtAhYBi4BFwApB2wYsAhYBi4BF4JpFwAjBTz75ROrq6sx56dIlz2B8/PHHUl5eLn7yIO2FCxdMWSiX16O6ulpqa2u9JpfLly+Hy0G9vB7gWllZKV7rEiRtKioq5OLFi16rYuiqtAEfr0dNTY1wej2Cpo2fuoAnmPjBle/TRmgrXg9nv/FTn3ShDXjSXv30PSdt/PS/qqoqX7ShDkH0G/gZfM3rAQZaDr88Gj6fLrShTl4P6mCFYBz0gma0fjphUAMUKwTdxNYBih+h4WS07tyTf7JCMBorKwSjMbFC0I0JPJUBihWCblzCT3YmGIbC3DDisULQjYkVgm48eLIzQTcmymj9zNLtTNCNKU/OwaOfCYIVgtHYht9YIRiGwtxYIejGgycrBKMxsULQjYkVgm48eEKVatWh0biYNzBauyboBkcZrZ/RDnlw+tHjWyHopgtPShurDm3AxgrBBiy4s0LQjQdPVghGYxJ+Y4VgGIrwjTJaKwTDkKSNyk1pY4Vg+tHGrgk20ETv7JqgIhG66gDFrgm6cQk/WXVoGApzY2eCbjx4skIwGhM7E3RjooyWtuL1oO+pVaafAZcVgm4KKG2sEHTjEn6yQjAMhbmxQtCNB09WCEZjYoWgGxNltFYINuBi1aENWETdWXVoFCRhRktn8nKQjg7IadcEQwgymtaRNW3O62GFYDRyVgi6MbFC0I0HT1YIRmMSfmOFYBiK8I0yWisEw5DYNcEGKMwdQt1ulneDYtcE3XjwZNWhbkx0gGLVoW5cwk9WHRqGwtxYdagbD550gOJnnca53yn6C8m9sUIwGicrBKMxsULQjYkVgm48op6sEHRDYoWgGw+erBCMxsSqQ92YKKOlrXg96Huqvvcz4LJC0E0BpY3vmSD6XUZdCA0VHLzzclKY0tJSM233kp40Smg6I+Xymg/eUfAm4DU9jZ70YEK9vOZDevZOeq0L6cDCL22oT1lZmcnLa12UNpSF/Lzmg+qP02v6oGgDrmDipy7pQhvaKHRJB9poOfz0G9oatPGTh9KGq5/+R/+lTl7ba1C0gR/B17yWAwyUNuDrNR/Swuf90EZ5STrQ5joqQoGUMQES77ycpC0uLjZAe0lPGiU05aFcXvOhA9FgvKaHOKSnHNx7zYf0OjDwkoeTNmDjJQ/SUIeSkpKwrz0v+UBfxcQPbWAqnF7KoHXRcvhpr9AGTPzSl7IEQRvK4xUTJ2381Ae6qPDxUha+HQRtwNMrbaprqqSoLE92HF4la3fPlh1HVklJeaHU1KbO22jn9N90oA24+qENdQmCNkHyeejsh5dAG+rkpa0qLzFCkAeIzOmHqQQBDnlQDr/gpJMQpDP7IXQQtIE5MUDxw6yVNpTHT32gjR8h6OzMiRh+TU21VFSVGQYIE4w884vOy9ncM1JUmh/1W+R/4z0XlxZKWXmpL1ypD20EXL125qBo41cIJkubxupJO6W9JqJv7Dxqpag0T3YfXyfvDrtFHux0g3ww8nY5nrPXtIXYaeIP+oOgDXXQPkx+qZZB/x+EENRy0F4031SvpA1iskNZ/PAjyh2IEERHzUmGEIgps75L9UpaGBzqpVTT6v9Jqw0FXbq+T/UKuDS+VNPp/1EVaDm41/epXsmDxuunLkobP7hSBxicnzygr2Lipz50Is5UsdT/K20oSyLaHM3eKRNXdZOX+/8i5vlSv/+RF/v+POZv8dI437828FcyeN77svPoGl+4gqWOZrWOqV6DpA19J9Xv6/+pC3Th9MNLaKe010T01W86rxXVJZJxbKW0Hnu//LHjP8g97b8uzUfdKadzD0ptXeptTmlDfZzfSeXeSZtU6+P8DvwsXWgDn/dLXzCFtznrmOo9gtQPbaCHDaXkXmsNP0EMCERnpCN4PUgPoVjE9XKQjjw4IZjXQzszDdfrwfcVE/DxetCZOb0eydJm74n10mvmy/K7Dz5zRc6bm/+FtB5zn2zYN88wBD/1oY1AY69HU6NNY/WknergsbH/8vvlTy5LUUWurN03U7pPe1bu//CbckuLL8jd7b5mhGBW/mGpu5R6m1PjCz+0oe8F0W9g9gwevR7URcvhh5eQlgGKH74IfSkLVz+8UWeSXjGhDlYIxkEvWUYbJ3n4NZ3HCsEwHObmzyUED2ZtkWGLmsuDnW+IfXa6QR7o+I/yQKd/lDvbflV+3+LzRlje2Ox6ub31lw0jRZ0WL/3DXb4t3aY+K1sPLbVCsJ7EQfWbZIUgDLTmQqXkFB6XlbsnS9vxD8pd7f42POixQrCh71kh2ICF3lkhqEjEuAbVma0QjAb3zyUEswuOyopdk6T/3Ldinn1nvy69ZrwivWe9Km8M/o3c2+Hrhnn+vsUX5Pk+P5EuU5+S/nPfjJmWPAfOe0dmbxgkR7J2WiFYT+ag+k2yQvDS5YuSeW6PjFzSWh7t9j2Bdjd+cL0VgtHdzsy47EzQDYwVgm48XE9BdWYrBF2wmoc/lxCsqauUgrKzcir3YMzzeM4eOXBiuxw5kyEjlrSSp3v9UH73wfVye5u/ka7TnpZtR5bIyfP7Y6YlT9aZcvIzpbS80ArBejIH1W8SCcHLlz+WyppSOZi1Vcav7CwtRt8lj3X/N7m11ZdcAhA1uJ0JNvQ/OxNswELvrBBUJGJcg+rMVghGg/vnEoLRX3a/gTYVFeVSc6FKZm8cKC/1/7lhoqhGBy94X84WZpq1Jncq9xPMWtc23L8k/0Rbs2uCbrwSCcGSijzZcWy59J3zujzb+0fyh1Z/Wa/G/qw81OVfzCz+T53/WW5t+aWrQghe+viiZBcckzW7Z8q0NX1lzqbBns7ZGwfJjPX9zTlrwwBXHssyxsvek+vN4MJNiegnuyYYjUn4DVJVLbrCL1O8cS7we10w5ZMsILOQ7PWwQjAaOSdtwMfrYYWgGzkrBN148JRICKL+HLGktdzZ9iv16uvPy11tvyqPdvuuMYoZvay9vDfiD8Yy9GqYCdbWVcnKXZPlnaE3h9W8QRt7sb6N6j+n4Hg0MSLeWCEYAYjz0QpBJxqhezsTjMbECkE3JlYIuvHgKVkheGMzZn//LB0nPyrr988WrEB3Za6RFqPvlns7fOOqmAlaIRjdPnjDJMlah8bGxry1M0E3OAxQMDmHuXg97EwwGjnwtOrQBlyC0qAkEoInzu+Tyat7SLNRd0r/eW/Jou2jZP+pjVJckWcsRQ+d2SYtx9wj93b4+6tCCNZdrJWMYytk4Lx35Z2hv5f3R9wa83xv+C3GwAtrZ1TBWDljKMRa95tDfifvDb/VOBDAiQCnM59Okx+XmRsHSEFZTgMx49zZmWAcYHhtZ4LR4NiZYDQmdiboxsTOBN148JRICOaVnpFtR5bKkh3j5GjOTqmsLQtncOnjOrnahODHly9JTmGmbDqwQBZsHims38U6l+wYKzPW95W3ht4o93T4utzc/HNGZfzRzJdk1sYBsnTHOFm0dbQ5F28f68pj3b6ZcuD0ZqlyYBkGNeLGCsEIQJyPVgg60QjdWyEYjYkVgm5MrBB048FTIiEY/e+GN1ejENTaNbZZHmGZX5otvWe9Io90/a6ZBeI1Z9nOCVJckWu3SCiQjisyy26WdwDivA1KrWOFoBPV0L0Vgm5MrBB048GTFYLRmFgh6MbErgm68Yh6smuCbkjsmqAbD54YoNgtEm5c0mWAYoWgmy48WSHoxsQKQTceUU9WCLohsULQjQdPVghGY2KFoBsTZbS0Fa8HfU89tTDr93pYIehGTmkDtl4Pqw5NgJxVh0aDY61DozFhxmKtQxtwCarf2JlgA6Z6Z4WgIhG6BiYEmTGx14LQGJyY0fPOy0nagoIC33lQDjbdUy4v5SAN8a6INeU1PR48FBPuveZDHkVFRb7qAhZ+aUMdCgsLDa5e6wJ9g6ANsfM4vZYjKNqAa0FhgRATcOqa3vJC35+FPcb0n/OWZOYckMqqxLQPgja086BoA3389Bu/tHHyEj/9BlzBJNU8yivKZNexddJs5J1yb/tvGGfaH4y4XY5k7ZbS8lDA71TaHfWh/4JrKumc/w2qvcLPNI6fM3+9r6gsl6zzx6THtBeEze9sj7j/w2/Jgi2j5Gz+qbTi89pvuPppr0Hw+esYXaACgcFxUiDeeTm1wUB0L+lJQ1rKwZVyec2HBkPD9ZqehgWBKAv3XvMhPYTyUxfy4PRDG+pAZ/ZDG76vmPipTzrRpqioUErLi2Ta2r7yQt//DgvBAXPflpNnD0p1TWLaO9ur1zYCbWgj0NhrHkHRhj4DfbyWg3ahbSSyvZ4vPCOb9i+SmesGyuSVHyU8p67qI/M3jJLsvBNSVZ08LpVV5bInc4M0Rwh2aBCCx7L3SHll6vWiPkHSxg8vAddEtKmqrpTsvEzpOf1Febjrd8JCkG0R5wuyAufzkfRNpc04+40fXsKgDVxS+bbzv9DDWoe6Z9jhp6DUOtY6NAxp+IZGz+n1CJI21jDGTYUrSRv29PWY/rwRTo25/bqjzd/Iy/1+YTbB4zEl2cNukbBbJJJtK/zPrgkmQCtIRsuoB/21l4N0CFJO1uS8HtYwJho5MLVC0I2LFYJuPHTdibbi9bCGMdHIOdfS/fBGZqPWMCYaX/NG1Q5xfm70tRWC0RBZw5hoTJydOfrX5N7Q1hgo+WG0TYE2diZYJ9Da64EaD74W77Cb5eMhE/+9nQnGx8Y0VjVrBiivB4zNzgTd6F3J2Yb7S4mf7EwwGp8rSZvzRadk/tbh0mvWy9Jx0mMJz25Tn5VhC1pKVt4RuXgpeRN4qw616tDoVh3/TZoLwQty8VKd1NZVG392FTUlUl5dLOXVReZaUV1sYl/VXKiUuksX5PInCKoGlaOdCboJD7ExvGDm4vVIbrbxiRD/DLqE6FUs1RcqBOakx5VktPqNZK5WCEajVFlVIcVlBeF+Bu0uOmgXncL9JigNit0i4caVJzsTdGOiquqrUh1aU1sj5ZUlcihrq3H82n36s/L+yNvktYG/kpf6/Vxe7v8LeWvI76T9hIdk1NK2svHgfOP93NlZrRB0N5g/lxBk1H7s7C4ZvrilodfL/f9Hhi5qbgJ2hgYqYoxiEIRej6AYrRWCbgrAVPad2CQjFrUxAYZfHvALGbzgPdmduUY+vpycNiQo2lgh6KYNT1YIujG5KoXg5U8uy5m8o7J693QZtrCFdJr0mLw64JfyQKcb5LbWX5abmn+uPoL09XJLiy+YoJlPf/RDaT76ThNlesHWEcarPDMRNd91w5b8U1Cd+VpSh164WGMiYI9Y0kqe6/1jubXVX8p9H/69TFzVVU6e3x82DrIzQXc7pK2ly5rgibMHZNyyzvJgpxvklpZflCd7/rsMnPeOCbaKVqaxI6h+Y4VgNNJWCLoxuaqE4CfyidRdqjXhQuZuGiItRt0lt7X+K7mp2WeTjqSMgGSWOHJJGzmSvUPyCnPMHi83bMk/BdWZrxUhyAAmt+S0LM0YJ88aAfgluaf93wkxzghyinpUDysEFYnQNZ2EYFlFiWzav1jajntA7jXheD4vz/T+kSzYOlzOFZ0UjC8SHUH1GysEo1G2QtCNyVUlBFG1EMxx3IqOhoESLbqxfUSxfieI5H0d/l5aj71Pth5cZjbHumFL/imoznytCMG6izWy9fBi+WDk7cIeL+hDMM/ZGwdKQak7UKcVgu52mE5CENqcyc2UlbumyDO9/lNubv4Xhp4MMDcfWihVteXuwkc8BdVvrBCMANaqQ6MAuWqEIDOIk7n7ZdKa7vJcnx/L7W3+2iUAUck81OXb0mbcH2XQgvdkzPIOZr3pw4mPyJM9/0P+0OovXf//fYvPG0HYZfIzsunAQrl0GUOQBoOZKCTjvAiqM18rQhDzd9YBUX/COLkSrfpU7gGpidjsbIWgu9GlmxDEg052wTH5aAaeR75tgrPe0eYrMmj+uybwKswn3hFUv7FCMBphOxN0Y3LVCMHiijxZvH2MvD7o13Jryy+FBRqM9PEe35f2E/5k1pQ2Hpgnh89sl5O5B+TY2d1m1jFjfT/pOeMFs4gfEp7Xh9M/0vV7Zl2RzswaYapHUJ35aheCzOIra0pl9qZB8uaQ3wqzeGbkbwz+rczZNEjw9nE5wqjCCkF3a0w3IVhdXWUGLst3TpAPRt4mDCyZ2WOQRp8rrSyIoqnWKKh+Y4WgItpwtUKwAQvurgIh+IkwC9xzYq30mPG8WYS/8YOQEGP292Dnf5J+c94w60msF8Y6WJ/Iyj8sU9d+ZAShquHosDDjt4bcaNaoYNKffJLaJtWgOvPVLgRr6irlaE6GdJj4sNzZ9qsGdwYkA+a9LcdydsUim7UOjUAl3YQggxQGLjmFx2XowmZy/4ffND5V0bpA590n1pqtS6zlRx5B9RsrBCORtdahkYg0eSFIJ8NYgnVA1KAqABFgj3T9rvSd/YZknt0b6mxx1S/sSauTkso8wTL07aE3GSZMHpwPdPpH6TjxUTmde0iwXEzlCKozX81CkIFFfmm2jF/Z2RhPMPBgAPPqwF/Jil2TzP7AWJjbmaAblXQUgiwh1F2slZW7JhvjJozUmOE/0fPfZdD898wafiwjmaD6jRWC7jbCk50JujFp8kIQNRnrRez1u7vd18JqTGZzzUfdJVsPLZWK6pKwWb27+u4nnREOX9zChBBRgXpryy8aQ5tVu6dKQdlZd6JGnoLqzFezEMSBQcaxFWbwcXd7aHi9CV0zZGEzY6EbqQZVyK0QVCRC1/QUgiF1U+a5PWYd/s62XzFblG5v8zdm/+eWQ4uktDLfXRGRwDwteRWCaJdKqwpkV+ZqWbFziizLmCjbjyw3Kvt47TGqEo4Xymjpx14P9uiq9ylo7fWwQtCNnNLG92Z5iAKRAJgTYvPOy0nDJRRLMnkUlZ+X5TsnGjXmTc1C+/+YvT3R4wcydEFzyS8+KxfqapMqB+WvuVAlq/dMl5aj73HNBrEWhSkfzd4llz6+lFR+1B3vKDBrMKFeXvAgDenx1EIZveQRJG0IOUKD8VIO0kDXBkzqJPPcXhm/slPYGAZ12TO9fiRr9syQgtJzcb/DHk6cGXgtR1C0AYvy8jKpvVAt2w4vNdtrOk163ISigXkWlp2XjxtpM+QBjf3gSn00HIxXTJy0IT+v+UAX6KPpWf9bv3+Ooevtrb9sZoP3ffhNGbaouRzJzjBenfS/XJ20SYYPONM670O0KffV95y08dP/NMSVs3yp3MM/tN/4pQ37SeN9Gw9bucVZ0mvmy0abZuIJdvyWLM0YL4Vl5wLj89AVPu+HL0IbMOHqhzbgQT7xMGnsPXW4jgpREBo+GdIJeOflpDDE3mosD75HrLbes16Vh7r8S3gWiLqFYJhLto2XisoKqb0QEsrJliXz7D4Zt6KziaOls0HWp94bdqts3L/AxCVLNi8YG3goyMmmi/wfuBIDjDpH/pbMc1C0oT4ayDaZ78b6D/RVTIjNtmLnZDMLpLMxgGGDNULkxNn9Ul1TFbe+MHwYS6xvJPMuSNqACfkl891Y/9F+wzXW78m84/u0ET95OGnjpz7QBfpouWtqq+XImZ3SZfKTZnkBOuME4cV+/y3LdkyU0vLC8H9JExRt4CF+aUMetFdw9dP/oA35KCapXoOkjU4yYpUBWuXkn5Ce01+qjyf4eRNUd9G2MZJbdMZgoP23MR4dK399R1qNkarvUr0GRRvw8Eub62gc2nDpANpgeJ/qqeBwTZQ2FPhyvbw77BazoZqOhQCkcw2Y847sz9wSEoL1I+xEeTl/yy/OkeUZk4xgVUtTPMs82u17MnfTUMkvOZewXM68aLjgwdlYfZzpIu8hkHbmyN+SfSYPv7ShPjRcv/RVTE6dOywjFrcxRhPq1OD5Pj+VaWt6S15RthnAxKsfDVdnpfH+k+h90LQhv0TfS/QbePqlDf2PNgKdE30r0W+0UaWNn/pAF+jT8K1aOV+YJQu3jJbn+vzE9FPozeBy6MLmcvTMLsd/Q7xEy+Gn34CrMtqGsqTGk5Q2fnBNb9q48WDgGS0EvykIwfNFWX92Pp+Ibk7agHGi/yb6jQEK7S3RfxL9Rl+5jqmoqjC08/DOy8loQGc9idKXVhTK+v1zzT6/21r9lZlFsCUCQ5Zpa/rI2fzTZopLuRLlE/lbVW2F7Dq+2pjn39Xub02+psO2/rKMWdbBeKSPTBPvmbrQicGE+3j/a+w96WEsTLsb+2+s3520obHE+k8y76gDzM1PHjQmMMHJ8prdM6TN2D+aWTdrgahCW425T3YdXyOVNWUJy5lXeFa2HFgqY5Z9aBjp4PkfCOeQBc1k0qoesvPYaqmqKTftMlbdwDIWbVD5bDm4SIYvamXy0nxRry/dMUFOnjsoFy810AEswMQPbciDsnBNtb1St4sX66S4PE+WbpsoY5d2MjiEy72whUxf109OnNsvldWJMVXa0N6oD0sJ+SU5smjbaNP2NU+uY5d3NLP4kooC8z8nxjAnhIbzHd9mOaHV2HvljrYhRwgMWll6YFN93cUL4bo7aUOZnPmkcq+08dP3/NKG8kJT+i+4plJ+53+dvMRrWyM/FRzOvJ33dXUX5HzRabc69MNvyZId46Sg9KxpF9SD0w9tSAufTwfaIADpf04cUrmnDp9KZHksChduG2l8fyL8QiqWL8kLfX9qZnJlFcUGYBY+UzkwkGGdik3aD3T6B5MveXP2nfO6HDqzLens0CVDbCV0YwlZkGfP4/Gzu40gRhhzbju8TDbtXyQ7j61yvdffG7vuPL7K5EE+LPDH+j/fZI010UHDoMHQCb0eIYFcLSXlBTJySWvjUUTxRRWKj0kMkBrbl5lbmC3zNg4XnGv/oXVoEEQ+qLDZGjNk4QfGaCpePpG0oZ3gPD3j2ErpMf0541cWJk2etC8Mr7BoPHB6s2t/G7SF4ZOf18MInAsXPOOKsQaYjVnSQZhJ39wi1B+07E999B8yc0M/s3k9ljWmlhvaaHslz5LKfNlyeJG8Ofi3clfbr4b7Aha8uLWDfkXluVERIpRJar5c+S5GajirQKuiNMdZBQ7siRaiZYukjTOfVO7BlfZKu/V6OGmTKi/Rb6rxBW3F60EdGmjjva2pUI9XDmgAb+0965XwmuAfO/6DLNs5QYorco2RoZaD9uL10IFButCGOnk9qMOnIgRP5x2S8atYuwttwqVTYRXacszdsuXg4vB6kpeGe7Yw0zC8R7p+J9xZyb/j5Mdk25ElSWOVamdmC8bqPdPkveG3GpURTDh8fuC4d74P6J5vLsuYkLBuEDsIIUh0jxPnDkirMffKXe0amOsrA35hIn4QRaIxusFoj2btlomru8oDnW8wOClj5frqwP+VmRv7my0WsfKKpA3CkgEIQhgPJ8682LtIfgwmCAvkPNJBCFIetiKABzH0nJbS1OP21n8tL/T9mWw4MDehyzKnEASPfac2GkcSWHU24HG93NLyS9JzxovG8QQDt8gjlhDkP9Bh/pZhRqhqfgxg8OTEwFOda0fSJjL/ZJ+tEIxGygpBNya0SWbHTVII4uB6yML3zShdOxSj1c5TnpRdx9eGDWJiMUA3DNFPjISmru1lVK2aN1c8X2CNmmyeqXZmIwR3IwRvcTCd0CzUWY4rcf/u8FuMBVg0Gg1vghKCuUXZsmr3NHmx789c9MOzD159knFKAKMtKs03m+yZtf+p8z+5MMPxdovRd8vBrC3GtL2hFqE7J20uXbooheXnZP6W4fL6oP+TW1s1eB3i/o3Bv5FVu6dIYdnZ8GxF80sXIYgFamFJvqzcOdVsGWK2pu0Ex/AMEAfMfUv2n9oUt/06hSCBaInc8Ui377kGmqyPsyUJa09U1rHcCcYTgmC2/ehyEwjXWbaX+v/cCEdmnhxO2vidKaT/TBCHHx+bUFOjl7WTZiNvbzhH3SHNR98l87cOk5PnD6Q0E4RHMZChPzGw03zfH/4HaT7yLuky5Umj9WAG7jxIh2MRJhkMgnYeXyl7Tqwz/UMHp3Ym6ERMjKbhU5kJsoen27RnjU9C7VD3tP+6DJz/jhw6vT3cYJIVWM5qlVTkycrdU+T5vj8NMxK+wWxg1sYBpnElk2+qnflaEIKsX2Xm7DPu6B7uEppxMdtlRk/cuaPZGU5SxL2H0VbXVEtlbakRUDALQmVpW2DLDA4T8BNLCKaQ/9eG7Jy0YV0LNSjrU/gr1TwoF2o/1HUIwFjRydNFCFIf1LJn8o7JvC3DjJr5D/Vr5VofHFhPW9fbqDljxfZDCGIdWFZZbNwQNht1h9zcHE1LSC3M9oZnev+nLNo+Ss4Xn24AM+IukRA8lXtQhi5qZmgFvpSNdvDRzJfkTP5RM8hw0ubqF4JivF4xWBu84H25t8M3XANDBjPEQWVdtrgsTy5cCG35ioA86vHCxWozu+4z+1WXZoPlAtSbDDjx2tOYM/PIjOF7Vgi6UaGN/tmFIIRghNNyzL3i3B+Ia6bxKzoJ2xyUUMkIK3eVRIg4n3F8hbwy4JdhhkhnhSFOWNUl5MsyhhooMp9UO/O1IARraqsk4+hqeX/EbXJ3+78z+Oqa24z1fSWv5EwkjDGfldGG1q4KZNLqbibihDJs6IVQZI0YzzM6y9DMlDYw/cNZ24VROGpEbU8wnzvafsWsjew9sS7u7CndhCBbgk6c2ydDFrxvTNw1fiZ4YHjUdvwDknF8ZUw1MUKwtKJIDp/JMGvi9CfScZIPfnhxZZeVd8h4WfBMAXAAACAASURBVFIsI69Km8j3PEOHmRv61zvVDq1d3tnuq/L64F/LvpMbBBd6ShuwvRaEILigZt90cL68P+IPIdeB9QMPsEcd333acyZYcVV1RaPBiVnXyy3Jkilre8pzff7LteeZPoEryDV7Z0T1iVj0inx3pYQg/RgMCLXFoNWcuQfMDBS+GOtobL0Wb2L5pTnGNoD8GGQxmMVDmGowqE+TVIcyzceDy7vDf++KF0innbSqq9ljdiWEIMFBRy9rL9UXyl3GEbEIxLtUO/O1IASLy/NlWcYkM0tTtSNbUZ7s+QMzo6uqRcXW+OFktKxLHcraZiIUhJh+aIahM0wMXVDrOAdEIdrUSkHpeZm5vr8J4KsGVjAeyoYzb9ZoqxOE/kk3IUh5GN0fyckQZnLONVfweKTbd82si3VvDIGcB7P0U+cOyfBFLeWJHv8eHhCABwMCBOjh7B3166LxDc6ctHHmz33txWpZtWeq8RijW5DYI8peX/o0xhep9pvIb+hzU1oTVPeBDNgwFnK2RQZkz/b+Lxm1pJ1xIAH/S3SUVhWakFWomZ2+kKHji31/LhNXdTdtRA2REuUV+duVEoL0e9bc24y731j4M1slEPqIJa2NQIwsB8+NCUFU/ywB0Lb+2PFbZlIzbFELyS/LCfPvJioEP5GLl2plWcZ4s1aj+8sgMKARuDM7P9PXTBAmQrQJ1slYAyFvTsBEZVdeXRS1NhSLSKl2ZkZDucWnDcNm7VHPxdvGyoLNo4zhir5L9bpk+zghH0ydY6VFHcgoLNHBqNyvYQy0mbK6l7CtRWddMNh3ht0s248uM+sRicqgv0Uy2rKqIjOSZj010jDkqY/+n4xZ1t74qlQGQl0qqytk5a5p0mbcA3JHm78OG9cgALGonLt5iImGDl3iHekoBGFuWGKyxgmuToaKipTZAYGL80qyXNXCUwhtBI1HKKJKqN3DhBGoS3aMlcraskZnIpG0cX4ELHccXW4wV/U1+bOeP2VND+PMPtV+48zfed+UhCDlZhCMw3HUoghC5TtcmQ2+NfQmY/SH+j7egcp+d+Zao8FgXVw1AVzZPjZgztuyL5N14WiDpnh5Ot9fKSFI3bPyDhsNhG5NY9BGXNd1+2a5BrBankRCkMEWFq2s52v7x5Kc2KQMEnRA3GSFIMFXl+wYY0aTTiGI70l04IRqgekv2T7eMHxGV6mci7aPlomru8nzfX7iEoJsmeg39w3jV/BjE2NQyRH7GlRnVkarhIv9tfhvSUcenKi8vB5BCMHDWTtk0Lz3XB2ctdzOU54wRiyJBI6z3JGMlk59vviUzNk0WFj7QvWnTAShRqDedftmGlN8/ltdWyHHsvdKj+kvGLWh/pf2hNqP7TAYB2B1mehQ2kBrr4ezM3vNg++zJkh5ODC2OJN/xKh5H+v+ry6VGNaeWDoz6CBOI5Ec8MO76eBC460n5L0nNJtmEAgeGIrBoJM5ImkTmYZZO/g6rU6hV785r9dvQUlta1Fk/vrc1IQg5aa9oa7uPPkJ40NX2yUC4f6O35L+c94yWo9Y69P0c2b4LA08+VHDbJK0zAjbjX9QVu2cbgzKFKNUr3xDtWx+eAlp2Tup6m76PbPBscs/rF/WCA3A4MHhJaiIwaiz3zh5I/caYJ3tUgyy0Dq0HfeAMfKhrevBf5ugOhTP9LGFoDaYK3W1QtDvTPAT41+z48THwgIKWqH6GLLgg7hqD22wzmssRlt36YJZAwjtcWJ7S4iR8w2sR7tMfdKsD2CKn1OYKdPW9pHHe/wgPAPkfzh3JtQPlnFqsu/8buR9ugpBysmMkBl+t2nPmEEBzJA6MivAAGPcyk6SXXjc/A+BaQwz2n8jHI0F5oGhUP+5b4a2Q0QwoUgs9DkWbfQ3rhjHEDVE14Qp0y0tvyCtx90vWw4vNoxRGa0ySWf6ZO+bohCEKbM2Nm/LUGOIBw3Ah5PBCe0YDQXWzM6DgR2CccWuycYSVNNwRQDgTxkN0JncTLMx3Jk2lXvKp7QJUghSBvJeg+/mMfeE++69Hb4uXaY+ZQyxIsPhxROCDADR5LEMEhrQhdwx4v+5uDzXpcWzQrC+cTkbTKJ7KwT9CMFP5OOPLxqV7jtDbw53bPBmX96MDf3kbNGJpPtjLEZLg4YRsMEbQXZLiy+GOxNMlhkRlpOHzmw3jtLZWO5U+1EWjAbYy4b5fzKz0nQWgszw2MyOU3hUoA11vd6oiNgbyvIB63DMHtinqaojsEAthToVQYq6WY0JGiNSLNo40zBjB+P7Onwj3A6wDmYNFqvsC3UhbyRge60JQXCCiaOFmLymh6GB0oRBDDh1mPCQbNg/1zBzjceI4GSvJdtXcPjv5GNPf/RDoxE4W3hCcDeJdxSvx5UUgpTpeM5us7aP8MKSlfq+NfRG0waJOOM84glBljwWbh1p+rIO/FCL0tYRpNRBDysErRDUtpDU1Y861HSeizVGXYnjZGcnRTihv0eFkewRj9HCFMhn1saBxpuMMhBmhQiBVmPvM9to2E/KmpSuS6L2Y5TNDAXrylibwGOVLZ2FIOXF+IWg0ayJsjaqa0Tgj4ce1lymr+8rbw35XdgHL7+B22uD/s9sCcKVnK6lxsIg8l082uj/iipyjXUiRjpKn5ubf85s62AGxABEZxvXohAEJ4Ta3pPrzRrZHzv9g0tb8Vi3fzWzdtTTDPqgMdaPwxe3NKprxdTQuPM/GYcHh7K2GpV3Y5vllUbxrldaCDIgm7t5cP3+1C+Yej/d64cm6Dlr2E4BFksIov1gwDZo/rvyePd/M3yG2XTPGS+Y4OqRa6FXnRBk1MCs4ule/2nW8xjp4ykj1RM99FM9/0PuaPMV11qKnQl6nwnS+DA4mrKmp2Blq0KQNTga+aZDC1Iy2U7EaJnBoQ4hVA8WwzfXexVCAKDeg/k+2PkGRxk+Z1SyrMPAeOKZZMdiDOkuBJWhYtWJUwFCGCn2CB5mDS/WWxHqqJnf2WOJ+ii74GjC7RCxMElEG/6PYdm2I0uNAY6u3dIOGIQw+4ERsh/uWp0JKqZ4MFq/f7a8PfRGxyyeAcrnjcEHhkpghTHd4u1jTL+6rd6FILRE+4FqEXsI2jR9MN2FIEJ965El0nzUneE6m8Dmkx8z7iRD2xtCCMUSgmyLYEBAvdFk0MYxKpq2rldMw7+rTgje0+HrxnoTj+fr986VDfvmyeaDC4XgnamcWCPN2TjIGFiEVGohnbwVgt6FIDMrmN+YZe0Ms1NGDBN8beD/mT1iFTWl2v8bvTbGaOkMe09uMKqUSGtR/bZesZh8Y/BvZf+pjTG9yyQqTFMQgsyOGSHDNFGBar0TXdm8jqcQ58g7EQ7O3xqjDTO9XZlrTBxQNuBTDpg2TIvZTE5BZtjj07U6EwRPaFZdWyYjl7Z2GYuAF2u6zUbeYQZ7bDnB6MVJTyYErLWzJ9O59zbdhSD1PnF+n4xY0srUkTqhsXmm949k6+HFxnhG21osIYj6nz2Q/J8ZIGlxerLx4Lz6rT2aOnS96oQgREe1gwUiIY8IylpSWSBlVYUpneeLThofoeiRaUzauKwQ9C4E8VCCk+ehC5u5ZiMIQVyVYYhSGaAQZDaI8QBqVtR6ThWR0pMrHQVPQNPrPamkovajGzUFIUg56exYDjLTwoG1s1078cCK8OX+vzB79vCc5OVoTAhikXrozFZ5c/BvwhaiVghGIw3NEIQM5ghyy4xGDWVUyKHmY9aEFaTSESyZPQ1e+L4Rkk4L56YgBOm3a/ZOF9YyWaZAg8N+15kbB7jsBiKFIDNd9Uj0UJd/Nnig+ek69RmDA1hGHoEJQRgBOnxMTTHTZuGVd15OOlBjQXXxmsBs7/VBv3ZtlmdD5NQ1veR49n5TDjV9TbUcxWX5knFkpZmhOLdg0NAwUS4sPW/cSzWWLw0OPDipV2P/x3vJyXMHjCED7q30nLy6h0xY0dWYqeu71K69ZPLqnjJ5VQ+jjoyVFuMJPO0kKiP1IWadF/pSt6zco9J39utyV7uvhTtsaCb4K+PvlY30ib7v/A3zavYsOt9F3tNOcCM2cO67wjqKMgm9qgupvrPfkAOntkpNTertljamsR4jv5/scxD9BtoQmoa84n2XfZE7jqyU7tOeN5aZylAVDwYKj3f/voxa3F6OZ+9Nqo3H+hZ0gT6xfuNdRVWZHDi1Rd4c8jvD2Pk+tCAWaL/Zb8jRM7sNbZPtN/G+Qzv1SxvyoByJcI33fX0Pb2yMNvrfWNeCkvMmFuNbg28ylp5OeqHaj3S1hsobF4BEjYFXOfOENoT+cr5L5Z66pMLT4uUNrhrrMfI/ZZUlcvDUNuPj9N72Xzf9lrbJQIAwa7pe7KQN72hX1Jn93WgVWO9/vPsPZMa6/nIm91jcOoMHdYosR7LP9L3raCCcZAax6QD6LtUrRCooKEiYR3llmdkD+PbQm11CkPWNkYvbyoET2005KIs24FTKkVeYIxv2zpcX+/3cxTgZQRNLraD4vFRUNl5Hvk0ZOKlXY2UoKSuSJdvGy9tD3NaT2uiv5JVvzt88MmEZqUNhYWFC2sSrY3lFmRw7s1d6THvBbEPQuiAEXxnwv7L98ErJLzqX8PvOvOlAMDjnu1j3lVWVBtMPRtzuoiXfRwg81/u/ZPraflJYkidVVSFmFyufeO9o82DipZ1pntpvuOq7VK98n3I0lkd27glZvG2c2RsZOTvGlP7V/r+STfsWS25BjueyQBfoE68OxWWFsuf4RqOCdu4VhCZdJj8lu4+uN7T1y0vgQ2CSTN+LV1byoByN4RovPe+hTVFRka88jpzeJeOXdZWHOn/btXdZ+5Feb2n5RXlryE0ye8PgmG26MdokqofWRXmaHz5PWvh8LNpUVlZITt5JGTK/WdhpAJORNwb9xgwGSstDbSuSNjl5p2TuxmHyQMd/NBihCn1z8O9k19G1hmfHqxu0oU7xfm/sPXW4jimlbgxHKiJBeefl1E2UTHXjp78sGw/MN5Z+at1HI2DqO2Z5ezmWvccsAFMW1hTi5xO7jKhQ1x+YK5FWjMZ36MouwnoT6r3G8qUulIGT+8b+z740XEd9alEkdoxPWEaljRf6XrxUZ3z3sYfP6coJIRhSh24wXk4aw0h/ZxTI7Fqf411pl2DaYtRd0UKw3pnwqCVtJa8kOymaRn7HjEDrY9ZF/pbsM3j67TdquUt5En0XlTR4EB0iUgjCaLAgnb9lpOQWn0mYT6JvQBfoE+8/bFYmCgym7844hfTh7tOfM5vByQNMEvOB2P1XvwuuMMpk+p6mibwqbcCVthT5ezLP6sigMdokyqu6tkoOZ2VI58lPulSfKvz0yswQ1474Dr30cTTPAVeYeqJvJfrNyef90Ia0iWiDER1re+8M+73pt6h4H+r8L8Z6G4MhljsiaZN5bp+MXNqm3uL7enmo3jF7QWmOsaKNVS+lDW0t1u/JvKN9uRxoQ2heej3ozApOojzwgN5zxvOuKBJsvu0z+zWjaqEcgEQlUj0ILou11XO9f+xinK8N+pXM2TRICFuTTL7aYChHMgv8WHCtvkpDKbHWll1wTHrPetVY3WqnDQnBX6dslEJn5kx0sBbCN/FOQofQbzqvzH4wFiFAMx0v2a0R+l1oy0gfWns9YAi0V65eD+3MlCfeQfvCZRlWoqiLYCxOLNhGcne7v5P3h98mmw8tklQMlZzfbIw2RDg4mpNhrB6dvk0pCxuc2ccJU/LLS8CTUXoyfc9Zfue9kzbJ9HlnWr0nHYInEW30v/GuJtxXaa6s3zfXGMQQI9JJO2jJ+tlHM1+UjGMrQvvhJJr3gSsDFK8HdYEufmmjA+p4tGHQTPgo1jxZC6Wu8AodJLG+p7QBV/gLlrTEplRcGFzDr5m0RG6N0PorbaiP14M6uISgKdCfQQjSiQjJ4hzNqpPf7UdWSE1taA3OS8NlFDVxVRfjZUEB5Yr/xJW7JyclAAHUCsGGZkWjZTN8vzlvyF1t/zbcUK+UEOR77CuiE7zU/39c7cRJU+4xqOow8SE5dGaby/qsofTx72jvTUEI0g9O5h4w+wXxgevsN048eM/sjO0l4BEKuRTNTOMjImZwkmiAEk8IskG675zXJPNsSJMDtvGYZKLv629XkxAEBza6n849It2mPuPa0wn9VAhiXXs0Z6dCEHUNSgj65fONCUEGo/i/xYkDfny1jeK8Ab+3tCEcvocEcq35L75nsQrlv6iFGezhRxUnHfGOJi0E2QAMQOyFUfdYOGXGonPNnplmkRRCpSoE+T8BRT+a9ZL8qd7CSAmAf0tG0skeqQpBvBkQIgpvJw/gRb3+hEnf/+G3DLPWd6lcSe88Y6Xlm6gfEh10REbWMJdUD4QSwYpDMdMaPFpcKSFIOKztR5YJs3cdSUJHmDyzv1tb4k1GHURfb/aXjl/ZyXjqSMZTjNa/KQhBPJCggsTdFl5ZtN6KB9sUwMU5M3yx389kxvo+hrmQPpWjsZkgzo2PZG+Xt4Y6DGPsFomEEKPaLK8skSNndpqgxMzknXTkHuOituMflA0H5gkzqVgefpqKEAQM+uHafTOk5Zi7w3VljzEW5uVVRWYvKUIQVTFhknrNejms4cBIkvBohFJKpN1p0kKQtQ1Ulvd2+Pv6wJ+fMeqAx7r/m8zbNEwKS3M9qUPZrMkIGLNjrK6cDQ0fiqxlJHukKgRDG8rLzOZXTH31ZI3z0KkdRj2g71K9Hs/ZY9ZKM8/uDefrzIMNt41tUfAjBGGkpVUFMmppG+OpRHFFCJp9ggFukaDzsOXCzDqxEmv+OUNHGD3OFIjZ9vYwt/ERm4yf7f0jWZox3rgaS5bGTUEI4pgYPPDN6WSe4IFPSVRO9BsGB0oXjArwJrP54AKjTkoWD/7XmBCkPOxBxE2bunJDAFM2u08wNtJ1F+skK/eYDFvUUp6O8PyjNOOKcSDtPvPcnphefpqSEESIHz+7W4YvbiE3NceH6vVmBtx63H1msFpRHfIsVF5VavaBw7Pp66xts+1p8fbRxv+vupaLhWyTFoIwbHxEPtPrP82GSBoAlcfabMyyDnL6/GFPQhD/dHgvwesMjCCUL14HviITVnZx7VOJBarzXapC0JnWea+MNtVZreZBOvLg9Lte63UmiIAnDmOkxxgYMX4t8RKBkEz2iMdoqSu+KfnOM71+FFb7YQnKpnk2gS/aNsq4YcIrijJ+2g6CsOu0Z0y7YjCUDN5KG2jt9dC1DS8zbP0m30ctS3mcB9oFNh8bN1I9vh92E0e7RgASuWHX8VXGSTZGMbznRCg92v17ZnR94vx+M5N05pvoPh5tNE05s/SjywzdGQSF+thnhX24RAxggGs9xihaoSthrpbuGG9cAbLso3SKvCIEXh7wi7Dnnch9r01LCIoUVWCfMVr+1PmfjYqTdU+0FBsOzJX84hypra2RvOIcw5vhI+CBhyh19tCYFoM+znptk1wThEnhGqv5aPeMDWbXbeqzZj9UXV1yjMzZ3M4VnTD+EjGygUEDKvplpuGEb6IDJ3tYIdiAlBHEl2qNA2s2Yzs7L75Dl++a6Nt3KGoPLGzZaNtq7L1hD/J8K7QJ/H/M4jlrvoTzoZ0Qg9KpBnyix/fNbMQEnTUqpYY6xLpLZyEI5tQVTzEIOKdLLcJLdZz0mGw6uMBEZcGNWcdJj9YP/EIGMwwQQtaiw8xG+2TVxI0JQaz71u2fbWafumkf5k0fm7N5kDAQhSmBrV0TFNOmtx5eYixDGZhrewUz2i+zPx1M0NaZUbNXjqWb0soC12CuqQlBjLl2Za42xmuqxWBNe9yKjiZ4enllqRzPCTkOZ8kHTBjszt40MKabtMg+3KSFIIWHUTHCZUTvZKpsop+1YaDZ7JvqCB3fkeiWnVsvYKAtRt8lO44tj6liiARWn60QVCRCV5jo8p2T5J2hIbNnpRmNmg380DPZIxajvXCx1swCu059yqyBav5cdS1B1wjKKguFjbXsUdRwK/yPQRTrykt3jK2PPZjYKCSdhSCzABNRY8LD4QEddUTwPNL1O2aNkNk3fYlguTM39DOqNjBQ7GC6MNRNB+fJhbrkrApj0cZJ17zSM7Jo+yizpUm/w+j9tYG/MuF+WL+0QrABMcJ+jVrSRu5t/w3XvmjWcrtOfdqsmT3azc0DEYy9Z70c5SmlqQlB2iYRNYYs/MDMBmkvTFCwAt15bI3kFWXLlkOLja9oBnao15/t82Pjmxa1e2NHkxaCVI5RDn4+Xx3wv66tEowICJaKtxAYYzKHYQQ1ZTJv81DjNkpHW4COE+aRS9oYtRL/S/awQtCNFLr5zQcXSfvxD4WZLPiyiD1w/rsGX3eK+E+RjJZZIF71cQvG2l7IYCqk2mNkGAraG/Kkz1pD3cULkl98VkYvbS/P9fmJozzXG+bcfPRdxp8pfi4THekqBBlwoMbECTbRIrQ9c2U/LessR7IzwoM6DJeYHQ9b2EIwv0c9DG3MyLr910zkjYNZW12zini4RNIm8n8wNayviXzONzhRc7UYfbdsOjjflMkKwZBhCAMCLJxxoh2aNYdm6cTZY2172+ElsnbvDLM1IjR4Cf2O9grnHjPW93Ut4TQ1IUjbQXNA6CiCZYMBs17WRZftmGg8y8zZNEQYSNNmcReHVejxOGuikW2xyQtBzGSz84+aSjuNWOhQCMZ5m4cJGyUbU+PAnFk7wZy2+7TnXJ0TwNk0v37f7JQMJgDbCsHIJidy8PRWGTD37TBThgHCDFHFHTi92cRSi04V/SaS0eJNf/WeaWY24fRCAtNnUzZxBBkZ6hoBtMFNWsbR1WbARBlUUKAGR3CMWNzKGEI5PddHliQdhSAzQAaIzK7xm4ogU2Fzd/uvmZkde8lCMQIbalRSUSAb9y8wHkcinY6/1P/nMnFVV2EPbSI8yC2SNg1fCN3FiizPKL737Fdl/6lNgfWbpr5FArsH+kT7CX+S+zs2RP9AELwy4Jcya0N/KSw7K/mlZ4yPXKKxqB0DbZloExg3EaMRf61muSCgfYK0ez/2BY1tkXC2GQYCWXmHjZNwgiSEIkN8xbiSXLFzsgyY947hIQjB5/v8lxk0EE4tmQlLkxeCCDcAwgiCvWBONQ5CEVdZjJRKK/PjmskiAMmDkDGMjjG0UYbBlU3WbNDEBNfpiNZJpHj3VghGI0OEgClrehk/kTrbQN389rCbjNPyuouJN8BrjspooR9MnwEM3mjUigzaIcxQnYxa1s4EHNW0XEO0qZWS8gJZtG202TrA4Em323BPW5izeXBUFG9nPukoBInWsfvEWiPsnEYU4PFSv/82woxBgw4ItD4XL12U7LwQfQhD5lQTsz6IWnTzoYXGGX28zcfkpbTRfJ1X+uz2o8ulzbj7XQybbSxT1vYUItwH1W+ashBkoHEq94DRQGGgpAM02jWznd6zX5Gs/CNm8M4snv+yNMTszzno4b/43EQrwPpaU5wJ0mYYEBBZwmm8hQ/c4YtahZ0HMGHBQpTtN8RjTOZo8kKQSlIJ1DR4irml5ZfCjQWBiFqHSMvsvUPQxTo+vnzRxJ/C3drjPb7v8q5PHnR8nEsDKgw3lSOozqyMNpmRTazykY48/I7e/GyR0HKVlOfL8oyJ8nCXb4ctM0Oqm381UeeTNTxSRstmboK0sieIdS7nAIaFdPYYZRxfGRUjUGmDFeLJ8wdNvLF72n/dwUBC0ddpP6jo4mGvtCE/r0eQ1qG1F2rlWM5Os64NA3QyT2a7DBQYVWNYFnkwOscJMcsIPae/4NrKwh408gOPYzm7DPONTK/PSht9dl7R3hD6BxN23avJgOPhrt8xM3kjnC9fvubXBJlxL8sYb9R8asGsbZv1MJaBGPxpu8Tb0bGzu41K2akJYaCJ1STBorG6RfsRhMcYv7wklZkg7Ye6EhHG6VISAzvsC7Bypg0R4KDP7FeluDK3UW2Ftknwa7LWoVoJrox88eSCwGI0oI0FIUbHxf8ca07sK9yZudqshSA4sVCjcbBRHK8EzrTkQeQB1gIxuWe0leqhjJYG48fKTRmtNvhUy0E68vDbcIMQgtW1lbL98Ap5Z+jN4WgSqDfwUkI4I6wZkzlgtNXVVcZ4BZdn7w77vaBSU9pDS9YQlu+cKBhiRM5cnLSpqCox++jajf9TlEENwhrBwQwFBh55KG3SRQiePHfQhBNjRuBknvQFmOfqvdONaiwSD+oFY8LkvLK6XFbtniatx95fb1DTsM6EZgS1KIFL4x2JhCAm79PX9zHMXa2vGay8MeS3JqAxLq6ctPHTb5riTJC+yowNF2AMOBggQjvatQ4WWOfDit15wJ8QhMQPfH3wr8NpSIdQZNBBnmfzTzdJIYgql8EXkx00RwzuaDdo/JjsgNGbg39rotKHtjclNyi9aoQgHRomhVksG3CdHkK08fyxI8LwZuk27RmzJwow6eRMr3XDrjJQGh77UnpNf0W2HVpmRhWpzgJpoEF1ZmW0V4MQZNMvoXL6z307bO3FLIP1i8EL3pOj2RnOvh33HkZbUJJr1kzajn/AGNco/eggzOpxbnCu6GTMWYuTNvhlZAayZMc4eWvI78JbCcgPRv18n58Y5hJrMKS0+bSFIP5sC4pzZfG2sSaqtjJO6sCMCycBMzb0EywN4x0IQTVIQW09dW0vebLHv7vUotDprSE3mm0XzNpj9YtEQhDhiaUf2zV0lkrZes16yfRhmLmTNteaEEQNyr7OgfPfCfcPaAg9MdDrPvU5Y7CFDUP08YnRAgxZ+L4Z/OtyAyp+1OL4Fd1yYIkQhcHrYYR0/fYV2ovXI9WZIO2MdW4GyvRtp/U+/IN10u7TnjXbKVIpU2BCkIy04dKJGIHxzsup4KSah2ECpdkyaVU3M+pxdjJljslcQ6q57xrT44zDq4V9KF7qQRo6MHhwcu81H9Krf0qvecCs/dKGOrBZnry8lgO6nis8LUt3TBCicjR01M8IwmzD/jlm/bax/CurasyHvAAAFfxJREFUKuTgqe0ybkUn0+GVoRqm3+pL0m7Cg65N75H5URfWR8CENoebKaJSw6DZt+hsK4ykMUQgsjXu2Jx5gYU6aXa+T+U+CNrUXKiS/Se2SpfJTwvGL1p+cMH6tvPkx+Xg6S2mnvHKBg7gYdrJpTrj1Jz1JNZVG/DFUfMXDcPBiAWmHZlfaJYeO4rEtqNL5cNJj7rKh+EZhktYAZKXk5dQpsj8k312zgSTTRP5P6WNnzZPfei/4BqZv/MZ1T5bd9iqQntTGnL9Q6u/kpf7/1I2H1gkJRX5cfPBboGN5CwDoA1BQJCedUK0YiMXt5OTZw8ZzYjz28neB0kbDZSQ7Lcvflxn1MDNRt7uWrZCIKLqR6vHQDXZ/PR/qEPhBfqc6hVech2NjUaCrpkM6QS883JSGGJepZoHM4ya2io5X5RlRsNtxz4ot7X6sovJOhtVrHvUcuiZ8ThDcNu8gnNhX5le6kKjBw8F2UsepCE98czA2EseQdGG+hB3K1XaOMsMfYtK8uXQqQxpMfoelxsvZlwEEGZd6kJdaDDlTOu8P3M+U6av6W+iT7vVftfLC31/JtPX9ZWC0nOCwwRnOr2PpA0Y1V6okS0HF0unyU+41El0MrQFqEV3HlstF+pCIX7IizYPJuSnead61X7DNdW0/J9yny04KYPmfSBP9fyhY13zM6YPEIdt88GFUlACHvHbELTR9kp9CkrOyoZ9c+XFvv8dNmKh3yAQWYcZOO8dE3IJ343OcjMoUM9C+p7v0j+nre3jYvDQrvnIO2VP5nrjG5P/R9JG80j1Sjv1SxvyABNokwi7RGUjncYjTPS/orI8Ye8qaj1Ufk4e9WyvHxsBlpN/Sqpr3Hg78+RbrOnO3TTUzCQbjJtCs6U3Bv5GZqztJyxLxOsbzvwi78lf24gfPkBa+DxtLvIb8Z75NsGvB81/36XqZ+LyQp+fypLtY6Wssjjp/PhOsrSJVybeU4fraLTcMNqh8QMS77ycNDYNyOklPdEjss4fkw17F8iEFd2k5/QX5c0hNxorT3THug5BRwY8VAzP9/2ptJ/wsIxc3EaWZ0ySI1k7hajkdCBGK17KQRoIrQyBennNB1y1wXjJIyjaUB8/tKHs4FBWXiq5hTkybGFL455OOzv713rNeNlEoCcKeqy6mjWrqnJZsWOqtBnzoBkhq+oP2mLaTyfZk7nBMItYefAuHm3OFZySORuHhDbfOnxp8g1U52OXdZTT548YRwzko7Qhv3jfauw9/cVrv4G2ZwtOyfIdk+Tlfr90MU/a+HO9fyKjFreTcwWnJR6mWj5oo+2V+tAHsnKPyqgl7YylbMNs8DNGKOJoYOHWUZKTf8KsJWo+9BmYvj5zJS82NhNKiz1dSnOMmdgyg3agqjo0W3K2Vz/9Blxpr0HQBjpTLmedkr0nHbyEPOKlIULE7uPrjCUnzvK1TYMT0dW7TnlWth9aKSWlRY3Wp6wiFJmdANasaSvWoby+IUwQ6B/FZQVxyxOvnEHTJlX65uSfNG2OesG/qdMdbb5itrbtPLo6YZ+PVSelDe0+1u/JvKN9XYc0jRwh6LtUrxRKZ4KpptX/U6iKinIz49h/aoss2DJCBs1/TzpPedIYB7Qcfbe0GnOvdJjwkNmbNHlNT9l6aInkFWcbEDUfOjMNV59TvVIXHTVxn2p6/T95KFPRd6leaWzkwzXVtPp/pY2fPAxzhelXVsiqXdMMHXRgwqiVbS3MxsoqimOWE2tODDeWbZ8kvWe+KtBSz7bj/mg6w44jK4RRtZY71pXGHYs2WFcePbPLqNUxmNK8US9hWMI6WebZfWb2Rb5gobONWN9J5p1f2mTnZxr1cofxj5rgwVpmXMeNWfahmWUxeGisLEobcAEf/g/W7O0kWCl9RvPmireSuZuGyJm842Ffn6SBodB3nN8rrSiS/Se3SLORd4ZnlajCPxhxmzFYYzbJ7J80TtpQJmc+qdyDqw4eU0nn/K9f2pAX9dGZoDPvhvsLxtfxlNUfmS0O6ugBVSZqTAz75m8eYdZ8VRg3pA3x3sjn4vIC2bB/Xv32gZAPZAQGeT7a7V9l6MIWcjR7t1TVhJY3ItPHew6KNtDVC5+nHcGr2cKDdgZ8/tT5n2T2xkFmBhyv3IneQxu/fP5TiSeYaPFT1zaoOPpdrwcdAMbv9VD9OeVAb+z1ID1E8loX0mkjABuvh64JogLweihtYHjsvSRuHWtuOsvA2wuOyovLcxPWl07E6fUImjbk5/UAT5iLH1z5vnZkr+VQ2tBW/NQnFm0w+ceHqTo5ht6oQkcuaS1ZeYdcRQ6KNuCJQPbT95y08dP/GFiAa+RBnpj/4zuXeKXOWRsM/vbWf2OcHpzOPRwemCRDG7O3rrZMxi7/0HhXcebLDIrtBGw5gC6pHJSXtkpd/PAS0jJQSpU2OLzAfeULfUNCkCUvrMB3HV/daBScWPWkPjroi/V7Mu+ogxWCcZAKqjPT4K42IUidMOlesWuS2aiuaxf3ffhNaTX2PmMOHWtLgkIdi9Hqb8lcg6ZNMowpXrmcjDbefxp7z/fTVQjC5AmU23XqM+G9hwhABCJ74TA2ch5B0aYpCEEcvhMgHKt11KBOYYVB04cTHzHbdyrrwwbRb5Jpa1hTYmm7//QmYyWNJxk1QkPVCv7tJz5kjGgwpoll5eukid5/2kLwXPEp48ACt3EMEh7u8h3pOeNF4zKRdpbqYYVgI4jZmaAboCBngnRm8mNLBJ56sEDEAAVzfpxd4+oJl1DxDisE3ciksxAsqyo0Vr+EtgpFQfisMNjpN/dNOZS1NSry97UkBNnThuN4oqWPWdbexNsk5ibntLW9jEUyHq/YxqMzsGSEoLYO9R6E5SQOJfANO3RBcxm1tK0s2Drc9L+QG7zkNGafphDEw9Ge+gAH8Am0CRgyztk4OOTFKEVnJmBkhaC2lDhXKwTdwAQtBOnMRDHYeHCemRXgFZ+RMPs8iR6NgIy1qZtSWSHopk26CkGYzMnc/TJ+ZaewAMR0H3UW22HYnxl5XEtCMLLu8Z7pe16EYGR+LO/A17wen5YQZKaK67QFW0cYwYcdwa2t/lLajHtA9mSui+sRrLF6WiHYCEJWCLoBuhJCkL1RRH/oO+d1eaQ+HAyqmjeH/NbEBcR7RqzDCkE3KukqBJllEN+RvV2orxjk4HWmx/TnjdeT0Cwkui7K8GlzXo+moA5Ntm7XuhDEY8zh7B3GHeBteIj54HrDL3ByX1h6Xtgn7uWwQrAR1KwQdAN0JYQgYY0Y4RFpnFA6xuKr2eeMOyRUQngCinVYIehGJR2FIOorPPaMWNLaGGKEjGG+aGJz4rIQIweYUORhZ4KRiIhZOtCBAfh4PdJ9JsigF+1ATsFxo+JElU5wA7QGPaY/Z/anMphiXbPtuAdkzZ4ZZv8pQtLLYYVgI6hZIegG6MoIwZBz3JLKfBm/opPDevCzxhx/1e6pgqeISLWoFYJu2qSbEKTvwNBgXi3H3GPc4jELfKLnD2TM8g7Gn2s8f7xWCLppy9O1MhOsri03noqmrOkh09f1MY7tiR6BNyksWgm+zBYS3FpOWtVd8JXLjD/WYCoaxeg3VghGY+J6Y4WgCw7TETE5p9F5PeKZ4dMYCf/z0cyXjHEMswYiC2A8UVh+LirqgRWCbgqkmxCsqCyTovJzJrwP3mWgJ/4du0x9yoTMigzj5KyNFYJONEL314oQxGIcI6Ene/7AFRhbrWaxcMXBCc7FiQXKPlYrBKPbi9m/oqoDryMEsrVC0A3ulZoJ6lfKq4pk5a7J8uqAXxpPMOxnemPwb2T9gbnGea7+j6sVgk40Qs7a02mLxPmCLGPZ+NrAXxla4vvyqZ7/YbZEMKhBDR7vsEIwGplrRQhqBI3XB/3atBsVfnolcgTRgrYeXiL5JWcF5xZWCEa3FysEIzBhIMCWBE4/G1yvtBBEPXYq96BMXt3deIpHCKL2YC3gSHaGXLjY4LjACkE3kdNpJliBC7Bj66XfnDfMvkAiT+CUnDVeIiTEimXorI0Vgk40QvfXihDEUAqNEBqDBzrdYLQHWIISBeOl/j83BnRr9s4wztbxRctkxwrB6PZihWAEJk1FCFJsghcTN6z79OeM9Rf7yoiNh2m08RBfP4OwQtBN5HQSgvh3nLV+kHFuzgzwwU43SKfJj8vhM9uNMYy75NFPVghGY3KtCEE83WAUg3chwt2h9mw3/kHjTGDaut4mdBoxJ9kygfCzQjC6rZg3znUnqw4NbQhtCjNBJSex0vad2mAYJ85x2VfWecoTobWkyyGTeSsEFa3QNV2EIP1t2+Hl0nXKM8bBMbQjrNXGA/OSNmO3QtBNW56uFSEYXfP4b6wQjI+NnQlGYNOUZoIUHXPnytoyyco/LMSs23dqo2TlHzFR5NW9kxWCbiKnixCkVIUluXI8e58ZyEC703mHQh49YmyHcNci9GSFYDQqVghGY2KFYDQm4Td2JhiGwtw0NSHoLn3sJysE3bikkxBMF9rAJNPdgbabivGfrBCMxiathCAEQvCwEZMOgJ6Wd15O1HYaNshLetLwfcpBeSiX13ywtsNC1Gt6iKQMgXuv+ZAHHtf91CUI2lAHv7SBvkHQRsMgecXUSRvK5DUfcIU2fugbFG0oB3l5rYvSBvr4qY9f2tDOtd/4oQ18gPbqpy5OXuIVV+qDMKZOXvMIijbwM/ia13IESRtCkPmlbxC8xC9taF/XASoZER+KUwNI8j7Vk0abn59vGm+qafX/5KFloVz6PtVrUVGRCcqZajr9P0xJy0GZ9H2qV/IoKCgwGKealv+DATTxSxvqA2380lcxIT8v9SENtOH0mj4o2oAFtPFTl6BoQznSgTYEsk0X2tBeg6KNV15COmhDu/faXp08zU99oE1hYaHnclAX7b9+eBpp/fJ57TeUxw9twMMPbaDHdYwOkIaMMhgFIp155+Vk5EWBGNF6SU8a0lIOysNIw2s+AEs+XtNTFx0Vc+81H+pBo/FalyBpQ8PzQ1+lDbh4rQ84aqP3iinfVtr4aWtg4Zc25EFZuEIrL3WiPpQjHWgDo4c+XupBmiBpQ3v10/eUNvRBr7QhHbQhD6+YBMVLaGd+aUM9yMdPvyEtfD4daIMQoz5+aOOKJ6iVitbgJveGaTqFokBeD9JSDjpTOliHUhbq5fWgHjAWr3XRNUHKQYf0elAHOpCfPJQ2lIV1LK8HzInT66HGF0HRxk9dwNMvbYJcE0wn2vjhA+BKe/XT95y08dP/YLL0Y68HdYAufmmD8EGIeT3AQMvhhzakhc8HQRs/fJ76QBvq5PWgDi4hSIH8gEOGV5sQBBM/xCZ9EEIwCNoEJQQpix/BEZQQDIo2furiZLReO2KQQvBqoc3VKAT90iYoIUg5/PD5IIUgdPY7QLFCMA7nYcREo/F6wJgANyhG64fQlMFvw0WQWyHobg1gygDFCsEGXNJlgGKFYANN9M4KQUUidLUzQTceUU9WCLohsULQjQdPVghGY2KFoBsTZbS0Fa8HfU8H1H4GXFYIuimgtLEzQTcu4ScrBMNQmBsrBN148GSFYDQmVgi6MVFGa4VgAy5WHdqARdQdjNauCbphUUZLZ/JykI48OP3o8a0QjEZfaeNndG7XBN24BrWMYNWhblx5sjNBNyY6QLEzQTcu4Sc7EwxDYW6sEHTjwZMVgtGY2JmgGxNltLQVrwd9z6pD3eg5B49+JgjWOtSNq+vJCkEXHMbC1RrGuDGxQtCNB09WCLoxsULQjQdPVh0ajUn4jVWHhqEI3yij9TPaIQ9Oqw4NwRqUyk1pY9Wh4eZqhWADFObOCsEIQKwQjAbE+cYKQScaoXtltFYINmCTLrMNpY0VgulHG7sm2EATvbNrgopE6KoDFLsm6MYl/GTVoWEozI1dE3TjwZMVgtGYpMsAxQrBaNpYIejGxApBNx5RT1YIuiGxQtCNB09WCEZjYoWgGxNltLQVrwd9zxrGuNGzhjFuPFxPrHtpg/GqQiRDKwRdsFrDGDcc5skKwWhQrBB0Y2KFoBsPnqxhTDQm4Td2TTAMRfhGGa1XgU468uC0hjEhWK1hTLh5hW+cg0c/a5xWCIYhNTdWCLrx4OmqE4JUiFMbP7MwfZfqlbR+w5+QB7M4ysOUOdUy6P/ZDuAnxAZCR8uhAkjzTuVKPXAg4KcuQdCGOhAShnWFVMrv/G9QtMFfpx/agGVQtAETP7QBT+jjB1e+7zeUUlC0gS7Qx0n3VO6dtKFMqaR1/hc8wcRP3yMP1Qg5807lnvrQf6FxKumc/3XyEj9tDdrA15x5p3IfFG2gq18+HwRtqDt4QONUcHD+F9pcR4U4aficZKjvUr3SUAj86CcP0iqTBKhUy6D/pwMBkD6neqUupKcs3KeaXv9PehqMn7qQB6cfXKkDMcDoSFq2VK9KG8ripz4wFc5Uv6//59tB0AYsNP6l5p3qVYWGH1ypz9VEG22vfvqN0sZvHpTFL23ov+STatvQ/1MHxcRPv6HNw9c031SvfFvL4YeXkNYvnw+i31B/aOOXz18HMJxkxEnh9F2qVwXHTx6kpRwQi8aTahn0/4ADo9XnVK/UhfSUhftU0+v/SQ+D81MX8uD0g6vSBly1bKlelTaUxU996Mh+aMO3g6ANWPilDXmAhx9cqQ/l8JNHULQBV+iTatvQ/wdJG2W0mneq1yBpA41T/b7+n75Her/9BtrogFrzTuUKbbQcfngJadOBNtRdhWAqODj/C22uY/2AtTz9gekh77ycTLfpQH7yIC1lQcpTLi/lIA2Eguhe0zNlJj1loV5e8yE9Dc9PXcCCfPzgSn3oROTltS5KG8ripz7QhsbntRxB0QYsoA35eS1LULShHH5oQxuFLpx+6gNdoI9XPPi2lsNPv6Gt0V791EVp4wdX2jm0oU5eMQmKNvAjP7ShLkHRBj7vl76UBdr44SUMdPzweepgg+pGr/uaNzR4CERnhEheD9JDKGsY04AgjZbT6xE0bcjP60Enop1w9XrwfdoIbcXrgbDQ9uqnPulCG/DUwaNXTJy08dP/EDx+aAP/CII2CA0GKV4PMNBy0F68HqRlgOKHLwZJG+rk9aAOVgjGQS9oRuunE9IBOf00XIgNU/HDrK82RgumCB8/QsPZmeM0pUZfWyEYDRG4WiHoxsUKQTce8FQGKFYIunEJPzFiotF4PawQjEbOCsFoTKwQdGMSVL+xQtCNK09WCLoxsULQjUfUkxWCbkjsTNCNB092JhiNiVWHujFRRktb8XrQ91QN6UfrYIWgmwJKGzsTdOMSfrJCMAyFubFC0I0HT1YIRmNihaAbE2W0Vgg24GLXBBuwiLqD0apFV9SPSb5wqtxogF4PKwTdyFkh6MaDJysEozGxQtCNiRWCbjx4skIwGpPwGysEw1CEb5TRehXopCMPThqf18MKwWjklDZ+VFR2TdCNq10TdOPBE33PqkPduDj7jR/eaA1j3Li6nuxM0AWH6YjWOtSNiRWCbjx4sjNBNyZ2JujGg6erbSb4/wHlBYWAkzpD1wAAAABJRU5ErkJggg==)"
      ]
    },
    {
      "cell_type": "code",
      "metadata": {
        "id": "ZX8obYmuNUFb"
      },
      "source": [
        "import pandas as pd"
      ],
      "execution_count": 61,
      "outputs": []
    },
    {
      "cell_type": "code",
      "metadata": {
        "colab": {
          "base_uri": "https://localhost:8080/",
          "height": 195
        },
        "id": "VIj_pw8aO1R0",
        "outputId": "18e5beec-e04c-4050-d77c-0fff8a5118d3"
      },
      "source": [
        "df = pd.read_csv('sample_data/california_housing_test.csv')\r\n",
        "df.head()"
      ],
      "execution_count": 67,
      "outputs": [
        {
          "output_type": "execute_result",
          "data": {
            "text/html": [
              "<div>\n",
              "<style scoped>\n",
              "    .dataframe tbody tr th:only-of-type {\n",
              "        vertical-align: middle;\n",
              "    }\n",
              "\n",
              "    .dataframe tbody tr th {\n",
              "        vertical-align: top;\n",
              "    }\n",
              "\n",
              "    .dataframe thead th {\n",
              "        text-align: right;\n",
              "    }\n",
              "</style>\n",
              "<table border=\"1\" class=\"dataframe\">\n",
              "  <thead>\n",
              "    <tr style=\"text-align: right;\">\n",
              "      <th></th>\n",
              "      <th>longitude</th>\n",
              "      <th>latitude</th>\n",
              "      <th>housing_median_age</th>\n",
              "      <th>total_rooms</th>\n",
              "      <th>total_bedrooms</th>\n",
              "      <th>population</th>\n",
              "      <th>households</th>\n",
              "      <th>median_income</th>\n",
              "      <th>median_house_value</th>\n",
              "    </tr>\n",
              "  </thead>\n",
              "  <tbody>\n",
              "    <tr>\n",
              "      <th>0</th>\n",
              "      <td>-122.05</td>\n",
              "      <td>37.37</td>\n",
              "      <td>27.0</td>\n",
              "      <td>3885.0</td>\n",
              "      <td>661.0</td>\n",
              "      <td>1537.0</td>\n",
              "      <td>606.0</td>\n",
              "      <td>6.6085</td>\n",
              "      <td>344700.0</td>\n",
              "    </tr>\n",
              "    <tr>\n",
              "      <th>1</th>\n",
              "      <td>-118.30</td>\n",
              "      <td>34.26</td>\n",
              "      <td>43.0</td>\n",
              "      <td>1510.0</td>\n",
              "      <td>310.0</td>\n",
              "      <td>809.0</td>\n",
              "      <td>277.0</td>\n",
              "      <td>3.5990</td>\n",
              "      <td>176500.0</td>\n",
              "    </tr>\n",
              "    <tr>\n",
              "      <th>2</th>\n",
              "      <td>-117.81</td>\n",
              "      <td>33.78</td>\n",
              "      <td>27.0</td>\n",
              "      <td>3589.0</td>\n",
              "      <td>507.0</td>\n",
              "      <td>1484.0</td>\n",
              "      <td>495.0</td>\n",
              "      <td>5.7934</td>\n",
              "      <td>270500.0</td>\n",
              "    </tr>\n",
              "    <tr>\n",
              "      <th>3</th>\n",
              "      <td>-118.36</td>\n",
              "      <td>33.82</td>\n",
              "      <td>28.0</td>\n",
              "      <td>67.0</td>\n",
              "      <td>15.0</td>\n",
              "      <td>49.0</td>\n",
              "      <td>11.0</td>\n",
              "      <td>6.1359</td>\n",
              "      <td>330000.0</td>\n",
              "    </tr>\n",
              "    <tr>\n",
              "      <th>4</th>\n",
              "      <td>-119.67</td>\n",
              "      <td>36.33</td>\n",
              "      <td>19.0</td>\n",
              "      <td>1241.0</td>\n",
              "      <td>244.0</td>\n",
              "      <td>850.0</td>\n",
              "      <td>237.0</td>\n",
              "      <td>2.9375</td>\n",
              "      <td>81700.0</td>\n",
              "    </tr>\n",
              "  </tbody>\n",
              "</table>\n",
              "</div>"
            ],
            "text/plain": [
              "   longitude  latitude  ...  median_income  median_house_value\n",
              "0    -122.05     37.37  ...         6.6085            344700.0\n",
              "1    -118.30     34.26  ...         3.5990            176500.0\n",
              "2    -117.81     33.78  ...         5.7934            270500.0\n",
              "3    -118.36     33.82  ...         6.1359            330000.0\n",
              "4    -119.67     36.33  ...         2.9375             81700.0\n",
              "\n",
              "[5 rows x 9 columns]"
            ]
          },
          "metadata": {
            "tags": []
          },
          "execution_count": 67
        }
      ]
    },
    {
      "cell_type": "code",
      "metadata": {
        "id": "0-bjhmnsO86q"
      },
      "source": [
        "y = df.median_house_value"
      ],
      "execution_count": 66,
      "outputs": []
    },
    {
      "cell_type": "code",
      "metadata": {
        "colab": {
          "base_uri": "https://localhost:8080/",
          "height": 195
        },
        "id": "rvYBGXiOPGk9",
        "outputId": "35779951-bfde-49b6-8e9e-6ab4b195f72c"
      },
      "source": [
        "X = df.drop(['median_house_value'], axis=1)\r\n",
        "X.head()"
      ],
      "execution_count": 73,
      "outputs": [
        {
          "output_type": "execute_result",
          "data": {
            "text/html": [
              "<div>\n",
              "<style scoped>\n",
              "    .dataframe tbody tr th:only-of-type {\n",
              "        vertical-align: middle;\n",
              "    }\n",
              "\n",
              "    .dataframe tbody tr th {\n",
              "        vertical-align: top;\n",
              "    }\n",
              "\n",
              "    .dataframe thead th {\n",
              "        text-align: right;\n",
              "    }\n",
              "</style>\n",
              "<table border=\"1\" class=\"dataframe\">\n",
              "  <thead>\n",
              "    <tr style=\"text-align: right;\">\n",
              "      <th></th>\n",
              "      <th>longitude</th>\n",
              "      <th>latitude</th>\n",
              "      <th>housing_median_age</th>\n",
              "      <th>total_rooms</th>\n",
              "      <th>total_bedrooms</th>\n",
              "      <th>population</th>\n",
              "      <th>households</th>\n",
              "      <th>median_income</th>\n",
              "    </tr>\n",
              "  </thead>\n",
              "  <tbody>\n",
              "    <tr>\n",
              "      <th>0</th>\n",
              "      <td>-122.05</td>\n",
              "      <td>37.37</td>\n",
              "      <td>27.0</td>\n",
              "      <td>3885.0</td>\n",
              "      <td>661.0</td>\n",
              "      <td>1537.0</td>\n",
              "      <td>606.0</td>\n",
              "      <td>6.6085</td>\n",
              "    </tr>\n",
              "    <tr>\n",
              "      <th>1</th>\n",
              "      <td>-118.30</td>\n",
              "      <td>34.26</td>\n",
              "      <td>43.0</td>\n",
              "      <td>1510.0</td>\n",
              "      <td>310.0</td>\n",
              "      <td>809.0</td>\n",
              "      <td>277.0</td>\n",
              "      <td>3.5990</td>\n",
              "    </tr>\n",
              "    <tr>\n",
              "      <th>2</th>\n",
              "      <td>-117.81</td>\n",
              "      <td>33.78</td>\n",
              "      <td>27.0</td>\n",
              "      <td>3589.0</td>\n",
              "      <td>507.0</td>\n",
              "      <td>1484.0</td>\n",
              "      <td>495.0</td>\n",
              "      <td>5.7934</td>\n",
              "    </tr>\n",
              "    <tr>\n",
              "      <th>3</th>\n",
              "      <td>-118.36</td>\n",
              "      <td>33.82</td>\n",
              "      <td>28.0</td>\n",
              "      <td>67.0</td>\n",
              "      <td>15.0</td>\n",
              "      <td>49.0</td>\n",
              "      <td>11.0</td>\n",
              "      <td>6.1359</td>\n",
              "    </tr>\n",
              "    <tr>\n",
              "      <th>4</th>\n",
              "      <td>-119.67</td>\n",
              "      <td>36.33</td>\n",
              "      <td>19.0</td>\n",
              "      <td>1241.0</td>\n",
              "      <td>244.0</td>\n",
              "      <td>850.0</td>\n",
              "      <td>237.0</td>\n",
              "      <td>2.9375</td>\n",
              "    </tr>\n",
              "  </tbody>\n",
              "</table>\n",
              "</div>"
            ],
            "text/plain": [
              "   longitude  latitude  ...  households  median_income\n",
              "0    -122.05     37.37  ...       606.0         6.6085\n",
              "1    -118.30     34.26  ...       277.0         3.5990\n",
              "2    -117.81     33.78  ...       495.0         5.7934\n",
              "3    -118.36     33.82  ...        11.0         6.1359\n",
              "4    -119.67     36.33  ...       237.0         2.9375\n",
              "\n",
              "[5 rows x 8 columns]"
            ]
          },
          "metadata": {
            "tags": []
          },
          "execution_count": 73
        }
      ]
    },
    {
      "cell_type": "code",
      "metadata": {
        "id": "1her52WmQOdR"
      },
      "source": [
        "X_t = np.transpose(X)"
      ],
      "execution_count": 74,
      "outputs": []
    },
    {
      "cell_type": "code",
      "metadata": {
        "colab": {
          "base_uri": "https://localhost:8080/"
        },
        "id": "UiG3wnP4Ps6f",
        "outputId": "3ab1b407-3b4a-4d21-dd51-f771ef05a28b"
      },
      "source": [
        "theta  = np.linalg.inv(X_t@ X) @ X_t @ y\r\n",
        "print(theta)"
      ],
      "execution_count": 79,
      "outputs": [
        {
          "output_type": "stream",
          "text": [
            "0    -2262.072920\n",
            "1    -8274.614478\n",
            "2     1739.267005\n",
            "3      -15.226887\n",
            "4       83.027860\n",
            "5      -41.112520\n",
            "6      129.006028\n",
            "7    44729.580742\n",
            "dtype: float64\n"
          ],
          "name": "stdout"
        }
      ]
    }
  ]
}
