{
  "nbformat": 4,
  "nbformat_minor": 0,
  "metadata": {
    "colab": {
      "name": "Calculus.ipynb",
      "provenance": [],
      "authorship_tag": "ABX9TyN56KoF6IEEpNiVpDCXzXMY",
      "include_colab_link": true
    },
    "kernelspec": {
      "name": "python3",
      "display_name": "Python 3"
    }
  },
  "cells": [
    {
      "cell_type": "markdown",
      "metadata": {
        "id": "view-in-github",
        "colab_type": "text"
      },
      "source": [
        "<a href=\"https://colab.research.google.com/github/arshpreet10/Internity-Winter-Internship/blob/main/Calculus.ipynb\" target=\"_parent\"><img src=\"https://colab.research.google.com/assets/colab-badge.svg\" alt=\"Open In Colab\"/></a>"
      ]
    },
    {
      "cell_type": "code",
      "metadata": {
        "id": "LWC7-QhQ5RfC"
      },
      "source": [
        "from sympy import *"
      ],
      "execution_count": 1,
      "outputs": []
    },
    {
      "cell_type": "markdown",
      "metadata": {
        "id": "jf5PN2Oc5gtl"
      },
      "source": [
        "Creating a symbol"
      ]
    },
    {
      "cell_type": "code",
      "metadata": {
        "id": "QAFdhDEI5k3d"
      },
      "source": [
        "x = Symbol('x')"
      ],
      "execution_count": 2,
      "outputs": []
    },
    {
      "cell_type": "markdown",
      "metadata": {
        "id": "iumGGPPx5oP3"
      },
      "source": [
        "Function (2x^2 + 3)"
      ]
    },
    {
      "cell_type": "code",
      "metadata": {
        "colab": {
          "base_uri": "https://localhost:8080/"
        },
        "id": "Vvi_sRWn5uOw",
        "outputId": "6e21a16e-2582-418c-9ae8-a9c71ac50ca9"
      },
      "source": [
        "f = 2*x**2+3\r\n",
        "f"
      ],
      "execution_count": 6,
      "outputs": [
        {
          "output_type": "execute_result",
          "data": {
            "text/plain": [
              "2*x**2 + 3"
            ]
          },
          "metadata": {
            "tags": []
          },
          "execution_count": 6
        }
      ]
    },
    {
      "cell_type": "markdown",
      "metadata": {
        "id": "6kyZJwOK5vCl"
      },
      "source": [
        "Derivative "
      ]
    },
    {
      "cell_type": "code",
      "metadata": {
        "colab": {
          "base_uri": "https://localhost:8080/"
        },
        "id": "3ZhhBxvs5wLT",
        "outputId": "a8ec9812-4ccd-44ff-faf5-f2cdcd0debbe"
      },
      "source": [
        "f_prime = f.diff(x)\r\n",
        "f_prime"
      ],
      "execution_count": 7,
      "outputs": [
        {
          "output_type": "execute_result",
          "data": {
            "text/plain": [
              "4*x"
            ]
          },
          "metadata": {
            "tags": []
          },
          "execution_count": 7
        }
      ]
    },
    {
      "cell_type": "markdown",
      "metadata": {
        "id": "YjKhxpEn62pB"
      },
      "source": [
        "Partial Derivatives"
      ]
    },
    {
      "cell_type": "code",
      "metadata": {
        "id": "lQX12eTi52Hq"
      },
      "source": [
        "x, y = symbols('x y') \r\n",
        "expr = x**2 + 2 * y + y**3"
      ],
      "execution_count": 8,
      "outputs": []
    },
    {
      "cell_type": "markdown",
      "metadata": {
        "id": "80Vyu8rT7EXN"
      },
      "source": [
        "Derivative w.r.t. x"
      ]
    },
    {
      "cell_type": "code",
      "metadata": {
        "colab": {
          "base_uri": "https://localhost:8080/"
        },
        "id": "myk3NlfR6_Sz",
        "outputId": "fc7775a2-605f-4aa3-e2ee-b7236ee9d63b"
      },
      "source": [
        "Derivative(expr,x).doit()"
      ],
      "execution_count": 10,
      "outputs": [
        {
          "output_type": "execute_result",
          "data": {
            "text/plain": [
              "2*x"
            ]
          },
          "metadata": {
            "tags": []
          },
          "execution_count": 10
        }
      ]
    },
    {
      "cell_type": "markdown",
      "metadata": {
        "id": "pG5kHsx97H5E"
      },
      "source": [
        "Derivative w.r.t y"
      ]
    },
    {
      "cell_type": "code",
      "metadata": {
        "colab": {
          "base_uri": "https://localhost:8080/"
        },
        "id": "pd6Yrxqo7YXQ",
        "outputId": "9cd627bc-cda4-4c7b-9f88-ef6fdcaec35f"
      },
      "source": [
        "Derivative(expr, y).doit()"
      ],
      "execution_count": 11,
      "outputs": [
        {
          "output_type": "execute_result",
          "data": {
            "text/plain": [
              "3*y**2 + 2"
            ]
          },
          "metadata": {
            "tags": []
          },
          "execution_count": 11
        }
      ]
    },
    {
      "cell_type": "markdown",
      "metadata": {
        "id": "X1x-XAuq778T"
      },
      "source": [
        "Another Example"
      ]
    },
    {
      "cell_type": "code",
      "metadata": {
        "id": "GFkjelZc7mDA"
      },
      "source": [
        "expr = y**2 * x**2 + 2 * y*x + x**3 * y**3"
      ],
      "execution_count": 12,
      "outputs": []
    },
    {
      "cell_type": "markdown",
      "metadata": {
        "id": "24ZTADgA7pZn"
      },
      "source": [
        "Derivative w.r.t. x"
      ]
    },
    {
      "cell_type": "code",
      "metadata": {
        "colab": {
          "base_uri": "https://localhost:8080/"
        },
        "id": "t-5Yg-l27pZn",
        "outputId": "bb8c156d-9368-4618-9c6d-6cdeb61ced67"
      },
      "source": [
        "Derivative(expr,x).doit()"
      ],
      "execution_count": 13,
      "outputs": [
        {
          "output_type": "execute_result",
          "data": {
            "text/plain": [
              "3*x**2*y**3 + 2*x*y**2 + 2*y"
            ]
          },
          "metadata": {
            "tags": []
          },
          "execution_count": 13
        }
      ]
    },
    {
      "cell_type": "markdown",
      "metadata": {
        "id": "EJ0NfXnZ7pZn"
      },
      "source": [
        "Derivative w.r.t y"
      ]
    },
    {
      "cell_type": "code",
      "metadata": {
        "colab": {
          "base_uri": "https://localhost:8080/"
        },
        "id": "mXhZorEn7pZn",
        "outputId": "b207bba2-b599-4f19-f3fe-d0d69c690492"
      },
      "source": [
        "Derivative(expr, y).doit()"
      ],
      "execution_count": 14,
      "outputs": [
        {
          "output_type": "execute_result",
          "data": {
            "text/plain": [
              "3*x**3*y**2 + 2*x**2*y + 2*x"
            ]
          },
          "metadata": {
            "tags": []
          },
          "execution_count": 14
        }
      ]
    },
    {
      "cell_type": "code",
      "metadata": {
        "id": "YTrfxfFB74BG"
      },
      "source": [
        ""
      ],
      "execution_count": null,
      "outputs": []
    },
    {
      "cell_type": "markdown",
      "metadata": {
        "id": "-jIyXmPR9afq"
      },
      "source": [
        "Integrals"
      ]
    },
    {
      "cell_type": "code",
      "metadata": {
        "colab": {
          "base_uri": "https://localhost:8080/"
        },
        "id": "2QgMyGvV9by1",
        "outputId": "a1bb67d6-17de-4534-89c4-444e474ddc92"
      },
      "source": [
        "f = 2*x**2+3\r\n",
        "integrate(f,x)"
      ],
      "execution_count": 15,
      "outputs": [
        {
          "output_type": "execute_result",
          "data": {
            "text/plain": [
              "2*x**3/3 + 3*x"
            ]
          },
          "metadata": {
            "tags": []
          },
          "execution_count": 15
        }
      ]
    },
    {
      "cell_type": "code",
      "metadata": {
        "colab": {
          "base_uri": "https://localhost:8080/"
        },
        "id": "f76JRDaY9jBW",
        "outputId": "2077a2d1-4bab-413d-8056-08708e96401a"
      },
      "source": [
        "expr = x**2 + 2 * y + y**3\r\n",
        "integrate(expr,x)"
      ],
      "execution_count": 16,
      "outputs": [
        {
          "output_type": "execute_result",
          "data": {
            "text/plain": [
              "x**3/3 + x*(y**3 + 2*y)"
            ]
          },
          "metadata": {
            "tags": []
          },
          "execution_count": 16
        }
      ]
    },
    {
      "cell_type": "markdown",
      "metadata": {
        "id": "sOzPva7L9rb0"
      },
      "source": [
        "Integration with Limits"
      ]
    },
    {
      "cell_type": "code",
      "metadata": {
        "colab": {
          "base_uri": "https://localhost:8080/"
        },
        "id": "-w3MSyAU9ukU",
        "outputId": "8507aedf-fac2-4f87-9ce7-7f1516d0dd1d"
      },
      "source": [
        "expr = x**2 + 2 * y + y**3\r\n",
        "integrate(expr,(x,0,2))"
      ],
      "execution_count": 20,
      "outputs": [
        {
          "output_type": "execute_result",
          "data": {
            "text/plain": [
              "2*y**3 + 4*y + 8/3"
            ]
          },
          "metadata": {
            "tags": []
          },
          "execution_count": 20
        }
      ]
    },
    {
      "cell_type": "markdown",
      "metadata": {
        "id": "GHbrixnc96Ah"
      },
      "source": [
        "Double Integration"
      ]
    },
    {
      "cell_type": "code",
      "metadata": {
        "colab": {
          "base_uri": "https://localhost:8080/"
        },
        "id": "q8YgvoPR-K6d",
        "outputId": "c908b7c2-dfcb-44dd-fb66-b41bc03332cb"
      },
      "source": [
        "expr = x**2 + 2 * y + y**3\r\n",
        "integrate(expr,(x,0,2), (y,0,2))"
      ],
      "execution_count": 23,
      "outputs": [
        {
          "output_type": "execute_result",
          "data": {
            "text/plain": [
              "64/3"
            ]
          },
          "metadata": {
            "tags": []
          },
          "execution_count": 23
        }
      ]
    },
    {
      "cell_type": "code",
      "metadata": {
        "id": "GDF01rf7-Och"
      },
      "source": [
        ""
      ],
      "execution_count": null,
      "outputs": []
    }
  ]
}
