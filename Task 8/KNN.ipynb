{
  "nbformat": 4,
  "nbformat_minor": 0,
  "metadata": {
    "colab": {
      "name": "KNN.ipynb",
      "provenance": []
    },
    "kernelspec": {
      "name": "python3",
      "display_name": "Python 3"
    }
  },
  "cells": [
    {
      "cell_type": "code",
      "metadata": {
        "id": "bdb1UxFnGtT6"
      },
      "source": [
        "import pandas as pd\r\n",
        "import numpy as np"
      ],
      "execution_count": null,
      "outputs": []
    },
    {
      "cell_type": "code",
      "metadata": {
        "id": "BPW0RILFG9l-"
      },
      "source": [
        "from sklearn.datasets import load_digits"
      ],
      "execution_count": null,
      "outputs": []
    },
    {
      "cell_type": "code",
      "metadata": {
        "id": "KIufONf5JDLm"
      },
      "source": [
        "digits = load_digits()"
      ],
      "execution_count": null,
      "outputs": []
    },
    {
      "cell_type": "code",
      "metadata": {
        "colab": {
          "base_uri": "https://localhost:8080/"
        },
        "id": "Yaj5-w80J8fB",
        "outputId": "fe7b3784-e900-4aa6-aa54-76a8b2284f1b"
      },
      "source": [
        "digits.target_names"
      ],
      "execution_count": null,
      "outputs": [
        {
          "output_type": "execute_result",
          "data": {
            "text/plain": [
              "array([0, 1, 2, 3, 4, 5, 6, 7, 8, 9])"
            ]
          },
          "metadata": {
            "tags": []
          },
          "execution_count": 4
        }
      ]
    },
    {
      "cell_type": "code",
      "metadata": {
        "colab": {
          "base_uri": "https://localhost:8080/"
        },
        "id": "xEUa2chQJ5GU",
        "outputId": "c231336b-2e9b-4a62-c512-c9f896392a65"
      },
      "source": [
        "digits.data"
      ],
      "execution_count": null,
      "outputs": [
        {
          "output_type": "execute_result",
          "data": {
            "text/plain": [
              "array([[ 0.,  0.,  5., ...,  0.,  0.,  0.],\n",
              "       [ 0.,  0.,  0., ..., 10.,  0.,  0.],\n",
              "       [ 0.,  0.,  0., ..., 16.,  9.,  0.],\n",
              "       ...,\n",
              "       [ 0.,  0.,  1., ...,  6.,  0.,  0.],\n",
              "       [ 0.,  0.,  2., ..., 12.,  0.,  0.],\n",
              "       [ 0.,  0., 10., ..., 12.,  1.,  0.]])"
            ]
          },
          "metadata": {
            "tags": []
          },
          "execution_count": 5
        }
      ]
    },
    {
      "cell_type": "code",
      "metadata": {
        "colab": {
          "base_uri": "https://localhost:8080/"
        },
        "id": "NKHPNCfPJHpQ",
        "outputId": "99bfa056-35c5-4417-8f71-a3e7e6d183d1"
      },
      "source": [
        "digits.target"
      ],
      "execution_count": null,
      "outputs": [
        {
          "output_type": "execute_result",
          "data": {
            "text/plain": [
              "array([0, 1, 2, ..., 8, 9, 8])"
            ]
          },
          "metadata": {
            "tags": []
          },
          "execution_count": 6
        }
      ]
    },
    {
      "cell_type": "code",
      "metadata": {
        "colab": {
          "base_uri": "https://localhost:8080/"
        },
        "id": "OJxCUAVmJJV4",
        "outputId": "bdef8c7c-455b-4523-cdd9-63852c8269e5"
      },
      "source": [
        "X= digits.data\r\n",
        "X.shape"
      ],
      "execution_count": null,
      "outputs": [
        {
          "output_type": "execute_result",
          "data": {
            "text/plain": [
              "(1797, 64)"
            ]
          },
          "metadata": {
            "tags": []
          },
          "execution_count": 10
        }
      ]
    },
    {
      "cell_type": "code",
      "metadata": {
        "colab": {
          "base_uri": "https://localhost:8080/"
        },
        "id": "LUR4IF1PKPNE",
        "outputId": "bc9f9bc1-edb7-4c98-aff7-7e4d7cfb47f1"
      },
      "source": [
        "y= digits.target\r\n",
        "y.shape"
      ],
      "execution_count": null,
      "outputs": [
        {
          "output_type": "execute_result",
          "data": {
            "text/plain": [
              "(1797,)"
            ]
          },
          "metadata": {
            "tags": []
          },
          "execution_count": 11
        }
      ]
    },
    {
      "cell_type": "code",
      "metadata": {
        "id": "Ly9ie3PSKW_C"
      },
      "source": [
        "from sklearn.model_selection import train_test_split"
      ],
      "execution_count": null,
      "outputs": []
    },
    {
      "cell_type": "code",
      "metadata": {
        "id": "KQ8zax8gKck9"
      },
      "source": [
        "X_train, X_test, y_train, y_test = train_test_split(X, y, test_size = 0.2)"
      ],
      "execution_count": null,
      "outputs": []
    },
    {
      "cell_type": "code",
      "metadata": {
        "id": "-Yis4gG_MPm2"
      },
      "source": [
        "def manhattan(d1, d2):\r\n",
        "  return sum(abs(d1-d2))"
      ],
      "execution_count": null,
      "outputs": []
    },
    {
      "cell_type": "code",
      "metadata": {
        "colab": {
          "base_uri": "https://localhost:8080/"
        },
        "id": "8UsdE1BMN-NO",
        "outputId": "768743ae-53c0-443c-9776-b97a3a182afb"
      },
      "source": [
        "a = np.array([5,3,4])\r\n",
        "b = np.array([4,4,2])\r\n",
        "manhattan(a,b)"
      ],
      "execution_count": null,
      "outputs": [
        {
          "output_type": "execute_result",
          "data": {
            "text/plain": [
              "4"
            ]
          },
          "metadata": {
            "tags": []
          },
          "execution_count": 15
        }
      ]
    },
    {
      "cell_type": "code",
      "metadata": {
        "id": "huXTQuDDeZp0"
      },
      "source": [
        "from collections import Counter"
      ],
      "execution_count": null,
      "outputs": []
    },
    {
      "cell_type": "code",
      "metadata": {
        "id": "o491Oo-jOVVf"
      },
      "source": [
        "def knn(X_train, y_train, X_test, k):\r\n",
        "  y_pred = []\r\n",
        "  X_train= X_train.tolist()\r\n",
        "  for data in X_test:\r\n",
        "    distances = [(manhattan(data,x), X_train.index(x)) for x in X_train]\r\n",
        "    distances.sort()\r\n",
        "    k_nearest = distances[:k]\r\n",
        "    neighbours = [y_train[d[1]] for d in k_nearest]\r\n",
        "    c=Counter(neighbours)\r\n",
        "    y_pred.append(c.most_common()[0][0])\r\n",
        "  return y_pred"
      ],
      "execution_count": null,
      "outputs": []
    },
    {
      "cell_type": "code",
      "metadata": {
        "id": "2rL4b8UPZzcb"
      },
      "source": [
        "y_pred = knn(X_train, y_train, X_test, 5)"
      ],
      "execution_count": null,
      "outputs": []
    },
    {
      "cell_type": "code",
      "metadata": {
        "id": "6jehnP1uZ5nU"
      },
      "source": [
        "from sklearn.metrics import accuracy_score"
      ],
      "execution_count": null,
      "outputs": []
    },
    {
      "cell_type": "code",
      "metadata": {
        "colab": {
          "base_uri": "https://localhost:8080/"
        },
        "id": "2Fna_yDJgWAj",
        "outputId": "e4ac0c89-b494-43c4-d71b-7a951d77dde0"
      },
      "source": [
        "accuracy_score(y_test,y_pred)"
      ],
      "execution_count": null,
      "outputs": [
        {
          "output_type": "execute_result",
          "data": {
            "text/plain": [
              "0.9805555555555555"
            ]
          },
          "metadata": {
            "tags": []
          },
          "execution_count": 20
        }
      ]
    },
    {
      "cell_type": "code",
      "metadata": {
        "id": "yEHeRMBAgZhE"
      },
      "source": [
        "acc_scores = []\r\n",
        "for k in range(1,25,2):\r\n",
        "  y_pred = knn(X_train, y_train, X_test, k)\r\n",
        "  accuracy = accuracy_score(y_test,y_pred)\r\n",
        "  acc_scores.append((k,accuracy))"
      ],
      "execution_count": null,
      "outputs": []
    },
    {
      "cell_type": "code",
      "metadata": {
        "colab": {
          "base_uri": "https://localhost:8080/"
        },
        "id": "D0Pxpy045o0_",
        "outputId": "874f5b88-bbd9-4f08-8fce-e0d4ac105c8f"
      },
      "source": [
        "acc_scores"
      ],
      "execution_count": null,
      "outputs": [
        {
          "output_type": "execute_result",
          "data": {
            "text/plain": [
              "[(1, 0.9805555555555555),\n",
              " (3, 0.9805555555555555),\n",
              " (5, 0.9805555555555555),\n",
              " (7, 0.9777777777777777),\n",
              " (9, 0.9722222222222222),\n",
              " (11, 0.975),\n",
              " (13, 0.9722222222222222),\n",
              " (15, 0.975),\n",
              " (17, 0.9666666666666667),\n",
              " (19, 0.9722222222222222),\n",
              " (21, 0.9694444444444444),\n",
              " (23, 0.9666666666666667)]"
            ]
          },
          "metadata": {
            "tags": []
          },
          "execution_count": 30
        }
      ]
    },
    {
      "cell_type": "code",
      "metadata": {
        "id": "K-LQHiYr1Zvd"
      },
      "source": [
        "import matplotlib.pyplot as plt"
      ],
      "execution_count": null,
      "outputs": []
    },
    {
      "cell_type": "code",
      "metadata": {
        "id": "toxXoVDQ1udG"
      },
      "source": [
        "acc_scores[1]\r\n",
        "kv = [x[0] for x in acc_scores]\r\n",
        "acc = [x[1] for x in acc_scores]"
      ],
      "execution_count": null,
      "outputs": []
    },
    {
      "cell_type": "code",
      "metadata": {
        "colab": {
          "base_uri": "https://localhost:8080/",
          "height": 281
        },
        "id": "Ofu4kCnP1gLB",
        "outputId": "d495becf-039d-4994-f2fc-559775b97661"
      },
      "source": [
        "plt.plot(kv,acc)\r\n",
        "plt.title('Accuracy Scores for Different Values of k')\r\n",
        "plt.show()"
      ],
      "execution_count": null,
      "outputs": [
        {
          "output_type": "display_data",
          "data": {
            "image/png": "[encoded data removed]",
            "text/plain": [
              "<Figure size 432x288 with 1 Axes>"
            ]
          },
          "metadata": {
            "tags": [],
            "needs_background": "light"
          }
        }
      ]
    },
    {
      "cell_type": "code",
      "metadata": {
        "id": "IkWqcOB48VFO"
      },
      "source": [
        "y_pred = knn(X_train, y_train, X_test, 3)"
      ],
      "execution_count": null,
      "outputs": []
    },
    {
      "cell_type": "code",
      "metadata": {
        "colab": {
          "base_uri": "https://localhost:8080/",
          "height": 265
        },
        "id": "szvtm1Ux78zU",
        "outputId": "a226cd78-d8fc-4806-893d-cf9b11a67e2a"
      },
      "source": [
        "from sklearn.metrics import confusion_matrix\r\n",
        "import seaborn as sns\r\n",
        "sns.heatmap(confusion_matrix(y_test,y_pred), annot=True, cmap=\"YlGnBu\")\r\n",
        "plt.show()"
      ],
      "execution_count": null,
      "outputs": [
        {
          "output_type": "display_data",
          "data": {
            "image/png": "[encoded data removed]",
            "text/plain": [
              "<Figure size 432x288 with 2 Axes>"
            ]
          },
          "metadata": {
            "tags": [],
            "needs_background": "light"
          }
        }
      ]
    },
    {
      "cell_type": "code",
      "metadata": {
        "id": "bMgJFFee8ZgU"
      },
      "source": [
        ""
      ],
      "execution_count": null,
      "outputs": []
    }
  ]
}