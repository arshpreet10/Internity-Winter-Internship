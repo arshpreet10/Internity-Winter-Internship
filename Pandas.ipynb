{
  "nbformat": 4,
  "nbformat_minor": 0,
  "metadata": {
    "colab": {
      "name": "Pandas_Tutorial.ipynb",
      "provenance": [],
      "include_colab_link": true
    },
    "kernelspec": {
      "name": "python3",
      "display_name": "Python 3"
    }
  },
  "cells": [
    {
      "cell_type": "markdown",
      "metadata": {
        "id": "view-in-github",
        "colab_type": "text"
      },
      "source": [
        "<a href=\"https://colab.research.google.com/github/arshpreet10/Internity-Winter-Internship/blob/main/Pandas.ipynb\" target=\"_parent\"><img src=\"https://colab.research.google.com/assets/colab-badge.svg\" alt=\"Open In Colab\"/></a>"
      ]
    },
    {
      "cell_type": "markdown",
      "metadata": {
        "id": "skPHOJvjOiUI"
      },
      "source": [
        "#Panda\n"
      ]
    },
    {
      "cell_type": "code",
      "metadata": {
        "id": "HoMYoTjpI8tQ"
      },
      "source": [
        "import pandas as pd"
      ],
      "execution_count": null,
      "outputs": []
    },
    {
      "cell_type": "markdown",
      "metadata": {
        "id": "4ZSUtwd4Orzl"
      },
      "source": [
        "**Creating Dataframe from a dictionary**"
      ]
    },
    {
      "cell_type": "code",
      "metadata": {
        "id": "4dITUb3ULl86",
        "colab": {
          "base_uri": "https://localhost:8080/",
          "height": 204
        },
        "outputId": "4b8109b0-1718-4e0a-8eeb-6886204d6879"
      },
      "source": [
        "dic= {'Day':[1,2,3,4,5,6],'Visitors':[43,53,34,45,64,34], 'Bounce_rate':[65, 72, 62, 64, 54, 66]}\n",
        "df= pd.DataFrame(dic)\n",
        "df.head()"
      ],
      "execution_count": null,
      "outputs": [
        {
          "output_type": "execute_result",
          "data": {
            "text/html": [
              "<div>\n",
              "<style scoped>\n",
              "    .dataframe tbody tr th:only-of-type {\n",
              "        vertical-align: middle;\n",
              "    }\n",
              "\n",
              "    .dataframe tbody tr th {\n",
              "        vertical-align: top;\n",
              "    }\n",
              "\n",
              "    .dataframe thead th {\n",
              "        text-align: right;\n",
              "    }\n",
              "</style>\n",
              "<table border=\"1\" class=\"dataframe\">\n",
              "  <thead>\n",
              "    <tr style=\"text-align: right;\">\n",
              "      <th></th>\n",
              "      <th>Day</th>\n",
              "      <th>Visitors</th>\n",
              "      <th>Bounce_rate</th>\n",
              "    </tr>\n",
              "  </thead>\n",
              "  <tbody>\n",
              "    <tr>\n",
              "      <th>0</th>\n",
              "      <td>1</td>\n",
              "      <td>43</td>\n",
              "      <td>65</td>\n",
              "    </tr>\n",
              "    <tr>\n",
              "      <th>1</th>\n",
              "      <td>2</td>\n",
              "      <td>53</td>\n",
              "      <td>72</td>\n",
              "    </tr>\n",
              "    <tr>\n",
              "      <th>2</th>\n",
              "      <td>3</td>\n",
              "      <td>34</td>\n",
              "      <td>62</td>\n",
              "    </tr>\n",
              "    <tr>\n",
              "      <th>3</th>\n",
              "      <td>4</td>\n",
              "      <td>45</td>\n",
              "      <td>64</td>\n",
              "    </tr>\n",
              "    <tr>\n",
              "      <th>4</th>\n",
              "      <td>5</td>\n",
              "      <td>64</td>\n",
              "      <td>54</td>\n",
              "    </tr>\n",
              "  </tbody>\n",
              "</table>\n",
              "</div>"
            ],
            "text/plain": [
              "   Day  Visitors  Bounce_rate\n",
              "0    1        43           65\n",
              "1    2        53           72\n",
              "2    3        34           62\n",
              "3    4        45           64\n",
              "4    5        64           54"
            ]
          },
          "metadata": {
            "tags": []
          },
          "execution_count": 5
        }
      ]
    },
    {
      "cell_type": "markdown",
      "metadata": {
        "id": "MQAw_3i9Pn9E"
      },
      "source": [
        "**Viewing the dataframe**\n",
        "\n",
        "\n",
        "\n",
        "*   head() shows first 5 rows\n",
        "*   tail() shows last 5 rows\n",
        "*   head(2) shows first 2 rows\n",
        "\n",
        "\n",
        "\n"
      ]
    },
    {
      "cell_type": "code",
      "metadata": {
        "id": "RdM0rw1ZPwPH",
        "colab": {
          "base_uri": "https://localhost:8080/"
        },
        "outputId": "d31cc4e7-6ac5-42be-d586-bba9d73b6f68"
      },
      "source": [
        "print(df)"
      ],
      "execution_count": null,
      "outputs": [
        {
          "output_type": "stream",
          "text": [
            "   Day  Visitors  Bounce_rate\n",
            "0    1        43           65\n",
            "1    2        53           72\n",
            "2    3        34           62\n",
            "3    4        45           64\n",
            "4    5        64           54\n",
            "5    6        34           66\n"
          ],
          "name": "stdout"
        }
      ]
    },
    {
      "cell_type": "markdown",
      "metadata": {
        "id": "cof7EyAwRy69"
      },
      "source": [
        "**Setting a column as index column**"
      ]
    },
    {
      "cell_type": "code",
      "metadata": {
        "id": "Z-0cpKb4SE4P",
        "colab": {
          "base_uri": "https://localhost:8080/",
          "height": 330
        },
        "outputId": "0ae77dfc-0616-4cca-e4a0-34bbd1aa93c5"
      },
      "source": [
        "print(df.set_index('Day'))\n",
        "df.head()"
      ],
      "execution_count": null,
      "outputs": [
        {
          "output_type": "stream",
          "text": [
            "     Visitors  Bounce_rate\n",
            "Day                       \n",
            "1          43           65\n",
            "2          53           72\n",
            "3          34           62\n",
            "4          45           64\n",
            "5          64           54\n",
            "6          34           66\n"
          ],
          "name": "stdout"
        },
        {
          "output_type": "execute_result",
          "data": {
            "text/html": [
              "<div>\n",
              "<style scoped>\n",
              "    .dataframe tbody tr th:only-of-type {\n",
              "        vertical-align: middle;\n",
              "    }\n",
              "\n",
              "    .dataframe tbody tr th {\n",
              "        vertical-align: top;\n",
              "    }\n",
              "\n",
              "    .dataframe thead th {\n",
              "        text-align: right;\n",
              "    }\n",
              "</style>\n",
              "<table border=\"1\" class=\"dataframe\">\n",
              "  <thead>\n",
              "    <tr style=\"text-align: right;\">\n",
              "      <th></th>\n",
              "      <th>Day</th>\n",
              "      <th>Visitors</th>\n",
              "      <th>Bounce_rate</th>\n",
              "    </tr>\n",
              "  </thead>\n",
              "  <tbody>\n",
              "    <tr>\n",
              "      <th>0</th>\n",
              "      <td>1</td>\n",
              "      <td>43</td>\n",
              "      <td>65</td>\n",
              "    </tr>\n",
              "    <tr>\n",
              "      <th>1</th>\n",
              "      <td>2</td>\n",
              "      <td>53</td>\n",
              "      <td>72</td>\n",
              "    </tr>\n",
              "    <tr>\n",
              "      <th>2</th>\n",
              "      <td>3</td>\n",
              "      <td>34</td>\n",
              "      <td>62</td>\n",
              "    </tr>\n",
              "    <tr>\n",
              "      <th>3</th>\n",
              "      <td>4</td>\n",
              "      <td>45</td>\n",
              "      <td>64</td>\n",
              "    </tr>\n",
              "    <tr>\n",
              "      <th>4</th>\n",
              "      <td>5</td>\n",
              "      <td>64</td>\n",
              "      <td>54</td>\n",
              "    </tr>\n",
              "  </tbody>\n",
              "</table>\n",
              "</div>"
            ],
            "text/plain": [
              "   Day  Visitors  Bounce_rate\n",
              "0    1        43           65\n",
              "1    2        53           72\n",
              "2    3        34           62\n",
              "3    4        45           64\n",
              "4    5        64           54"
            ]
          },
          "metadata": {
            "tags": []
          },
          "execution_count": 5
        }
      ]
    },
    {
      "cell_type": "markdown",
      "metadata": {
        "id": "4hg3Ag3vTajE"
      },
      "source": [
        "In the above code, first line print does not make any changes in the original dataframe, and creates a new dataframe and prints it"
      ]
    },
    {
      "cell_type": "code",
      "metadata": {
        "id": "XdKxKKj_TjBB",
        "colab": {
          "base_uri": "https://localhost:8080/",
          "height": 235
        },
        "outputId": "b3f4760d-fc13-404e-9be0-9e10d5774f64"
      },
      "source": [
        "#df=df.set_index('Day')\n",
        "df.set_index('Day', inplace=True)\n",
        "df.head()"
      ],
      "execution_count": null,
      "outputs": [
        {
          "output_type": "execute_result",
          "data": {
            "text/html": [
              "<div>\n",
              "<style scoped>\n",
              "    .dataframe tbody tr th:only-of-type {\n",
              "        vertical-align: middle;\n",
              "    }\n",
              "\n",
              "    .dataframe tbody tr th {\n",
              "        vertical-align: top;\n",
              "    }\n",
              "\n",
              "    .dataframe thead th {\n",
              "        text-align: right;\n",
              "    }\n",
              "</style>\n",
              "<table border=\"1\" class=\"dataframe\">\n",
              "  <thead>\n",
              "    <tr style=\"text-align: right;\">\n",
              "      <th></th>\n",
              "      <th>Visitors</th>\n",
              "      <th>Bounce_rate</th>\n",
              "    </tr>\n",
              "    <tr>\n",
              "      <th>Day</th>\n",
              "      <th></th>\n",
              "      <th></th>\n",
              "    </tr>\n",
              "  </thead>\n",
              "  <tbody>\n",
              "    <tr>\n",
              "      <th>1</th>\n",
              "      <td>43</td>\n",
              "      <td>65</td>\n",
              "    </tr>\n",
              "    <tr>\n",
              "      <th>2</th>\n",
              "      <td>53</td>\n",
              "      <td>72</td>\n",
              "    </tr>\n",
              "    <tr>\n",
              "      <th>3</th>\n",
              "      <td>34</td>\n",
              "      <td>62</td>\n",
              "    </tr>\n",
              "    <tr>\n",
              "      <th>4</th>\n",
              "      <td>45</td>\n",
              "      <td>64</td>\n",
              "    </tr>\n",
              "    <tr>\n",
              "      <th>5</th>\n",
              "      <td>64</td>\n",
              "      <td>54</td>\n",
              "    </tr>\n",
              "  </tbody>\n",
              "</table>\n",
              "</div>"
            ],
            "text/plain": [
              "     Visitors  Bounce_rate\n",
              "Day                       \n",
              "1          43           65\n",
              "2          53           72\n",
              "3          34           62\n",
              "4          45           64\n",
              "5          64           54"
            ]
          },
          "metadata": {
            "tags": []
          },
          "execution_count": 7
        }
      ]
    },
    {
      "cell_type": "markdown",
      "metadata": {
        "id": "loVtxalDu1HJ"
      },
      "source": [
        "**Refering Multiple Columns**\n",
        "\n",
        "Using list of attributes, therefore double [[' ',' ']]"
      ]
    },
    {
      "cell_type": "code",
      "metadata": {
        "id": "wjYCsdBHZzw7",
        "colab": {
          "base_uri": "https://localhost:8080/",
          "height": 254
        },
        "outputId": "4b83c1a9-578e-4b79-a7ba-079412777016"
      },
      "source": [
        "df[['Visitors', 'Bounce_rate']]\n",
        "#df.Visitors\n",
        "#df.['Visitors']\n",
        "#for single column"
      ],
      "execution_count": null,
      "outputs": [
        {
          "output_type": "execute_result",
          "data": {
            "text/html": [
              "<div>\n",
              "<style scoped>\n",
              "    .dataframe tbody tr th:only-of-type {\n",
              "        vertical-align: middle;\n",
              "    }\n",
              "\n",
              "    .dataframe tbody tr th {\n",
              "        vertical-align: top;\n",
              "    }\n",
              "\n",
              "    .dataframe thead th {\n",
              "        text-align: right;\n",
              "    }\n",
              "</style>\n",
              "<table border=\"1\" class=\"dataframe\">\n",
              "  <thead>\n",
              "    <tr style=\"text-align: right;\">\n",
              "      <th></th>\n",
              "      <th>Visitors</th>\n",
              "      <th>Bounce_rate</th>\n",
              "    </tr>\n",
              "    <tr>\n",
              "      <th>Day</th>\n",
              "      <th></th>\n",
              "      <th></th>\n",
              "    </tr>\n",
              "  </thead>\n",
              "  <tbody>\n",
              "    <tr>\n",
              "      <th>1</th>\n",
              "      <td>43</td>\n",
              "      <td>65</td>\n",
              "    </tr>\n",
              "    <tr>\n",
              "      <th>2</th>\n",
              "      <td>53</td>\n",
              "      <td>72</td>\n",
              "    </tr>\n",
              "    <tr>\n",
              "      <th>3</th>\n",
              "      <td>34</td>\n",
              "      <td>62</td>\n",
              "    </tr>\n",
              "    <tr>\n",
              "      <th>4</th>\n",
              "      <td>45</td>\n",
              "      <td>64</td>\n",
              "    </tr>\n",
              "    <tr>\n",
              "      <th>5</th>\n",
              "      <td>64</td>\n",
              "      <td>54</td>\n",
              "    </tr>\n",
              "    <tr>\n",
              "      <th>6</th>\n",
              "      <td>34</td>\n",
              "      <td>66</td>\n",
              "    </tr>\n",
              "  </tbody>\n",
              "</table>\n",
              "</div>"
            ],
            "text/plain": [
              "     Visitors  Bounce_rate\n",
              "Day                       \n",
              "1          43           65\n",
              "2          53           72\n",
              "3          34           62\n",
              "4          45           64\n",
              "5          64           54\n",
              "6          34           66"
            ]
          },
          "metadata": {
            "tags": []
          },
          "execution_count": 7
        }
      ]
    },
    {
      "cell_type": "markdown",
      "metadata": {
        "id": "iyXxIBAfvztQ"
      },
      "source": [
        "**Converting to list**\n"
      ]
    },
    {
      "cell_type": "code",
      "metadata": {
        "id": "btNVqagAv6xf",
        "colab": {
          "base_uri": "https://localhost:8080/"
        },
        "outputId": "86c6da75-5c3b-46f0-d0b6-aea8060853dd"
      },
      "source": [
        "df.Visitors.tolist()"
      ],
      "execution_count": null,
      "outputs": [
        {
          "output_type": "execute_result",
          "data": {
            "text/plain": [
              "[43, 53, 34, 45, 64, 34]"
            ]
          },
          "metadata": {
            "tags": []
          },
          "execution_count": 8
        }
      ]
    },
    {
      "cell_type": "markdown",
      "metadata": {
        "id": "vN_RoXWT3KAh"
      },
      "source": [
        "**Reading CSV Files**"
      ]
    },
    {
      "cell_type": "code",
      "metadata": {
        "id": "8DmDRsdE3UzS",
        "colab": {
          "base_uri": "https://localhost:8080/",
          "height": 391
        },
        "outputId": "5215ad8d-62b3-4382-a57f-47ba394e3a2a"
      },
      "source": [
        "df=pd.read_csv('/content/drive/My Drive/Colab Notebooks/Data/Book1.csv')\n",
        "df.head()"
      ],
      "execution_count": null,
      "outputs": [
        {
          "output_type": "error",
          "ename": "FileNotFoundError",
          "evalue": "ignored",
          "traceback": [
            "\u001b[0;31m---------------------------------------------------------------------------\u001b[0m",
            "\u001b[0;31mFileNotFoundError\u001b[0m                         Traceback (most recent call last)",
            "\u001b[0;32m<ipython-input-9-a257ad170abc>\u001b[0m in \u001b[0;36m<module>\u001b[0;34m()\u001b[0m\n\u001b[0;32m----> 1\u001b[0;31m \u001b[0mdf\u001b[0m\u001b[0;34m=\u001b[0m\u001b[0mpd\u001b[0m\u001b[0;34m.\u001b[0m\u001b[0mread_csv\u001b[0m\u001b[0;34m(\u001b[0m\u001b[0;34m'/content/drive/My Drive/Colab Notebooks/Data/Book1.csv'\u001b[0m\u001b[0;34m)\u001b[0m\u001b[0;34m\u001b[0m\u001b[0;34m\u001b[0m\u001b[0m\n\u001b[0m\u001b[1;32m      2\u001b[0m \u001b[0mdf\u001b[0m\u001b[0;34m.\u001b[0m\u001b[0mhead\u001b[0m\u001b[0;34m(\u001b[0m\u001b[0;34m)\u001b[0m\u001b[0;34m\u001b[0m\u001b[0;34m\u001b[0m\u001b[0m\n",
            "\u001b[0;32m/usr/local/lib/python3.6/dist-packages/pandas/io/parsers.py\u001b[0m in \u001b[0;36mread_csv\u001b[0;34m(filepath_or_buffer, sep, delimiter, header, names, index_col, usecols, squeeze, prefix, mangle_dupe_cols, dtype, engine, converters, true_values, false_values, skipinitialspace, skiprows, skipfooter, nrows, na_values, keep_default_na, na_filter, verbose, skip_blank_lines, parse_dates, infer_datetime_format, keep_date_col, date_parser, dayfirst, cache_dates, iterator, chunksize, compression, thousands, decimal, lineterminator, quotechar, quoting, doublequote, escapechar, comment, encoding, dialect, error_bad_lines, warn_bad_lines, delim_whitespace, low_memory, memory_map, float_precision)\u001b[0m\n\u001b[1;32m    686\u001b[0m     )\n\u001b[1;32m    687\u001b[0m \u001b[0;34m\u001b[0m\u001b[0m\n\u001b[0;32m--> 688\u001b[0;31m     \u001b[0;32mreturn\u001b[0m \u001b[0m_read\u001b[0m\u001b[0;34m(\u001b[0m\u001b[0mfilepath_or_buffer\u001b[0m\u001b[0;34m,\u001b[0m \u001b[0mkwds\u001b[0m\u001b[0;34m)\u001b[0m\u001b[0;34m\u001b[0m\u001b[0;34m\u001b[0m\u001b[0m\n\u001b[0m\u001b[1;32m    689\u001b[0m \u001b[0;34m\u001b[0m\u001b[0m\n\u001b[1;32m    690\u001b[0m \u001b[0;34m\u001b[0m\u001b[0m\n",
            "\u001b[0;32m/usr/local/lib/python3.6/dist-packages/pandas/io/parsers.py\u001b[0m in \u001b[0;36m_read\u001b[0;34m(filepath_or_buffer, kwds)\u001b[0m\n\u001b[1;32m    452\u001b[0m \u001b[0;34m\u001b[0m\u001b[0m\n\u001b[1;32m    453\u001b[0m     \u001b[0;31m# Create the parser.\u001b[0m\u001b[0;34m\u001b[0m\u001b[0;34m\u001b[0m\u001b[0;34m\u001b[0m\u001b[0m\n\u001b[0;32m--> 454\u001b[0;31m     \u001b[0mparser\u001b[0m \u001b[0;34m=\u001b[0m \u001b[0mTextFileReader\u001b[0m\u001b[0;34m(\u001b[0m\u001b[0mfp_or_buf\u001b[0m\u001b[0;34m,\u001b[0m \u001b[0;34m**\u001b[0m\u001b[0mkwds\u001b[0m\u001b[0;34m)\u001b[0m\u001b[0;34m\u001b[0m\u001b[0;34m\u001b[0m\u001b[0m\n\u001b[0m\u001b[1;32m    455\u001b[0m \u001b[0;34m\u001b[0m\u001b[0m\n\u001b[1;32m    456\u001b[0m     \u001b[0;32mif\u001b[0m \u001b[0mchunksize\u001b[0m \u001b[0;32mor\u001b[0m \u001b[0miterator\u001b[0m\u001b[0;34m:\u001b[0m\u001b[0;34m\u001b[0m\u001b[0;34m\u001b[0m\u001b[0m\n",
            "\u001b[0;32m/usr/local/lib/python3.6/dist-packages/pandas/io/parsers.py\u001b[0m in \u001b[0;36m__init__\u001b[0;34m(self, f, engine, **kwds)\u001b[0m\n\u001b[1;32m    946\u001b[0m             \u001b[0mself\u001b[0m\u001b[0;34m.\u001b[0m\u001b[0moptions\u001b[0m\u001b[0;34m[\u001b[0m\u001b[0;34m\"has_index_names\"\u001b[0m\u001b[0;34m]\u001b[0m \u001b[0;34m=\u001b[0m \u001b[0mkwds\u001b[0m\u001b[0;34m[\u001b[0m\u001b[0;34m\"has_index_names\"\u001b[0m\u001b[0;34m]\u001b[0m\u001b[0;34m\u001b[0m\u001b[0;34m\u001b[0m\u001b[0m\n\u001b[1;32m    947\u001b[0m \u001b[0;34m\u001b[0m\u001b[0m\n\u001b[0;32m--> 948\u001b[0;31m         \u001b[0mself\u001b[0m\u001b[0;34m.\u001b[0m\u001b[0m_make_engine\u001b[0m\u001b[0;34m(\u001b[0m\u001b[0mself\u001b[0m\u001b[0;34m.\u001b[0m\u001b[0mengine\u001b[0m\u001b[0;34m)\u001b[0m\u001b[0;34m\u001b[0m\u001b[0;34m\u001b[0m\u001b[0m\n\u001b[0m\u001b[1;32m    949\u001b[0m \u001b[0;34m\u001b[0m\u001b[0m\n\u001b[1;32m    950\u001b[0m     \u001b[0;32mdef\u001b[0m \u001b[0mclose\u001b[0m\u001b[0;34m(\u001b[0m\u001b[0mself\u001b[0m\u001b[0;34m)\u001b[0m\u001b[0;34m:\u001b[0m\u001b[0;34m\u001b[0m\u001b[0;34m\u001b[0m\u001b[0m\n",
            "\u001b[0;32m/usr/local/lib/python3.6/dist-packages/pandas/io/parsers.py\u001b[0m in \u001b[0;36m_make_engine\u001b[0;34m(self, engine)\u001b[0m\n\u001b[1;32m   1178\u001b[0m     \u001b[0;32mdef\u001b[0m \u001b[0m_make_engine\u001b[0m\u001b[0;34m(\u001b[0m\u001b[0mself\u001b[0m\u001b[0;34m,\u001b[0m \u001b[0mengine\u001b[0m\u001b[0;34m=\u001b[0m\u001b[0;34m\"c\"\u001b[0m\u001b[0;34m)\u001b[0m\u001b[0;34m:\u001b[0m\u001b[0;34m\u001b[0m\u001b[0;34m\u001b[0m\u001b[0m\n\u001b[1;32m   1179\u001b[0m         \u001b[0;32mif\u001b[0m \u001b[0mengine\u001b[0m \u001b[0;34m==\u001b[0m \u001b[0;34m\"c\"\u001b[0m\u001b[0;34m:\u001b[0m\u001b[0;34m\u001b[0m\u001b[0;34m\u001b[0m\u001b[0m\n\u001b[0;32m-> 1180\u001b[0;31m             \u001b[0mself\u001b[0m\u001b[0;34m.\u001b[0m\u001b[0m_engine\u001b[0m \u001b[0;34m=\u001b[0m \u001b[0mCParserWrapper\u001b[0m\u001b[0;34m(\u001b[0m\u001b[0mself\u001b[0m\u001b[0;34m.\u001b[0m\u001b[0mf\u001b[0m\u001b[0;34m,\u001b[0m \u001b[0;34m**\u001b[0m\u001b[0mself\u001b[0m\u001b[0;34m.\u001b[0m\u001b[0moptions\u001b[0m\u001b[0;34m)\u001b[0m\u001b[0;34m\u001b[0m\u001b[0;34m\u001b[0m\u001b[0m\n\u001b[0m\u001b[1;32m   1181\u001b[0m         \u001b[0;32melse\u001b[0m\u001b[0;34m:\u001b[0m\u001b[0;34m\u001b[0m\u001b[0;34m\u001b[0m\u001b[0m\n\u001b[1;32m   1182\u001b[0m             \u001b[0;32mif\u001b[0m \u001b[0mengine\u001b[0m \u001b[0;34m==\u001b[0m \u001b[0;34m\"python\"\u001b[0m\u001b[0;34m:\u001b[0m\u001b[0;34m\u001b[0m\u001b[0;34m\u001b[0m\u001b[0m\n",
            "\u001b[0;32m/usr/local/lib/python3.6/dist-packages/pandas/io/parsers.py\u001b[0m in \u001b[0;36m__init__\u001b[0;34m(self, src, **kwds)\u001b[0m\n\u001b[1;32m   2008\u001b[0m         \u001b[0mkwds\u001b[0m\u001b[0;34m[\u001b[0m\u001b[0;34m\"usecols\"\u001b[0m\u001b[0;34m]\u001b[0m \u001b[0;34m=\u001b[0m \u001b[0mself\u001b[0m\u001b[0;34m.\u001b[0m\u001b[0musecols\u001b[0m\u001b[0;34m\u001b[0m\u001b[0;34m\u001b[0m\u001b[0m\n\u001b[1;32m   2009\u001b[0m \u001b[0;34m\u001b[0m\u001b[0m\n\u001b[0;32m-> 2010\u001b[0;31m         \u001b[0mself\u001b[0m\u001b[0;34m.\u001b[0m\u001b[0m_reader\u001b[0m \u001b[0;34m=\u001b[0m \u001b[0mparsers\u001b[0m\u001b[0;34m.\u001b[0m\u001b[0mTextReader\u001b[0m\u001b[0;34m(\u001b[0m\u001b[0msrc\u001b[0m\u001b[0;34m,\u001b[0m \u001b[0;34m**\u001b[0m\u001b[0mkwds\u001b[0m\u001b[0;34m)\u001b[0m\u001b[0;34m\u001b[0m\u001b[0;34m\u001b[0m\u001b[0m\n\u001b[0m\u001b[1;32m   2011\u001b[0m         \u001b[0mself\u001b[0m\u001b[0;34m.\u001b[0m\u001b[0munnamed_cols\u001b[0m \u001b[0;34m=\u001b[0m \u001b[0mself\u001b[0m\u001b[0;34m.\u001b[0m\u001b[0m_reader\u001b[0m\u001b[0;34m.\u001b[0m\u001b[0munnamed_cols\u001b[0m\u001b[0;34m\u001b[0m\u001b[0;34m\u001b[0m\u001b[0m\n\u001b[1;32m   2012\u001b[0m \u001b[0;34m\u001b[0m\u001b[0m\n",
            "\u001b[0;32mpandas/_libs/parsers.pyx\u001b[0m in \u001b[0;36mpandas._libs.parsers.TextReader.__cinit__\u001b[0;34m()\u001b[0m\n",
            "\u001b[0;32mpandas/_libs/parsers.pyx\u001b[0m in \u001b[0;36mpandas._libs.parsers.TextReader._setup_parser_source\u001b[0;34m()\u001b[0m\n",
            "\u001b[0;31mFileNotFoundError\u001b[0m: [Errno 2] No such file or directory: '/content/drive/My Drive/Colab Notebooks/Data/Book1.csv'"
          ]
        }
      ]
    },
    {
      "cell_type": "markdown",
      "metadata": {
        "id": "oePyOZmt4c6p"
      },
      "source": [
        "Setting index to date and converting dataframe to CSV file"
      ]
    },
    {
      "cell_type": "code",
      "metadata": {
        "id": "UW6cAJ1a3V4V"
      },
      "source": [
        "df.set_index('Date', inplace=True)\n",
        "df.to_csv('/content/drive/My Drive/Colab Notebooks/Data/newcsv1.csv')"
      ],
      "execution_count": null,
      "outputs": []
    },
    {
      "cell_type": "markdown",
      "metadata": {
        "id": "iFifaaGj44ah"
      },
      "source": [
        "index remains unchanged because csv files don't have index property"
      ]
    },
    {
      "cell_type": "code",
      "metadata": {
        "id": "J-NaCyai3pev",
        "colab": {
          "base_uri": "https://localhost:8080/",
          "height": 195
        },
        "outputId": "38544d1a-2109-4a4d-fc3a-911ed0fc993f"
      },
      "source": [
        "df=pd.read_csv('/content/drive/My Drive/Colab Notebooks/Data/newcsv1.csv')\n",
        "df.head()"
      ],
      "execution_count": null,
      "outputs": [
        {
          "output_type": "execute_result",
          "data": {
            "text/html": [
              "<div>\n",
              "<style scoped>\n",
              "    .dataframe tbody tr th:only-of-type {\n",
              "        vertical-align: middle;\n",
              "    }\n",
              "\n",
              "    .dataframe tbody tr th {\n",
              "        vertical-align: top;\n",
              "    }\n",
              "\n",
              "    .dataframe thead th {\n",
              "        text-align: right;\n",
              "    }\n",
              "</style>\n",
              "<table border=\"1\" class=\"dataframe\">\n",
              "  <thead>\n",
              "    <tr style=\"text-align: right;\">\n",
              "      <th></th>\n",
              "      <th>Date</th>\n",
              "      <th>Values</th>\n",
              "    </tr>\n",
              "  </thead>\n",
              "  <tbody>\n",
              "    <tr>\n",
              "      <th>0</th>\n",
              "      <td>30-09-2018</td>\n",
              "      <td>210</td>\n",
              "    </tr>\n",
              "    <tr>\n",
              "      <th>1</th>\n",
              "      <td>31-08-2018</td>\n",
              "      <td>205</td>\n",
              "    </tr>\n",
              "    <tr>\n",
              "      <th>2</th>\n",
              "      <td>31-07-2018</td>\n",
              "      <td>211</td>\n",
              "    </tr>\n",
              "    <tr>\n",
              "      <th>3</th>\n",
              "      <td>30-06-2018</td>\n",
              "      <td>211</td>\n",
              "    </tr>\n",
              "    <tr>\n",
              "      <th>4</th>\n",
              "      <td>31-05-2018</td>\n",
              "      <td>214</td>\n",
              "    </tr>\n",
              "  </tbody>\n",
              "</table>\n",
              "</div>"
            ],
            "text/plain": [
              "         Date  Values\n",
              "0  30-09-2018     210\n",
              "1  31-08-2018     205\n",
              "2  31-07-2018     211\n",
              "3  30-06-2018     211\n",
              "4  31-05-2018     214"
            ]
          },
          "metadata": {
            "tags": []
          },
          "execution_count": 13
        }
      ]
    },
    {
      "cell_type": "markdown",
      "metadata": {
        "id": "SUOLzbOS7SBW"
      },
      "source": [
        "Specifiying the index column while reading"
      ]
    },
    {
      "cell_type": "code",
      "metadata": {
        "id": "WYiz5NRo7FUF",
        "colab": {
          "base_uri": "https://localhost:8080/",
          "height": 225
        },
        "outputId": "e4ae71c7-7601-4547-fcd0-4490edbae353"
      },
      "source": [
        "df=pd.read_csv('/content/drive/My Drive/Colab Notebooks/Data/newcsv1.csv', index_col=0)\n",
        "df.head()"
      ],
      "execution_count": null,
      "outputs": [
        {
          "output_type": "execute_result",
          "data": {
            "text/html": [
              "<div>\n",
              "<style scoped>\n",
              "    .dataframe tbody tr th:only-of-type {\n",
              "        vertical-align: middle;\n",
              "    }\n",
              "\n",
              "    .dataframe tbody tr th {\n",
              "        vertical-align: top;\n",
              "    }\n",
              "\n",
              "    .dataframe thead th {\n",
              "        text-align: right;\n",
              "    }\n",
              "</style>\n",
              "<table border=\"1\" class=\"dataframe\">\n",
              "  <thead>\n",
              "    <tr style=\"text-align: right;\">\n",
              "      <th></th>\n",
              "      <th>Values</th>\n",
              "    </tr>\n",
              "    <tr>\n",
              "      <th>Date</th>\n",
              "      <th></th>\n",
              "    </tr>\n",
              "  </thead>\n",
              "  <tbody>\n",
              "    <tr>\n",
              "      <th>30-09-2018</th>\n",
              "      <td>210</td>\n",
              "    </tr>\n",
              "    <tr>\n",
              "      <th>31-08-2018</th>\n",
              "      <td>205</td>\n",
              "    </tr>\n",
              "    <tr>\n",
              "      <th>31-07-2018</th>\n",
              "      <td>211</td>\n",
              "    </tr>\n",
              "    <tr>\n",
              "      <th>30-06-2018</th>\n",
              "      <td>211</td>\n",
              "    </tr>\n",
              "    <tr>\n",
              "      <th>31-05-2018</th>\n",
              "      <td>214</td>\n",
              "    </tr>\n",
              "  </tbody>\n",
              "</table>\n",
              "</div>"
            ],
            "text/plain": [
              "            Values\n",
              "Date              \n",
              "30-09-2018     210\n",
              "31-08-2018     205\n",
              "31-07-2018     211\n",
              "30-06-2018     211\n",
              "31-05-2018     214"
            ]
          },
          "metadata": {
            "tags": []
          },
          "execution_count": 14
        }
      ]
    },
    {
      "cell_type": "markdown",
      "metadata": {
        "id": "yshcQ6Du7-lC"
      },
      "source": [
        "Changing coulmn name"
      ]
    },
    {
      "cell_type": "code",
      "metadata": {
        "id": "T6jsYkIg8Bkh"
      },
      "source": [
        "df.columns=['Austin_HPI']\n",
        "df.head()"
      ],
      "execution_count": null,
      "outputs": []
    },
    {
      "cell_type": "markdown",
      "metadata": {
        "id": "UuAfqDqM8t2K"
      },
      "source": [
        "this will convert it into csv with changed column name\n",
        "\n",
        "```\n",
        "df.to_csv('newcsv2.csv')\n",
        "```"
      ]
    },
    {
      "cell_type": "markdown",
      "metadata": {
        "id": "hdUcIBIV9AIi"
      },
      "source": [
        "Converting to csv without column titles and just data entries(no header)"
      ]
    },
    {
      "cell_type": "code",
      "metadata": {
        "id": "8x1_Ytce8zgU"
      },
      "source": [
        "df.to_csv('/content/drive/My Drive/Colab Notebooks/Data/newcsv3.csv', header=False)"
      ],
      "execution_count": null,
      "outputs": []
    },
    {
      "cell_type": "markdown",
      "metadata": {
        "id": "yHajhnH59VW9"
      },
      "source": [
        "Reading from csv with no column titles"
      ]
    },
    {
      "cell_type": "code",
      "metadata": {
        "id": "efh3VyHS9ago",
        "colab": {
          "base_uri": "https://localhost:8080/",
          "height": 225
        },
        "outputId": "400f39f4-ca57-40cd-88fc-6d0d1d7d274f"
      },
      "source": [
        "df=pd.read_csv('/content/drive/My Drive/Colab Notebooks/Data/newcsv3.csv', names=['Date','Austin_HPI'], index_col=0)\n",
        "df.head()"
      ],
      "execution_count": null,
      "outputs": [
        {
          "output_type": "execute_result",
          "data": {
            "text/html": [
              "<div>\n",
              "<style scoped>\n",
              "    .dataframe tbody tr th:only-of-type {\n",
              "        vertical-align: middle;\n",
              "    }\n",
              "\n",
              "    .dataframe tbody tr th {\n",
              "        vertical-align: top;\n",
              "    }\n",
              "\n",
              "    .dataframe thead th {\n",
              "        text-align: right;\n",
              "    }\n",
              "</style>\n",
              "<table border=\"1\" class=\"dataframe\">\n",
              "  <thead>\n",
              "    <tr style=\"text-align: right;\">\n",
              "      <th></th>\n",
              "      <th>Austin_HPI</th>\n",
              "    </tr>\n",
              "    <tr>\n",
              "      <th>Date</th>\n",
              "      <th></th>\n",
              "    </tr>\n",
              "  </thead>\n",
              "  <tbody>\n",
              "    <tr>\n",
              "      <th>30-09-2018</th>\n",
              "      <td>210</td>\n",
              "    </tr>\n",
              "    <tr>\n",
              "      <th>31-08-2018</th>\n",
              "      <td>205</td>\n",
              "    </tr>\n",
              "    <tr>\n",
              "      <th>31-07-2018</th>\n",
              "      <td>211</td>\n",
              "    </tr>\n",
              "    <tr>\n",
              "      <th>30-06-2018</th>\n",
              "      <td>211</td>\n",
              "    </tr>\n",
              "    <tr>\n",
              "      <th>31-05-2018</th>\n",
              "      <td>214</td>\n",
              "    </tr>\n",
              "  </tbody>\n",
              "</table>\n",
              "</div>"
            ],
            "text/plain": [
              "            Austin_HPI\n",
              "Date                  \n",
              "30-09-2018         210\n",
              "31-08-2018         205\n",
              "31-07-2018         211\n",
              "30-06-2018         211\n",
              "31-05-2018         214"
            ]
          },
          "metadata": {
            "tags": []
          },
          "execution_count": 17
        }
      ]
    },
    {
      "cell_type": "markdown",
      "metadata": {
        "id": "x3Q-yGet-jK0"
      },
      "source": [
        "Renaming columns"
      ]
    },
    {
      "cell_type": "code",
      "metadata": {
        "id": "SgTHvRWH-lJH",
        "colab": {
          "base_uri": "https://localhost:8080/",
          "height": 225
        },
        "outputId": "230a7a1c-b06f-49e8-baeb-9eedb4bb043a"
      },
      "source": [
        "df.rename(columns={'Austin_HPI':'77006_HPI'}, inplace=True)\n",
        "df.head()"
      ],
      "execution_count": null,
      "outputs": [
        {
          "output_type": "execute_result",
          "data": {
            "text/html": [
              "<div>\n",
              "<style scoped>\n",
              "    .dataframe tbody tr th:only-of-type {\n",
              "        vertical-align: middle;\n",
              "    }\n",
              "\n",
              "    .dataframe tbody tr th {\n",
              "        vertical-align: top;\n",
              "    }\n",
              "\n",
              "    .dataframe thead th {\n",
              "        text-align: right;\n",
              "    }\n",
              "</style>\n",
              "<table border=\"1\" class=\"dataframe\">\n",
              "  <thead>\n",
              "    <tr style=\"text-align: right;\">\n",
              "      <th></th>\n",
              "      <th>77006_HPI</th>\n",
              "    </tr>\n",
              "    <tr>\n",
              "      <th>Date</th>\n",
              "      <th></th>\n",
              "    </tr>\n",
              "  </thead>\n",
              "  <tbody>\n",
              "    <tr>\n",
              "      <th>30-09-2018</th>\n",
              "      <td>210</td>\n",
              "    </tr>\n",
              "    <tr>\n",
              "      <th>31-08-2018</th>\n",
              "      <td>205</td>\n",
              "    </tr>\n",
              "    <tr>\n",
              "      <th>31-07-2018</th>\n",
              "      <td>211</td>\n",
              "    </tr>\n",
              "    <tr>\n",
              "      <th>30-06-2018</th>\n",
              "      <td>211</td>\n",
              "    </tr>\n",
              "    <tr>\n",
              "      <th>31-05-2018</th>\n",
              "      <td>214</td>\n",
              "    </tr>\n",
              "  </tbody>\n",
              "</table>\n",
              "</div>"
            ],
            "text/plain": [
              "            77006_HPI\n",
              "Date                 \n",
              "30-09-2018        210\n",
              "31-08-2018        205\n",
              "31-07-2018        211\n",
              "30-06-2018        211\n",
              "31-05-2018        214"
            ]
          },
          "metadata": {
            "tags": []
          },
          "execution_count": 18
        }
      ]
    },
    {
      "cell_type": "markdown",
      "metadata": {
        "id": "qeLOnogiGJY3"
      },
      "source": [
        "Reading data from csv files with no columns titles"
      ]
    },
    {
      "cell_type": "code",
      "metadata": {
        "id": "0E_p5n97JM-C",
        "colab": {
          "base_uri": "https://localhost:8080/",
          "height": 225
        },
        "outputId": "f23b0886-c378-443c-e0a1-2ca243697d76"
      },
      "source": [
        "df=pd.read_csv('/content/drive/My Drive/Colab Notebooks/Data/Book2.csv', names=['Date','Y','Z'], index_col=0)\n",
        "df.head()"
      ],
      "execution_count": null,
      "outputs": [
        {
          "output_type": "execute_result",
          "data": {
            "text/html": [
              "<div>\n",
              "<style scoped>\n",
              "    .dataframe tbody tr th:only-of-type {\n",
              "        vertical-align: middle;\n",
              "    }\n",
              "\n",
              "    .dataframe tbody tr th {\n",
              "        vertical-align: top;\n",
              "    }\n",
              "\n",
              "    .dataframe thead th {\n",
              "        text-align: right;\n",
              "    }\n",
              "</style>\n",
              "<table border=\"1\" class=\"dataframe\">\n",
              "  <thead>\n",
              "    <tr style=\"text-align: right;\">\n",
              "      <th></th>\n",
              "      <th>Y</th>\n",
              "      <th>Z</th>\n",
              "    </tr>\n",
              "    <tr>\n",
              "      <th>Date</th>\n",
              "      <th></th>\n",
              "      <th></th>\n",
              "    </tr>\n",
              "  </thead>\n",
              "  <tbody>\n",
              "    <tr>\n",
              "      <th>31-08-1982</th>\n",
              "      <td>76.90</td>\n",
              "      <td>75.50</td>\n",
              "    </tr>\n",
              "    <tr>\n",
              "      <th>31-07-1982</th>\n",
              "      <td>76.56</td>\n",
              "      <td>75.18</td>\n",
              "    </tr>\n",
              "    <tr>\n",
              "      <th>30-06-1982</th>\n",
              "      <td>76.12</td>\n",
              "      <td>75.07</td>\n",
              "    </tr>\n",
              "    <tr>\n",
              "      <th>31-05-1982</th>\n",
              "      <td>75.57</td>\n",
              "      <td>74.95</td>\n",
              "    </tr>\n",
              "    <tr>\n",
              "      <th>30-04-1982</th>\n",
              "      <td>74.95</td>\n",
              "      <td>74.70</td>\n",
              "    </tr>\n",
              "  </tbody>\n",
              "</table>\n",
              "</div>"
            ],
            "text/plain": [
              "                Y      Z\n",
              "Date                    \n",
              "31-08-1982  76.90  75.50\n",
              "31-07-1982  76.56  75.18\n",
              "30-06-1982  76.12  75.07\n",
              "31-05-1982  75.57  74.95\n",
              "30-04-1982  74.95  74.70"
            ]
          },
          "metadata": {
            "tags": []
          },
          "execution_count": 27
        }
      ]
    },
    {
      "cell_type": "markdown",
      "metadata": {
        "id": "sQju7aK8Mxig"
      },
      "source": [
        "**Fetching Data from Quandl package**"
      ]
    },
    {
      "cell_type": "code",
      "metadata": {
        "id": "s7IMARLLLnJ4"
      },
      "source": [
        "! pip install Quandl"
      ],
      "execution_count": null,
      "outputs": []
    },
    {
      "cell_type": "code",
      "metadata": {
        "id": "S0WDVZ23LsjQ"
      },
      "source": [
        "import quandl\n",
        "df= quandl.get(\"FMAC/HPI_AK\")\n",
        "df.head()"
      ],
      "execution_count": null,
      "outputs": []
    },
    {
      "cell_type": "markdown",
      "metadata": {
        "id": "ukJcC-D_PMVZ"
      },
      "source": [
        "**Fetching Data from a website**\n",
        "\n",
        "This will create a list of dataframes"
      ]
    },
    {
      "cell_type": "code",
      "metadata": {
        "id": "49YRIkrBOZkC",
        "colab": {
          "base_uri": "https://localhost:8080/",
          "height": 1000
        },
        "outputId": "febbeeaa-e672-4a45-9ef8-12d0dc0e255f"
      },
      "source": [
        "abbwebsite=pd.read_html('https://simple.wikipedia.org/wiki/U.S._postal_abbreviations')\n",
        "print(abbwebsite)"
      ],
      "execution_count": null,
      "outputs": [
        {
          "output_type": "stream",
          "text": [
            "[                                                    0               1\n",
            "0   State Abbreviation State Name AK Alaska AL Ala...             NaN\n",
            "1                                  State Abbreviation      State Name\n",
            "2                                                  AK          Alaska\n",
            "3                                                  AL         Alabama\n",
            "4                                                  AR        Arkansas\n",
            "5                                                  AZ         Arizona\n",
            "6                                                  CA      California\n",
            "7                                                  CO        Colorado\n",
            "8                                                  CT     Connecticut\n",
            "9                                                  DE        Delaware\n",
            "10                                                 FL         Florida\n",
            "11                                                 GA         Georgia\n",
            "12                                                 HI          Hawaii\n",
            "13                                                 IA            Iowa\n",
            "14                                                 ID           Idaho\n",
            "15                                                 IL        Illinois\n",
            "16                                                 IN         Indiana\n",
            "17                                                 KS          Kansas\n",
            "18                                                 KY        Kentucky\n",
            "19                                                 LA       Louisiana\n",
            "20                                                 MA   Massachusetts\n",
            "21                                                 MD        Maryland\n",
            "22                                                 ME           Maine\n",
            "23                                                 MI        Michigan\n",
            "24                                                 MN       Minnesota\n",
            "25                                                 MO        Missouri\n",
            "26                                                 MS     Mississippi\n",
            "27                                                 MT         Montana\n",
            "28                                                 NC  North Carolina\n",
            "29                                                 ND    North Dakota\n",
            "30                                                 NE        Nebraska\n",
            "31                                                 NH   New Hampshire\n",
            "32                                                 NJ      New Jersey\n",
            "33                                                 NM      New Mexico\n",
            "34                                                 NV          Nevada\n",
            "35                                                 NY        New York\n",
            "36                                                 OH            Ohio\n",
            "37                                                 OK        Oklahoma\n",
            "38                                                 OR          Oregon\n",
            "39                                                 PA    Pennsylvania\n",
            "40                                                 RI    Rhode Island\n",
            "41                                                 SC  South Carolina\n",
            "42                                                 SD    South Dakota\n",
            "43                                                 TN       Tennessee\n",
            "44                                                 TX           Texas\n",
            "45                                                 UT            Utah\n",
            "46                                                 VA        Virginia\n",
            "47                                                 VT         Vermont\n",
            "48                                                 WA      Washington\n",
            "49                                                 WI       Wisconsin\n",
            "50                                                 WV   West Virginia\n",
            "51                                                 WY         Wyoming,    State Abbreviation      State Name\n",
            "0                  AK          Alaska\n",
            "1                  AL         Alabama\n",
            "2                  AR        Arkansas\n",
            "3                  AZ         Arizona\n",
            "4                  CA      California\n",
            "5                  CO        Colorado\n",
            "6                  CT     Connecticut\n",
            "7                  DE        Delaware\n",
            "8                  FL         Florida\n",
            "9                  GA         Georgia\n",
            "10                 HI          Hawaii\n",
            "11                 IA            Iowa\n",
            "12                 ID           Idaho\n",
            "13                 IL        Illinois\n",
            "14                 IN         Indiana\n",
            "15                 KS          Kansas\n",
            "16                 KY        Kentucky\n",
            "17                 LA       Louisiana\n",
            "18                 MA   Massachusetts\n",
            "19                 MD        Maryland\n",
            "20                 ME           Maine\n",
            "21                 MI        Michigan\n",
            "22                 MN       Minnesota\n",
            "23                 MO        Missouri\n",
            "24                 MS     Mississippi\n",
            "25                 MT         Montana\n",
            "26                 NC  North Carolina\n",
            "27                 ND    North Dakota\n",
            "28                 NE        Nebraska\n",
            "29                 NH   New Hampshire\n",
            "30                 NJ      New Jersey\n",
            "31                 NM      New Mexico\n",
            "32                 NV          Nevada\n",
            "33                 NY        New York\n",
            "34                 OH            Ohio\n",
            "35                 OK        Oklahoma\n",
            "36                 OR          Oregon\n",
            "37                 PA    Pennsylvania\n",
            "38                 RI    Rhode Island\n",
            "39                 SC  South Carolina\n",
            "40                 SD    South Dakota\n",
            "41                 TN       Tennessee\n",
            "42                 TX           Texas\n",
            "43                 UT            Utah\n",
            "44                 VA        Virginia\n",
            "45                 VT         Vermont\n",
            "46                 WA      Washington\n",
            "47                 WI       Wisconsin\n",
            "48                 WV   West Virginia\n",
            "49                 WY         Wyoming,   Abbreviation              Location\n",
            "0           DC  District of Columbia,   Abbreviation                  Location\n",
            "0           AS            American Samoa\n",
            "1           GU                      Guam\n",
            "2           MP  Northern Mariana Islands\n",
            "3           PR               Puerto Rico\n",
            "4           VI       U.S. Virgin Islands,   Abbreviation                        Location\n",
            "0           FM  Federated States of Micronesia\n",
            "1           MH                Marshall Islands\n",
            "2           PW                           Palau,   Abbreviation                                           Location\n",
            "0           AA              Armed Forces Americas (except Canada)\n",
            "1           AE  Armed Forces Europe (covers all USARAEUR)Armed...\n",
            "2           AP                               Armed Forces Pacific,   Abbreviation                                Location\n",
            "0           CZ                              Canal Zone\n",
            "1           TT  Trust Territory of the Pacific Islands\n",
            "2           PI                             Rizal state]\n"
          ],
          "name": "stdout"
        }
      ]
    },
    {
      "cell_type": "code",
      "metadata": {
        "id": "G3wuhAUIPZm3",
        "colab": {
          "base_uri": "https://localhost:8080/",
          "height": 195
        },
        "outputId": "b3f30f15-2a74-405f-b9c5-3fd9b05bb30c"
      },
      "source": [
        "abbwebsite[0].head()"
      ],
      "execution_count": null,
      "outputs": [
        {
          "output_type": "execute_result",
          "data": {
            "text/html": [
              "<div>\n",
              "<style scoped>\n",
              "    .dataframe tbody tr th:only-of-type {\n",
              "        vertical-align: middle;\n",
              "    }\n",
              "\n",
              "    .dataframe tbody tr th {\n",
              "        vertical-align: top;\n",
              "    }\n",
              "\n",
              "    .dataframe thead th {\n",
              "        text-align: right;\n",
              "    }\n",
              "</style>\n",
              "<table border=\"1\" class=\"dataframe\">\n",
              "  <thead>\n",
              "    <tr style=\"text-align: right;\">\n",
              "      <th></th>\n",
              "      <th>0</th>\n",
              "      <th>1</th>\n",
              "    </tr>\n",
              "  </thead>\n",
              "  <tbody>\n",
              "    <tr>\n",
              "      <th>0</th>\n",
              "      <td>State Abbreviation State Name AK Alaska AL Ala...</td>\n",
              "      <td>NaN</td>\n",
              "    </tr>\n",
              "    <tr>\n",
              "      <th>1</th>\n",
              "      <td>State Abbreviation</td>\n",
              "      <td>State Name</td>\n",
              "    </tr>\n",
              "    <tr>\n",
              "      <th>2</th>\n",
              "      <td>AK</td>\n",
              "      <td>Alaska</td>\n",
              "    </tr>\n",
              "    <tr>\n",
              "      <th>3</th>\n",
              "      <td>AL</td>\n",
              "      <td>Alabama</td>\n",
              "    </tr>\n",
              "    <tr>\n",
              "      <th>4</th>\n",
              "      <td>AR</td>\n",
              "      <td>Arkansas</td>\n",
              "    </tr>\n",
              "  </tbody>\n",
              "</table>\n",
              "</div>"
            ],
            "text/plain": [
              "                                                   0           1\n",
              "0  State Abbreviation State Name AK Alaska AL Ala...         NaN\n",
              "1                                 State Abbreviation  State Name\n",
              "2                                                 AK      Alaska\n",
              "3                                                 AL     Alabama\n",
              "4                                                 AR    Arkansas"
            ]
          },
          "metadata": {
            "tags": []
          },
          "execution_count": 24
        }
      ]
    },
    {
      "cell_type": "markdown",
      "metadata": {
        "id": "8ct-KkG2Qom2"
      },
      "source": [
        "Creating required dataframe"
      ]
    },
    {
      "cell_type": "code",
      "metadata": {
        "id": "PWdpQPoGPkwO",
        "colab": {
          "base_uri": "https://localhost:8080/",
          "height": 195
        },
        "outputId": "dcc05f24-2406-4044-9fd5-045d9c2f09f6"
      },
      "source": [
        "abb_df=abbwebsite[0][1:]\n",
        "abb_df.head()"
      ],
      "execution_count": null,
      "outputs": [
        {
          "output_type": "execute_result",
          "data": {
            "text/html": [
              "<div>\n",
              "<style scoped>\n",
              "    .dataframe tbody tr th:only-of-type {\n",
              "        vertical-align: middle;\n",
              "    }\n",
              "\n",
              "    .dataframe tbody tr th {\n",
              "        vertical-align: top;\n",
              "    }\n",
              "\n",
              "    .dataframe thead th {\n",
              "        text-align: right;\n",
              "    }\n",
              "</style>\n",
              "<table border=\"1\" class=\"dataframe\">\n",
              "  <thead>\n",
              "    <tr style=\"text-align: right;\">\n",
              "      <th></th>\n",
              "      <th>0</th>\n",
              "      <th>1</th>\n",
              "    </tr>\n",
              "  </thead>\n",
              "  <tbody>\n",
              "    <tr>\n",
              "      <th>1</th>\n",
              "      <td>State Abbreviation</td>\n",
              "      <td>State Name</td>\n",
              "    </tr>\n",
              "    <tr>\n",
              "      <th>2</th>\n",
              "      <td>AK</td>\n",
              "      <td>Alaska</td>\n",
              "    </tr>\n",
              "    <tr>\n",
              "      <th>3</th>\n",
              "      <td>AL</td>\n",
              "      <td>Alabama</td>\n",
              "    </tr>\n",
              "    <tr>\n",
              "      <th>4</th>\n",
              "      <td>AR</td>\n",
              "      <td>Arkansas</td>\n",
              "    </tr>\n",
              "    <tr>\n",
              "      <th>5</th>\n",
              "      <td>AZ</td>\n",
              "      <td>Arizona</td>\n",
              "    </tr>\n",
              "  </tbody>\n",
              "</table>\n",
              "</div>"
            ],
            "text/plain": [
              "                    0           1\n",
              "1  State Abbreviation  State Name\n",
              "2                  AK      Alaska\n",
              "3                  AL     Alabama\n",
              "4                  AR    Arkansas\n",
              "5                  AZ     Arizona"
            ]
          },
          "metadata": {
            "tags": []
          },
          "execution_count": 25
        }
      ]
    },
    {
      "cell_type": "code",
      "metadata": {
        "id": "G2exeQOXQyEI",
        "colab": {
          "base_uri": "https://localhost:8080/",
          "height": 54
        },
        "outputId": "b4e9fd71-610e-4b87-d382-a30ff32cc279"
      },
      "source": [
        "abb_list=[]\n",
        "for abb in abb_df[1:][0]:\n",
        "  abb_list.append(\"FMAC/HPI_\"+abb)\n",
        "print (abb_list)"
      ],
      "execution_count": null,
      "outputs": [
        {
          "output_type": "stream",
          "text": [
            "['FMAC/HPI_AK', 'FMAC/HPI_AL', 'FMAC/HPI_AR', 'FMAC/HPI_AZ', 'FMAC/HPI_CA', 'FMAC/HPI_CO', 'FMAC/HPI_CT', 'FMAC/HPI_DE', 'FMAC/HPI_FL', 'FMAC/HPI_GA', 'FMAC/HPI_HI', 'FMAC/HPI_IA', 'FMAC/HPI_ID', 'FMAC/HPI_IL', 'FMAC/HPI_IN', 'FMAC/HPI_KS', 'FMAC/HPI_KY', 'FMAC/HPI_LA', 'FMAC/HPI_MA', 'FMAC/HPI_MD', 'FMAC/HPI_ME', 'FMAC/HPI_MI', 'FMAC/HPI_MN', 'FMAC/HPI_MO', 'FMAC/HPI_MS', 'FMAC/HPI_MT', 'FMAC/HPI_NC', 'FMAC/HPI_ND', 'FMAC/HPI_NE', 'FMAC/HPI_NH', 'FMAC/HPI_NJ', 'FMAC/HPI_NM', 'FMAC/HPI_NV', 'FMAC/HPI_NY', 'FMAC/HPI_OH', 'FMAC/HPI_OK', 'FMAC/HPI_OR', 'FMAC/HPI_PA', 'FMAC/HPI_RI', 'FMAC/HPI_SC', 'FMAC/HPI_SD', 'FMAC/HPI_TN', 'FMAC/HPI_TX', 'FMAC/HPI_UT', 'FMAC/HPI_VA', 'FMAC/HPI_VT', 'FMAC/HPI_WA', 'FMAC/HPI_WI', 'FMAC/HPI_WV', 'FMAC/HPI_WY']\n"
          ],
          "name": "stdout"
        }
      ]
    },
    {
      "cell_type": "markdown",
      "metadata": {
        "id": "D8cIKi9JgUWj"
      },
      "source": [
        "Concatenation and Appending"
      ]
    },
    {
      "cell_type": "code",
      "metadata": {
        "id": "ve2-PgrZgmO8"
      },
      "source": [
        "df1 = pd.DataFrame({'HPI':[80,85,88,85],\n",
        "                    'Int_rate':[2, 3, 2, 2],\n",
        "                    'US_GDP_Thousands':[50, 55, 65, 55]},\n",
        "                   index = [2001, 2002, 2003, 2004])\n",
        "\n",
        "df2 = pd.DataFrame({'HPI':[80,85,88,85],\n",
        "                    'Int_rate':[2, 3, 2, 2],\n",
        "                    'US_GDP_Thousands':[50, 55, 65, 55]},\n",
        "                   index = [2005, 2006, 2007, 2008])\n",
        "\n",
        "df3 = pd.DataFrame({'HPI':[80,85,88,85],\n",
        "                    'Int_rate':[2, 3, 2, 2],\n",
        "                    'Low_tier_HPI':[50, 52, 50, 53]},\n",
        "                   index = [2001, 2002, 2003, 2004])"
      ],
      "execution_count": null,
      "outputs": []
    },
    {
      "cell_type": "code",
      "metadata": {
        "id": "8taI-7E-hWId",
        "colab": {
          "base_uri": "https://localhost:8080/",
          "height": 168
        },
        "outputId": "90be5877-e5ba-46e6-aa64-beaa7641f207"
      },
      "source": [
        "concat=pd.concat([df1,df2])\n",
        "print(concat)"
      ],
      "execution_count": null,
      "outputs": [
        {
          "output_type": "stream",
          "text": [
            "      HPI  Int_rate  US_GDP_Thousands\n",
            "2001   80         2                50\n",
            "2002   85         3                55\n",
            "2003   88         2                65\n",
            "2004   85         2                55\n",
            "2005   80         2                50\n",
            "2006   85         3                55\n",
            "2007   88         2                65\n",
            "2008   85         2                55\n"
          ],
          "name": "stdout"
        }
      ]
    },
    {
      "cell_type": "markdown",
      "metadata": {
        "id": "JFxDwjijBMrw"
      },
      "source": [
        "All columns are not same so give NaN value"
      ]
    },
    {
      "cell_type": "code",
      "metadata": {
        "id": "RZ1x-I_WhuWx",
        "colab": {
          "base_uri": "https://localhost:8080/",
          "height": 402
        },
        "outputId": "5870ba2d-d40a-4fbd-b9d7-0536f8a7d1d2"
      },
      "source": [
        "concat=pd.concat([df1,df2,df3])\n",
        "concat"
      ],
      "execution_count": null,
      "outputs": [
        {
          "output_type": "execute_result",
          "data": {
            "text/html": [
              "<div>\n",
              "<style scoped>\n",
              "    .dataframe tbody tr th:only-of-type {\n",
              "        vertical-align: middle;\n",
              "    }\n",
              "\n",
              "    .dataframe tbody tr th {\n",
              "        vertical-align: top;\n",
              "    }\n",
              "\n",
              "    .dataframe thead th {\n",
              "        text-align: right;\n",
              "    }\n",
              "</style>\n",
              "<table border=\"1\" class=\"dataframe\">\n",
              "  <thead>\n",
              "    <tr style=\"text-align: right;\">\n",
              "      <th></th>\n",
              "      <th>HPI</th>\n",
              "      <th>Int_rate</th>\n",
              "      <th>US_GDP_Thousands</th>\n",
              "      <th>Low_tier_HPI</th>\n",
              "    </tr>\n",
              "  </thead>\n",
              "  <tbody>\n",
              "    <tr>\n",
              "      <th>2001</th>\n",
              "      <td>80</td>\n",
              "      <td>2</td>\n",
              "      <td>50.0</td>\n",
              "      <td>NaN</td>\n",
              "    </tr>\n",
              "    <tr>\n",
              "      <th>2002</th>\n",
              "      <td>85</td>\n",
              "      <td>3</td>\n",
              "      <td>55.0</td>\n",
              "      <td>NaN</td>\n",
              "    </tr>\n",
              "    <tr>\n",
              "      <th>2003</th>\n",
              "      <td>88</td>\n",
              "      <td>2</td>\n",
              "      <td>65.0</td>\n",
              "      <td>NaN</td>\n",
              "    </tr>\n",
              "    <tr>\n",
              "      <th>2004</th>\n",
              "      <td>85</td>\n",
              "      <td>2</td>\n",
              "      <td>55.0</td>\n",
              "      <td>NaN</td>\n",
              "    </tr>\n",
              "    <tr>\n",
              "      <th>2005</th>\n",
              "      <td>80</td>\n",
              "      <td>2</td>\n",
              "      <td>50.0</td>\n",
              "      <td>NaN</td>\n",
              "    </tr>\n",
              "    <tr>\n",
              "      <th>2006</th>\n",
              "      <td>85</td>\n",
              "      <td>3</td>\n",
              "      <td>55.0</td>\n",
              "      <td>NaN</td>\n",
              "    </tr>\n",
              "    <tr>\n",
              "      <th>2007</th>\n",
              "      <td>88</td>\n",
              "      <td>2</td>\n",
              "      <td>65.0</td>\n",
              "      <td>NaN</td>\n",
              "    </tr>\n",
              "    <tr>\n",
              "      <th>2008</th>\n",
              "      <td>85</td>\n",
              "      <td>2</td>\n",
              "      <td>55.0</td>\n",
              "      <td>NaN</td>\n",
              "    </tr>\n",
              "    <tr>\n",
              "      <th>2001</th>\n",
              "      <td>80</td>\n",
              "      <td>2</td>\n",
              "      <td>NaN</td>\n",
              "      <td>50.0</td>\n",
              "    </tr>\n",
              "    <tr>\n",
              "      <th>2002</th>\n",
              "      <td>85</td>\n",
              "      <td>3</td>\n",
              "      <td>NaN</td>\n",
              "      <td>52.0</td>\n",
              "    </tr>\n",
              "    <tr>\n",
              "      <th>2003</th>\n",
              "      <td>88</td>\n",
              "      <td>2</td>\n",
              "      <td>NaN</td>\n",
              "      <td>50.0</td>\n",
              "    </tr>\n",
              "    <tr>\n",
              "      <th>2004</th>\n",
              "      <td>85</td>\n",
              "      <td>2</td>\n",
              "      <td>NaN</td>\n",
              "      <td>53.0</td>\n",
              "    </tr>\n",
              "  </tbody>\n",
              "</table>\n",
              "</div>"
            ],
            "text/plain": [
              "      HPI  Int_rate  US_GDP_Thousands  Low_tier_HPI\n",
              "2001   80         2              50.0           NaN\n",
              "2002   85         3              55.0           NaN\n",
              "2003   88         2              65.0           NaN\n",
              "2004   85         2              55.0           NaN\n",
              "2005   80         2              50.0           NaN\n",
              "2006   85         3              55.0           NaN\n",
              "2007   88         2              65.0           NaN\n",
              "2008   85         2              55.0           NaN\n",
              "2001   80         2               NaN          50.0\n",
              "2002   85         3               NaN          52.0\n",
              "2003   88         2               NaN          50.0\n",
              "2004   85         2               NaN          53.0"
            ]
          },
          "metadata": {
            "tags": []
          },
          "execution_count": 37
        }
      ]
    },
    {
      "cell_type": "code",
      "metadata": {
        "id": "6q8X7TG4iY_w",
        "colab": {
          "base_uri": "https://localhost:8080/",
          "height": 284
        },
        "outputId": "91d0f25b-9271-4e55-d115-4769cf4bdcfc"
      },
      "source": [
        "df4=df1.append(df2)\n",
        "df5=df1.append(df3)\n",
        "df4\n",
        "df5"
      ],
      "execution_count": null,
      "outputs": [
        {
          "output_type": "execute_result",
          "data": {
            "text/html": [
              "<div>\n",
              "<style scoped>\n",
              "    .dataframe tbody tr th:only-of-type {\n",
              "        vertical-align: middle;\n",
              "    }\n",
              "\n",
              "    .dataframe tbody tr th {\n",
              "        vertical-align: top;\n",
              "    }\n",
              "\n",
              "    .dataframe thead th {\n",
              "        text-align: right;\n",
              "    }\n",
              "</style>\n",
              "<table border=\"1\" class=\"dataframe\">\n",
              "  <thead>\n",
              "    <tr style=\"text-align: right;\">\n",
              "      <th></th>\n",
              "      <th>HPI</th>\n",
              "      <th>Int_rate</th>\n",
              "      <th>US_GDP_Thousands</th>\n",
              "      <th>Low_tier_HPI</th>\n",
              "    </tr>\n",
              "  </thead>\n",
              "  <tbody>\n",
              "    <tr>\n",
              "      <th>2001</th>\n",
              "      <td>80</td>\n",
              "      <td>2</td>\n",
              "      <td>50.0</td>\n",
              "      <td>NaN</td>\n",
              "    </tr>\n",
              "    <tr>\n",
              "      <th>2002</th>\n",
              "      <td>85</td>\n",
              "      <td>3</td>\n",
              "      <td>55.0</td>\n",
              "      <td>NaN</td>\n",
              "    </tr>\n",
              "    <tr>\n",
              "      <th>2003</th>\n",
              "      <td>88</td>\n",
              "      <td>2</td>\n",
              "      <td>65.0</td>\n",
              "      <td>NaN</td>\n",
              "    </tr>\n",
              "    <tr>\n",
              "      <th>2004</th>\n",
              "      <td>85</td>\n",
              "      <td>2</td>\n",
              "      <td>55.0</td>\n",
              "      <td>NaN</td>\n",
              "    </tr>\n",
              "    <tr>\n",
              "      <th>2001</th>\n",
              "      <td>80</td>\n",
              "      <td>2</td>\n",
              "      <td>NaN</td>\n",
              "      <td>50.0</td>\n",
              "    </tr>\n",
              "    <tr>\n",
              "      <th>2002</th>\n",
              "      <td>85</td>\n",
              "      <td>3</td>\n",
              "      <td>NaN</td>\n",
              "      <td>52.0</td>\n",
              "    </tr>\n",
              "    <tr>\n",
              "      <th>2003</th>\n",
              "      <td>88</td>\n",
              "      <td>2</td>\n",
              "      <td>NaN</td>\n",
              "      <td>50.0</td>\n",
              "    </tr>\n",
              "    <tr>\n",
              "      <th>2004</th>\n",
              "      <td>85</td>\n",
              "      <td>2</td>\n",
              "      <td>NaN</td>\n",
              "      <td>53.0</td>\n",
              "    </tr>\n",
              "  </tbody>\n",
              "</table>\n",
              "</div>"
            ],
            "text/plain": [
              "      HPI  Int_rate  US_GDP_Thousands  Low_tier_HPI\n",
              "2001   80         2              50.0           NaN\n",
              "2002   85         3              55.0           NaN\n",
              "2003   88         2              65.0           NaN\n",
              "2004   85         2              55.0           NaN\n",
              "2001   80         2               NaN          50.0\n",
              "2002   85         3               NaN          52.0\n",
              "2003   88         2               NaN          50.0\n",
              "2004   85         2               NaN          53.0"
            ]
          },
          "metadata": {
            "tags": []
          },
          "execution_count": 38
        }
      ]
    },
    {
      "cell_type": "markdown",
      "metadata": {
        "id": "5k_3YqpZjTf_"
      },
      "source": [
        "Appending a series, (adding a row in the end)"
      ]
    },
    {
      "cell_type": "code",
      "metadata": {
        "id": "ztZi2XiejGbt",
        "colab": {
          "base_uri": "https://localhost:8080/",
          "height": 195
        },
        "outputId": "6868d1a7-dda5-4ab2-d876-57d5db05c966"
      },
      "source": [
        "s = pd.Series([80,2,50], index=['HPI','Int_rate','US_GDP_Thousands'])\n",
        "df4 = df1.append(s, ignore_index=True)\n",
        "df4"
      ],
      "execution_count": null,
      "outputs": [
        {
          "output_type": "execute_result",
          "data": {
            "text/html": [
              "<div>\n",
              "<style scoped>\n",
              "    .dataframe tbody tr th:only-of-type {\n",
              "        vertical-align: middle;\n",
              "    }\n",
              "\n",
              "    .dataframe tbody tr th {\n",
              "        vertical-align: top;\n",
              "    }\n",
              "\n",
              "    .dataframe thead th {\n",
              "        text-align: right;\n",
              "    }\n",
              "</style>\n",
              "<table border=\"1\" class=\"dataframe\">\n",
              "  <thead>\n",
              "    <tr style=\"text-align: right;\">\n",
              "      <th></th>\n",
              "      <th>HPI</th>\n",
              "      <th>Int_rate</th>\n",
              "      <th>US_GDP_Thousands</th>\n",
              "    </tr>\n",
              "  </thead>\n",
              "  <tbody>\n",
              "    <tr>\n",
              "      <th>0</th>\n",
              "      <td>80</td>\n",
              "      <td>2</td>\n",
              "      <td>50</td>\n",
              "    </tr>\n",
              "    <tr>\n",
              "      <th>1</th>\n",
              "      <td>85</td>\n",
              "      <td>3</td>\n",
              "      <td>55</td>\n",
              "    </tr>\n",
              "    <tr>\n",
              "      <th>2</th>\n",
              "      <td>88</td>\n",
              "      <td>2</td>\n",
              "      <td>65</td>\n",
              "    </tr>\n",
              "    <tr>\n",
              "      <th>3</th>\n",
              "      <td>85</td>\n",
              "      <td>2</td>\n",
              "      <td>55</td>\n",
              "    </tr>\n",
              "    <tr>\n",
              "      <th>4</th>\n",
              "      <td>80</td>\n",
              "      <td>2</td>\n",
              "      <td>50</td>\n",
              "    </tr>\n",
              "  </tbody>\n",
              "</table>\n",
              "</div>"
            ],
            "text/plain": [
              "   HPI  Int_rate  US_GDP_Thousands\n",
              "0   80         2                50\n",
              "1   85         3                55\n",
              "2   88         2                65\n",
              "3   85         2                55\n",
              "4   80         2                50"
            ]
          },
          "metadata": {
            "tags": []
          },
          "execution_count": 39
        }
      ]
    },
    {
      "cell_type": "markdown",
      "metadata": {
        "id": "zf8_y8Pwr-Ho"
      },
      "source": [
        "**Joining and Merging**"
      ]
    },
    {
      "cell_type": "code",
      "metadata": {
        "id": "s-UF5kHLmePA"
      },
      "source": [
        "df1 = pd.DataFrame({'HPI':[80,85,88,85],\n",
        "                    'Int_rate':[2, 3, 2, 2],\n",
        "                    'US_GDP_Thousands':[50, 55, 65, 55]},\n",
        "                   index = [2001, 2002, 2003, 2004])\n",
        "\n",
        "df2 = pd.DataFrame({'HPI':[80,85,88,85],\n",
        "                    'Int_rate':[2, 3, 2, 2],\n",
        "                    'US_GDP_Thousands':[50, 55, 65, 55]},\n",
        "                   index = [2005, 2006, 2007, 2008])\n",
        "\n",
        "df3 = pd.DataFrame({'HPI':[80,85,88,85],\n",
        "                    'Unemployment':[7, 8, 9, 6],\n",
        "                    'Low_tier_HPI':[50, 52, 50, 53]},\n",
        "                   index = [2001, 2002, 2003, 2004])"
      ],
      "execution_count": null,
      "outputs": []
    },
    {
      "cell_type": "code",
      "metadata": {
        "id": "AjCYEIZ8mndn",
        "colab": {
          "base_uri": "https://localhost:8080/",
          "height": 225
        },
        "outputId": "b250384d-3eca-47ed-fdd5-13e68ec420b8"
      },
      "source": [
        "pd.merge(df1,df3, on='HPI')"
      ],
      "execution_count": null,
      "outputs": [
        {
          "output_type": "execute_result",
          "data": {
            "text/html": [
              "<div>\n",
              "<style scoped>\n",
              "    .dataframe tbody tr th:only-of-type {\n",
              "        vertical-align: middle;\n",
              "    }\n",
              "\n",
              "    .dataframe tbody tr th {\n",
              "        vertical-align: top;\n",
              "    }\n",
              "\n",
              "    .dataframe thead th {\n",
              "        text-align: right;\n",
              "    }\n",
              "</style>\n",
              "<table border=\"1\" class=\"dataframe\">\n",
              "  <thead>\n",
              "    <tr style=\"text-align: right;\">\n",
              "      <th></th>\n",
              "      <th>HPI</th>\n",
              "      <th>Int_rate</th>\n",
              "      <th>US_GDP_Thousands</th>\n",
              "      <th>Unemployment</th>\n",
              "      <th>Low_tier_HPI</th>\n",
              "    </tr>\n",
              "  </thead>\n",
              "  <tbody>\n",
              "    <tr>\n",
              "      <th>0</th>\n",
              "      <td>80</td>\n",
              "      <td>2</td>\n",
              "      <td>50</td>\n",
              "      <td>7</td>\n",
              "      <td>50</td>\n",
              "    </tr>\n",
              "    <tr>\n",
              "      <th>1</th>\n",
              "      <td>85</td>\n",
              "      <td>3</td>\n",
              "      <td>55</td>\n",
              "      <td>8</td>\n",
              "      <td>52</td>\n",
              "    </tr>\n",
              "    <tr>\n",
              "      <th>2</th>\n",
              "      <td>85</td>\n",
              "      <td>3</td>\n",
              "      <td>55</td>\n",
              "      <td>6</td>\n",
              "      <td>53</td>\n",
              "    </tr>\n",
              "    <tr>\n",
              "      <th>3</th>\n",
              "      <td>85</td>\n",
              "      <td>2</td>\n",
              "      <td>55</td>\n",
              "      <td>8</td>\n",
              "      <td>52</td>\n",
              "    </tr>\n",
              "    <tr>\n",
              "      <th>4</th>\n",
              "      <td>85</td>\n",
              "      <td>2</td>\n",
              "      <td>55</td>\n",
              "      <td>6</td>\n",
              "      <td>53</td>\n",
              "    </tr>\n",
              "    <tr>\n",
              "      <th>5</th>\n",
              "      <td>88</td>\n",
              "      <td>2</td>\n",
              "      <td>65</td>\n",
              "      <td>9</td>\n",
              "      <td>50</td>\n",
              "    </tr>\n",
              "  </tbody>\n",
              "</table>\n",
              "</div>"
            ],
            "text/plain": [
              "   HPI  Int_rate  US_GDP_Thousands  Unemployment  Low_tier_HPI\n",
              "0   80         2                50             7            50\n",
              "1   85         3                55             8            52\n",
              "2   85         3                55             6            53\n",
              "3   85         2                55             8            52\n",
              "4   85         2                55             6            53\n",
              "5   88         2                65             9            50"
            ]
          },
          "metadata": {
            "tags": []
          },
          "execution_count": 51
        }
      ]
    },
    {
      "cell_type": "code",
      "metadata": {
        "id": "s7V_hcPwnGWe",
        "colab": {
          "base_uri": "https://localhost:8080/",
          "height": 166
        },
        "outputId": "a4237cc7-326d-48dd-d33d-74943b9305ac"
      },
      "source": [
        "pd.merge(df1,df2,on=['HPI','Int_rate'])"
      ],
      "execution_count": null,
      "outputs": [
        {
          "output_type": "execute_result",
          "data": {
            "text/html": [
              "<div>\n",
              "<style scoped>\n",
              "    .dataframe tbody tr th:only-of-type {\n",
              "        vertical-align: middle;\n",
              "    }\n",
              "\n",
              "    .dataframe tbody tr th {\n",
              "        vertical-align: top;\n",
              "    }\n",
              "\n",
              "    .dataframe thead th {\n",
              "        text-align: right;\n",
              "    }\n",
              "</style>\n",
              "<table border=\"1\" class=\"dataframe\">\n",
              "  <thead>\n",
              "    <tr style=\"text-align: right;\">\n",
              "      <th></th>\n",
              "      <th>HPI</th>\n",
              "      <th>Int_rate</th>\n",
              "      <th>US_GDP_Thousands_x</th>\n",
              "      <th>US_GDP_Thousands_y</th>\n",
              "    </tr>\n",
              "  </thead>\n",
              "  <tbody>\n",
              "    <tr>\n",
              "      <th>0</th>\n",
              "      <td>80</td>\n",
              "      <td>2</td>\n",
              "      <td>50</td>\n",
              "      <td>50</td>\n",
              "    </tr>\n",
              "    <tr>\n",
              "      <th>1</th>\n",
              "      <td>85</td>\n",
              "      <td>3</td>\n",
              "      <td>55</td>\n",
              "      <td>55</td>\n",
              "    </tr>\n",
              "    <tr>\n",
              "      <th>2</th>\n",
              "      <td>88</td>\n",
              "      <td>2</td>\n",
              "      <td>65</td>\n",
              "      <td>65</td>\n",
              "    </tr>\n",
              "    <tr>\n",
              "      <th>3</th>\n",
              "      <td>85</td>\n",
              "      <td>2</td>\n",
              "      <td>55</td>\n",
              "      <td>55</td>\n",
              "    </tr>\n",
              "  </tbody>\n",
              "</table>\n",
              "</div>"
            ],
            "text/plain": [
              "   HPI  Int_rate  US_GDP_Thousands_x  US_GDP_Thousands_y\n",
              "0   80         2                  50                  50\n",
              "1   85         3                  55                  55\n",
              "2   88         2                  65                  65\n",
              "3   85         2                  55                  55"
            ]
          },
          "metadata": {
            "tags": []
          },
          "execution_count": 52
        }
      ]
    },
    {
      "cell_type": "code",
      "metadata": {
        "id": "oeMqkRaIoEqH",
        "colab": {
          "base_uri": "https://localhost:8080/",
          "height": 254
        },
        "outputId": "59f76ccb-c447-4ffa-d72a-9f88dd19c271"
      },
      "source": [
        "df1.set_index('HPI', inplace=True)\n",
        "df3.set_index('HPI', inplace=True)\n",
        "joined=df1.join(df3)\n",
        "joined"
      ],
      "execution_count": null,
      "outputs": [
        {
          "output_type": "execute_result",
          "data": {
            "text/html": [
              "<div>\n",
              "<style scoped>\n",
              "    .dataframe tbody tr th:only-of-type {\n",
              "        vertical-align: middle;\n",
              "    }\n",
              "\n",
              "    .dataframe tbody tr th {\n",
              "        vertical-align: top;\n",
              "    }\n",
              "\n",
              "    .dataframe thead th {\n",
              "        text-align: right;\n",
              "    }\n",
              "</style>\n",
              "<table border=\"1\" class=\"dataframe\">\n",
              "  <thead>\n",
              "    <tr style=\"text-align: right;\">\n",
              "      <th></th>\n",
              "      <th>Int_rate</th>\n",
              "      <th>US_GDP_Thousands</th>\n",
              "      <th>Unemployment</th>\n",
              "      <th>Low_tier_HPI</th>\n",
              "    </tr>\n",
              "    <tr>\n",
              "      <th>HPI</th>\n",
              "      <th></th>\n",
              "      <th></th>\n",
              "      <th></th>\n",
              "      <th></th>\n",
              "    </tr>\n",
              "  </thead>\n",
              "  <tbody>\n",
              "    <tr>\n",
              "      <th>80</th>\n",
              "      <td>2</td>\n",
              "      <td>50</td>\n",
              "      <td>7</td>\n",
              "      <td>50</td>\n",
              "    </tr>\n",
              "    <tr>\n",
              "      <th>85</th>\n",
              "      <td>3</td>\n",
              "      <td>55</td>\n",
              "      <td>8</td>\n",
              "      <td>52</td>\n",
              "    </tr>\n",
              "    <tr>\n",
              "      <th>85</th>\n",
              "      <td>3</td>\n",
              "      <td>55</td>\n",
              "      <td>6</td>\n",
              "      <td>53</td>\n",
              "    </tr>\n",
              "    <tr>\n",
              "      <th>85</th>\n",
              "      <td>2</td>\n",
              "      <td>55</td>\n",
              "      <td>8</td>\n",
              "      <td>52</td>\n",
              "    </tr>\n",
              "    <tr>\n",
              "      <th>85</th>\n",
              "      <td>2</td>\n",
              "      <td>55</td>\n",
              "      <td>6</td>\n",
              "      <td>53</td>\n",
              "    </tr>\n",
              "    <tr>\n",
              "      <th>88</th>\n",
              "      <td>2</td>\n",
              "      <td>65</td>\n",
              "      <td>9</td>\n",
              "      <td>50</td>\n",
              "    </tr>\n",
              "  </tbody>\n",
              "</table>\n",
              "</div>"
            ],
            "text/plain": [
              "     Int_rate  US_GDP_Thousands  Unemployment  Low_tier_HPI\n",
              "HPI                                                        \n",
              "80          2                50             7            50\n",
              "85          3                55             8            52\n",
              "85          3                55             6            53\n",
              "85          2                55             8            52\n",
              "85          2                55             6            53\n",
              "88          2                65             9            50"
            ]
          },
          "metadata": {
            "tags": []
          },
          "execution_count": 53
        }
      ]
    },
    {
      "cell_type": "markdown",
      "metadata": {
        "id": "0Bfw2-IyrAKd"
      },
      "source": [
        "how()\n",
        "\n",
        "1.   left df\n",
        "2.   right df\n",
        "3.   outer(union)\n",
        "4.   inner(intersection)"
      ]
    },
    {
      "cell_type": "code",
      "metadata": {
        "id": "jziTypm_qcrC",
        "colab": {
          "base_uri": "https://localhost:8080/",
          "height": 225
        },
        "outputId": "1901dcf3-cd6d-4655-af41-579f4300868e"
      },
      "source": [
        "pd.merge(df1,df2, on='HPI', how='left')"
      ],
      "execution_count": null,
      "outputs": [
        {
          "output_type": "execute_result",
          "data": {
            "text/html": [
              "<div>\n",
              "<style scoped>\n",
              "    .dataframe tbody tr th:only-of-type {\n",
              "        vertical-align: middle;\n",
              "    }\n",
              "\n",
              "    .dataframe tbody tr th {\n",
              "        vertical-align: top;\n",
              "    }\n",
              "\n",
              "    .dataframe thead th {\n",
              "        text-align: right;\n",
              "    }\n",
              "</style>\n",
              "<table border=\"1\" class=\"dataframe\">\n",
              "  <thead>\n",
              "    <tr style=\"text-align: right;\">\n",
              "      <th></th>\n",
              "      <th>HPI</th>\n",
              "      <th>Int_rate_x</th>\n",
              "      <th>US_GDP_Thousands_x</th>\n",
              "      <th>Int_rate_y</th>\n",
              "      <th>US_GDP_Thousands_y</th>\n",
              "    </tr>\n",
              "  </thead>\n",
              "  <tbody>\n",
              "    <tr>\n",
              "      <th>0</th>\n",
              "      <td>80</td>\n",
              "      <td>2</td>\n",
              "      <td>50</td>\n",
              "      <td>2</td>\n",
              "      <td>50</td>\n",
              "    </tr>\n",
              "    <tr>\n",
              "      <th>1</th>\n",
              "      <td>85</td>\n",
              "      <td>3</td>\n",
              "      <td>55</td>\n",
              "      <td>3</td>\n",
              "      <td>55</td>\n",
              "    </tr>\n",
              "    <tr>\n",
              "      <th>2</th>\n",
              "      <td>85</td>\n",
              "      <td>3</td>\n",
              "      <td>55</td>\n",
              "      <td>2</td>\n",
              "      <td>55</td>\n",
              "    </tr>\n",
              "    <tr>\n",
              "      <th>3</th>\n",
              "      <td>88</td>\n",
              "      <td>2</td>\n",
              "      <td>65</td>\n",
              "      <td>2</td>\n",
              "      <td>65</td>\n",
              "    </tr>\n",
              "    <tr>\n",
              "      <th>4</th>\n",
              "      <td>85</td>\n",
              "      <td>2</td>\n",
              "      <td>55</td>\n",
              "      <td>3</td>\n",
              "      <td>55</td>\n",
              "    </tr>\n",
              "    <tr>\n",
              "      <th>5</th>\n",
              "      <td>85</td>\n",
              "      <td>2</td>\n",
              "      <td>55</td>\n",
              "      <td>2</td>\n",
              "      <td>55</td>\n",
              "    </tr>\n",
              "  </tbody>\n",
              "</table>\n",
              "</div>"
            ],
            "text/plain": [
              "   HPI  Int_rate_x  US_GDP_Thousands_x  Int_rate_y  US_GDP_Thousands_y\n",
              "0   80           2                  50           2                  50\n",
              "1   85           3                  55           3                  55\n",
              "2   85           3                  55           2                  55\n",
              "3   88           2                  65           2                  65\n",
              "4   85           2                  55           3                  55\n",
              "5   85           2                  55           2                  55"
            ]
          },
          "metadata": {
            "tags": []
          },
          "execution_count": 56
        }
      ]
    }
  ]
}